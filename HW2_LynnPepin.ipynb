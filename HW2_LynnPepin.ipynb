{
 "cells": [
  {
   "cell_type": "markdown",
   "id": "1293be89-c5a3-4b1c-a221-0d59eb810900",
   "metadata": {
    "tags": []
   },
   "source": [
    "# CSE 5520 Homework 2\n",
    "\n",
    "| | |\n",
    "|-|-|\n",
    "| **Student** | Lynn Pepin ('Tristan Pepin')\n",
    "|              | tmp13009 / 2079724\n",
    "| **Due date** | 2021 / Sept / 15\n",
    "\n",
    "\n",
    "This is Lynn Pepin's report for CSE 5520 homework 2."
   ]
  },
  {
   "cell_type": "markdown",
   "id": "2f12da66-d5ee-4b1b-8212-a74c582ac1ea",
   "metadata": {
    "tags": []
   },
   "source": [
    "# Part 1: Normal Distribution\n",
    "\n",
    "## Step 1.\n",
    "\n",
    "Download the NBA data (nba.csv) from HuskyCT which is available in the directory, called “Data Files”. This file is in csv format."
   ]
  },
  {
   "cell_type": "code",
   "execution_count": 1,
   "id": "76b52cef-d07d-4d80-a41d-0fdb3eebdcbc",
   "metadata": {},
   "outputs": [],
   "source": [
    "from math import * # i only ever import * from math, i swear, i swear!\n",
    "import numpy as np\n",
    "import pandas as pd\n",
    "import matplotlib.pyplot as plt\n",
    "import scipy.stats\n",
    "\n",
    "EPS = 0.000001 # epsilon used as an extremely small value constant\n",
    "FINAL = True # Constant, turned off for submitted HW\n",
    "nbadf = pd.read_csv(\"nba.csv\")"
   ]
  },
  {
   "cell_type": "markdown",
   "id": "a4db82fd-ef4e-472f-ad88-dc62af554b4a",
   "metadata": {},
   "source": [
    "## Step 2.\n",
    "\n",
    "Compute the mean and standard deviation of the heights of NBA players, say, mu and sigma, respectively."
   ]
  },
  {
   "cell_type": "code",
   "execution_count": 2,
   "id": "f304b16a-f2fe-4e54-8a21-eaeaa84d6583",
   "metadata": {},
   "outputs": [
    {
     "name": "stdout",
     "output_type": "stream",
     "text": [
      "NBA players have mean height 79.27 with std-dev 3.48\n"
     ]
    }
   ],
   "source": [
    "nbamu  = nbadf['Height'].mean(axis=0)\n",
    "nbastd = nbadf['Height'].std(axis=0)\n",
    "\n",
    "print(f\"NBA players have mean height {nbamu:.2f} with std-dev {nbastd:.2f}\")"
   ]
  },
  {
   "cell_type": "markdown",
   "id": "21035f5e-12e4-426d-a2f1-24f07d8825e9",
   "metadata": {},
   "source": [
    "## Step 3.\n",
    "\n",
    "Create a histogram summarizing the NBA player’s height distribution. Think what would be the desired x-axis’s interval for the plot.\n",
    "\n",
    "\n",
    "\n",
    "> *Lynn's thoughts: I think a value of '1' is a perfectly natural interval. This is close to the standard deviation too. And the heights are measured in intervals of 1, so I am using 1.*"
   ]
  },
  {
   "cell_type": "code",
   "execution_count": 3,
   "id": "ae2126b7-4edd-41e5-b4f9-ccb179a54e85",
   "metadata": {},
   "outputs": [
    {
     "data": {
      "text/plain": [
       "<AxesSubplot:>"
      ]
     },
     "execution_count": 3,
     "metadata": {},
     "output_type": "execute_result"
    },
    {
     "data": {
      "image/png": "[encoded data removed]",
      "text/plain": [
       "<Figure size 432x288 with 1 Axes>"
      ]
     },
     "metadata": {
      "needs_background": "light"
     },
     "output_type": "display_data"
    }
   ],
   "source": [
    "bin_range = range(\n",
    "    min(nbadf['Height']),\n",
    "    max(nbadf['Height'])\n",
    ")\n",
    "\n",
    "nbadf['Height'].hist(\n",
    "    bins=bin_range\n",
    ")"
   ]
  },
  {
   "cell_type": "markdown",
   "id": "3b562f86-9d01-455a-8da5-d870ae90ff46",
   "metadata": {},
   "source": [
    "## Step 4.\n",
    "Show the distribution using boxplot."
   ]
  },
  {
   "cell_type": "code",
   "execution_count": 4,
   "id": "863eb2dc-c7a0-48a8-9685-5e932384e754",
   "metadata": {},
   "outputs": [
    {
     "data": {
      "text/plain": [
       "<AxesSubplot:>"
      ]
     },
     "execution_count": 4,
     "metadata": {},
     "output_type": "execute_result"
    },
    {
     "data": {
      "image/png": "[encoded data removed]",
      "text/plain": [
       "<Figure size 432x288 with 1 Axes>"
      ]
     },
     "metadata": {
      "needs_background": "light"
     },
     "output_type": "display_data"
    }
   ],
   "source": [
    "nbadf.boxplot(column='Height')"
   ]
  },
  {
   "cell_type": "markdown",
   "id": "cf877eed-48db-49db-a21d-ee235d2afa2c",
   "metadata": {},
   "source": [
    "## Step 5.\n",
    "Show the distribution using violin plot."
   ]
  },
  {
   "cell_type": "code",
   "execution_count": 5,
   "id": "da61bb49-08b8-4165-99a4-b60dc8b021f6",
   "metadata": {},
   "outputs": [
    {
     "data": {
      "text/plain": [
       "{'bodies': [<matplotlib.collections.PolyCollection at 0x7f5b9749df40>],\n",
       " 'cmaxes': <matplotlib.collections.LineCollection at 0x7f5b9749ddf0>,\n",
       " 'cmins': <matplotlib.collections.LineCollection at 0x7f5b974b1490>,\n",
       " 'cbars': <matplotlib.collections.LineCollection at 0x7f5b974b17c0>}"
      ]
     },
     "execution_count": 5,
     "metadata": {},
     "output_type": "execute_result"
    },
    {
     "data": {
      "image/png": "[encoded data removed]",
      "text/plain": [
       "<Figure size 432x288 with 1 Axes>"
      ]
     },
     "metadata": {
      "needs_background": "light"
     },
     "output_type": "display_data"
    }
   ],
   "source": [
    "plt.violinplot(nbadf['Height'])"
   ]
  },
  {
   "cell_type": "markdown",
   "id": "fa5a9f0d-40bb-4217-9636-1ab02d01f4bf",
   "metadata": {},
   "source": [
    "## Step 6.\n",
    "Convert the histogram you created in Step 3 using z-values for the heights of the players.\n",
    "Think what would be the desired x-axis’s interval for the plot.\n",
    "\n",
    "\n",
    "> *Lynn's thoughts: The original height values have a resolution of '1'. I chose '1' previously because it matched this resolution, was close to the stddev, and because it's nice and naturally interpretable. But now, dividing by std-dev, we get something closer to a bin of 0.333.*\n",
    "> \n",
    "> *I will just use bin-sizes of 0.5, that seems easiest.*"
   ]
  },
  {
   "cell_type": "code",
   "execution_count": 6,
   "id": "df504ec0-dacb-4d1d-ba0e-21e6d934c75b",
   "metadata": {},
   "outputs": [
    {
     "data": {
      "text/plain": [
       "<AxesSubplot:>"
      ]
     },
     "execution_count": 6,
     "metadata": {},
     "output_type": "execute_result"
    },
    {
     "data": {
      "image/png": "[encoded data removed]",
      "text/plain": [
       "<Figure size 432x288 with 1 Axes>"
      ]
     },
     "metadata": {
      "needs_background": "light"
     },
     "output_type": "display_data"
    }
   ],
   "source": [
    "nba_zheights = (nbadf['Height'] - nbamu)/nbastd\n",
    "\n",
    "zbinmin = floor(min(nba_zheights)*2)/2\n",
    "zbinmax = ceil(max(nba_zheights)*2)/2\n",
    "\n",
    "zbinrange = np.arange(zbinmin - EPS, zbinmax + EPS, 0.5)\n",
    "\n",
    "nba_zheights.hist(\n",
    "    bins=zbinrange\n",
    ")"
   ]
  },
  {
   "cell_type": "code",
   "execution_count": 7,
   "id": "57c909d8-5d6b-4585-8c08-9995eb8d6d52",
   "metadata": {},
   "outputs": [
    {
     "data": {
      "text/plain": [
       "<AxesSubplot:>"
      ]
     },
     "execution_count": 7,
     "metadata": {},
     "output_type": "execute_result"
    },
    {
     "data": {
      "image/png": "[encoded data removed]",
      "text/plain": [
       "<Figure size 432x288 with 1 Axes>"
      ]
     },
     "metadata": {
      "needs_background": "light"
     },
     "output_type": "display_data"
    }
   ],
   "source": [
    "# Let's compare it to the 'default' binning pandas provides\n",
    "nba_zheights.hist()"
   ]
  },
  {
   "cell_type": "markdown",
   "id": "2295fc8a-aa61-4eb3-9daf-65f13a69c51a",
   "metadata": {
    "tags": []
   },
   "source": [
    "## Step 7.\n",
    "Compute the mean and standard deviation of the heights of NBA players in terms of zvalues, say, mu_z and sigma_z, respectively.\n",
    "\n",
    "> *Lynn's thoughts: I believe you mean to say to find the mean and std-dev, but we expect these to be 0 and 1, respectively. I assume this is just to \"check\" our work. Let's see!*"
   ]
  },
  {
   "cell_type": "code",
   "execution_count": 8,
   "id": "d7540491-cc52-4913-96f4-41a9d44ec096",
   "metadata": {},
   "outputs": [
    {
     "name": "stdout",
     "output_type": "stream",
     "text": [
      "NBA zplayers have mean zheight -0.00 with zstd-dev 1.00\n"
     ]
    }
   ],
   "source": [
    "nbazmu  = nba_zheights.mean(axis=0)\n",
    "nbazstd = nba_zheights.std(axis=0)\n",
    "\n",
    "assert abs(nbazmu - 0.00) < EPS, \"Z-mean should be near zero!\"\n",
    "assert abs(nbazstd - 1.00) < EPS, \"Z-std should be near 1!\" \n",
    "\n",
    "print(f\"NBA zplayers have mean zheight {nbazmu:.2f} with zstd-dev {nbazstd:.2f}\")"
   ]
  },
  {
   "cell_type": "markdown",
   "id": "f66a610b-c511-4f1b-a2f1-dee1764a77fa",
   "metadata": {},
   "source": [
    "## Step 8.\n",
    "Show the distribution using boxplot using z-scores."
   ]
  },
  {
   "cell_type": "code",
   "execution_count": 9,
   "id": "c3ee818f-1658-4948-b79a-dc538682a691",
   "metadata": {
    "tags": []
   },
   "outputs": [
    {
     "data": {
      "text/plain": [
       "<AxesSubplot:>"
      ]
     },
     "execution_count": 9,
     "metadata": {},
     "output_type": "execute_result"
    },
    {
     "data": {
      "image/png": "[encoded data removed]",
      "text/plain": [
       "<Figure size 432x288 with 1 Axes>"
      ]
     },
     "metadata": {
      "needs_background": "light"
     },
     "output_type": "display_data"
    }
   ],
   "source": [
    "pd.DataFrame(nba_zheights).boxplot()"
   ]
  },
  {
   "cell_type": "markdown",
   "id": "ab15ddfd-e83b-4eca-bcf1-2847a3be17a4",
   "metadata": {},
   "source": [
    "## Step 9.\n",
    "Show the distribution using violin plot using z-scores."
   ]
  },
  {
   "cell_type": "code",
   "execution_count": 10,
   "id": "225ab1fb-7c77-4f5a-b706-336921b8f8ac",
   "metadata": {},
   "outputs": [
    {
     "data": {
      "text/plain": [
       "{'bodies': [<matplotlib.collections.PolyCollection at 0x7f5b972951c0>],\n",
       " 'cmaxes': <matplotlib.collections.LineCollection at 0x7f5b97308f10>,\n",
       " 'cmins': <matplotlib.collections.LineCollection at 0x7f5b972955e0>,\n",
       " 'cbars': <matplotlib.collections.LineCollection at 0x7f5b972958b0>}"
      ]
     },
     "execution_count": 10,
     "metadata": {},
     "output_type": "execute_result"
    },
    {
     "data": {
      "image/png": "[encoded data removed]",
      "text/plain": [
       "<Figure size 432x288 with 1 Axes>"
      ]
     },
     "metadata": {
      "needs_background": "light"
     },
     "output_type": "display_data"
    }
   ],
   "source": [
    "plt.violinplot(nba_zheights)"
   ]
  },
  {
   "cell_type": "markdown",
   "id": "5331ef86-a642-4d8f-84bd-ce69f170613a",
   "metadata": {
    "tags": []
   },
   "source": [
    "## Step 10.\n",
    "Create a normal distribution graph using mu and sigma you created in Step 2 (you are\n",
    "using formula for this) and overlay it on the histogram you created in Step 3. You can do this\n",
    "using matplotlib.pyplots.subplots."
   ]
  },
  {
   "cell_type": "code",
   "execution_count": 11,
   "id": "cd4e4e54-eb90-440a-9099-ba2421b80f67",
   "metadata": {},
   "outputs": [],
   "source": [
    "norm_h = scipy.stats.norm(loc=nbamu, scale=nbastd)\n",
    "\n",
    "pdf_x = np.linspace(nbamu - 6*nbastd, nbamu + 6*nbastd, 601)\n",
    "pdf_y = [norm_h.pdf(xx) for xx in pdf_x]\n",
    "\n",
    "# verify it 'looks' right first\n",
    "if not FINAL:\n",
    "    plt.plot(pdf_x, pdf_y)"
   ]
  },
  {
   "cell_type": "code",
   "execution_count": 12,
   "id": "07e8818d-33c2-47ce-a6cf-8fb0731dcbe1",
   "metadata": {},
   "outputs": [
    {
     "data": {
      "text/plain": [
       "(array([0.00220751, 0.        , 0.00662252, 0.        , 0.05739514,\n",
       "        0.03532009, 0.07284768, 0.06401766, 0.07064018, 0.09271523,\n",
       "        0.09933775, 0.09492274, 0.13024283, 0.10375276, 0.08830022,\n",
       "        0.        , 0.0816777 ]),\n",
       " array([69, 70, 71, 72, 73, 74, 75, 76, 77, 78, 79, 80, 81, 82, 83, 84, 85,\n",
       "        86]),\n",
       " <BarContainer object of 17 artists>)"
      ]
     },
     "execution_count": 12,
     "metadata": {},
     "output_type": "execute_result"
    },
    {
     "data": {
      "image/png": "[encoded data removed]",
      "text/plain": [
       "<Figure size 432x288 with 1 Axes>"
      ]
     },
     "metadata": {
      "needs_background": "light"
     },
     "output_type": "display_data"
    }
   ],
   "source": [
    "# Plot them together; no need for subplots in a notebook\n",
    "plt.plot(pdf_x, np.array(pdf_y))\n",
    "plt.hist(x=nbadf['Height'], bins=bin_range, density=True)"
   ]
  },
  {
   "cell_type": "markdown",
   "id": "6dc0770f-4fca-4273-8481-fc8a62c70733",
   "metadata": {},
   "source": [
    "## Step 11.\n",
    "Create a normal distribution graph using mu_z and sigma_z you created in Step 7 (you\n",
    "are using formula for this) and overlay it on the histogram you created in Step 6. You can do this\n",
    "using matplotlib.pyplots.subplots."
   ]
  },
  {
   "cell_type": "code",
   "execution_count": 13,
   "id": "87589b7d-82ca-4858-818b-56bf1ac02554",
   "metadata": {
    "tags": []
   },
   "outputs": [],
   "source": [
    "norm_z = scipy.stats.norm(loc=nbazmu, scale=nbazstd)\n",
    "\n",
    "pdf_zx = np.linspace(nbazmu - 6*nbazstd, nbazmu + 6*nbazstd, 601)\n",
    "pdf_zy = [norm_z.pdf(xx) for xx in pdf_zx]\n",
    "\n",
    "# verify it 'looks' right first\n",
    "if not FINAL:\n",
    "    plt.plot(pdf_zx, pdf_zy)\n"
   ]
  },
  {
   "cell_type": "code",
   "execution_count": 14,
   "id": "8ec46b93-e8bf-4db0-9e6a-ac07af032f34",
   "metadata": {},
   "outputs": [
    {
     "data": {
      "text/plain": [
       "(array([0.00437637, 0.0131291 , 0.18380744, 0.14442013, 0.26695842,\n",
       "        0.38074398, 0.4463895 , 0.20568928, 0.1750547 , 0.1619256 ,\n",
       "        0.01750547]),\n",
       " array([-3.000001e+00, -2.500001e+00, -2.000001e+00, -1.500001e+00,\n",
       "        -1.000001e+00, -5.000010e-01, -1.000000e-06,  4.999990e-01,\n",
       "         9.999990e-01,  1.499999e+00,  1.999999e+00,  2.499999e+00]),\n",
       " <BarContainer object of 11 artists>)"
      ]
     },
     "execution_count": 14,
     "metadata": {},
     "output_type": "execute_result"
    },
    {
     "data": {
      "image/png": "[encoded data removed]",
      "text/plain": [
       "<Figure size 432x288 with 1 Axes>"
      ]
     },
     "metadata": {
      "needs_background": "light"
     },
     "output_type": "display_data"
    }
   ],
   "source": [
    "# Plot them together; no need for subplots\n",
    "plt.plot(pdf_zx, np.array(pdf_zy))\n",
    "plt.hist(x=nba_zheights, bins=zbinrange, density=True)"
   ]
  },
  {
   "cell_type": "markdown",
   "id": "cd82bc46-4d34-46d9-afff-ac0a5e1a7149",
   "metadata": {},
   "source": [
    "## Step 12.\n",
    "Discuss the difference between the two sets of overlaid graphs you produced from Steps\n",
    "10 and 11. Are the shapes different? How different? Do they say anything about the difference\n",
    "between histograms and PDFs?"
   ]
  },
  {
   "cell_type": "markdown",
   "id": "ec53756b-a921-4c90-9ad0-4a91bf77bf88",
   "metadata": {},
   "source": [
    "\n",
    "> **Answer:**\n",
    "> \n",
    "> The shapes of the bell curve are identical.\n",
    "> \n",
    "> The main difference is the binning on the histogram. The higher resolution on the graph in Step 10 makes it more clear that the distribution is not perfectly symmetrical.\n",
    "> \n",
    "> The secondary difference, while obvious, is that the graph in Step 11 is normalized with std-dev 1 and mean 0."
   ]
  },
  {
   "cell_type": "markdown",
   "id": "f707ff20-900d-4654-847a-30e2480de21e",
   "metadata": {},
   "source": [
    "## Step 13.\n",
    "Calculate $P(x > 82)$, i.e., what is the probability for a player to have his/her height taller\n",
    "than 82?"
   ]
  },
  {
   "cell_type": "code",
   "execution_count": 15,
   "id": "483c97e3-4531-46a8-823b-75a6da6254e5",
   "metadata": {},
   "outputs": [
    {
     "name": "stdout",
     "output_type": "stream",
     "text": [
      "We have P(x>82) = 0.177\n"
     ]
    }
   ],
   "source": [
    "pxge82 = sum(nbadf['Height'] > 82) / len(nbadf['Height'])\n",
    "\n",
    "print(f\"We have P(x>82) = {pxge82:.3f}\")"
   ]
  },
  {
   "cell_type": "markdown",
   "id": "cf4709d4-52cb-4d28-8b57-5b2231321c56",
   "metadata": {},
   "source": [
    "---\n",
    "\n",
    "# Part II: Poisson, and Gamma Distributions\n",
    "\n",
    "The Connecticut State Museum of Natural History at UCONN holds annual mushroom hunting trips in a mountain in Ashford. It is a half day trip lasting about 4 hours in a weekend in October.\n",
    "\n",
    "It is known that each participant collects about 8 mushrooms in the trip and the event’s program fee is \\$20.\n",
    "\n",
    "You are pondering if you like to participate in this year’s event by considering various factors."
   ]
  },
  {
   "cell_type": "markdown",
   "id": "724b4bfe-2a03-435d-b2b4-de113e25e63b",
   "metadata": {},
   "source": [
    "## Step 1\n",
    "\n",
    "What is the probability that you collect “at least” 10 mushrooms?\n",
    "\n",
    "Since you are paying $\\$$20 fee, you are interested in figuring out if you can recoup your investment by estimating $\\$$2 per fresh organic mushroom. \n",
    "\n",
    "As long as the chance is over 60\\%, you like to register the event.\n",
    "\n",
    "Show your decision with two accompanying probability distribution plots, one PMF and one CDF.\n",
    "\n",
    "\n",
    "Show also the simulated PMF using `poisson.rvs1. You show three plots in total.\n",
    "\n",
    "\n",
    "\n",
    "> ***Notes:***\n",
    "> \n",
    ">  - Trip lasts ~4 hours\n",
    ">  - Each participant collects about 8 mushrooms\n",
    ">  - Fee is $\\$ $20\n",
    ">  - Each mushroom is worth about $\\$ $ 2\n",
    ">  - Register if you have a >60\\% chance of finding at least 10 mushrooms.\n",
    "\n",
    "\n",
    "> **Begin answer:**\n",
    "> \n",
    "> Let's assume we can model finding a mushroom with the Poisson distribution.\n",
    "> \n",
    "> The average number of mushrooms found in 4 hours, $\\lambda = 8$, parameterizes our Poisson distribution.\n",
    "> \n",
    "> Let `mushrooms_picked` be sampled from `Poisson(8)`. We know that $Prob(mushrooms_picked >= 10) = 1 - Prob(mushrooms_picked < 10)$, which lets us get an exact likelihood in finite time rather than taking an infinite series.\n",
    "> \n",
    "> Alternatively, we can use the gamma function in the CDF, but that is difficult, and we have a Python interpreter *in the very next cell*. \n",
    "> \n",
    "> (We can also call `1-scipy.stats.poisson(mu=8).cdf(10)`, but that feels like cheating.)\n",
    "> \n",
    "> So, let's answer the question: **How likely is it to find at least 10 mushrooms?**"
   ]
  },
  {
   "cell_type": "code",
   "execution_count": 16,
   "id": "000383cd-3d59-4068-aa77-396b4886654e",
   "metadata": {},
   "outputs": [
    {
     "name": "stdout",
     "output_type": "stream",
     "text": [
      "Likelihood of finding at least 10 mushrooms is 0.28.\n"
     ]
    }
   ],
   "source": [
    "# poisson rv with lambda=8\n",
    "poisson_8 = scipy.stats.poisson(mu=8)\n",
    "\n",
    "prob_lt_10 = sum([poisson_8.pmf(ii) for ii in range(10)])\n",
    "\n",
    "print(f\"Likelihood of finding at least 10 mushrooms is {1 - prob_lt_10:.2f}.\")"
   ]
  },
  {
   "cell_type": "code",
   "execution_count": 17,
   "id": "3e452c6e-7d46-4a42-8382-2b95abb6f0d1",
   "metadata": {},
   "outputs": [],
   "source": [
    "# let's check this is right\n",
    "assert prob_lt_10 - poisson_8.cdf(9) < EPS, \"Oh no! I got my math wrong!\""
   ]
  },
  {
   "cell_type": "code",
   "execution_count": 18,
   "id": "559f829f-4819-4a00-9cbf-611fe74371a3",
   "metadata": {},
   "outputs": [
    {
     "data": {
      "text/plain": [
       "[<matplotlib.lines.Line2D at 0x7f5b97118f10>]"
      ]
     },
     "execution_count": 18,
     "metadata": {},
     "output_type": "execute_result"
    },
    {
     "data": {
      "image/png": "[encoded data removed]",
      "text/plain": [
       "<Figure size 432x288 with 1 Axes>"
      ]
     },
     "metadata": {
      "needs_background": "light"
     },
     "output_type": "display_data"
    }
   ],
   "source": [
    "pois_xs = list(range(0,17))\n",
    "pois_ys = [poisson_8.pmf(xx) for xx in pois_xs]\n",
    "pois_cdf_ys = [poisson_8.cdf(xx) for xx in pois_xs]\n",
    "\n",
    "plt.scatter(pois_xs, pois_ys)\n",
    "plt.plot(pois_xs, pois_ys)\n",
    "\n",
    "# It's discrete, but I like adding lines"
   ]
  },
  {
   "cell_type": "code",
   "execution_count": 19,
   "id": "8ef98a23-7585-4e7c-9652-ce8e279d21a5",
   "metadata": {},
   "outputs": [
    {
     "data": {
      "text/plain": [
       "<matplotlib.collections.PathCollection at 0x7f5b970948e0>"
      ]
     },
     "execution_count": 19,
     "metadata": {},
     "output_type": "execute_result"
    },
    {
     "data": {
      "image/png": "[encoded data removed]",
      "text/plain": [
       "<Figure size 432x288 with 1 Axes>"
      ]
     },
     "metadata": {
      "needs_background": "light"
     },
     "output_type": "display_data"
    }
   ],
   "source": [
    "# Show our plot, with the intercept at our value of 10.\n",
    "plt.plot([0, 9, 9+EPS], [pois_cdf_ys[9], pois_cdf_ys[9], 0])\n",
    "plt.plot(pois_xs, pois_cdf_ys)\n",
    "plt.scatter(pois_xs, pois_cdf_ys)"
   ]
  },
  {
   "cell_type": "markdown",
   "id": "1ccd1f2d-e325-4b0c-b864-b4c310c74b11",
   "metadata": {},
   "source": [
    ">  ... Oh no. **We find a 28\\% chance.** I guess I won't recoup my losses here. \n",
    "\n",
    "## Step 2.\n",
    "\n",
    "You are anxious to know how quickly you can collect the first mushroom from the trip. This is because your priority is not recouping your investment for the event but to enjoy the excitement of finding the first fresh wild mushroom and come back to complete the homework after you found one.\n",
    "\n",
    "What is the probability that you can get the first mushroom within one hour of the trip?\n",
    "\n",
    "As long as the chance is over 60\\%, you like to register the event. Show your decision with an accompanying probability distribution plot.\n",
    "\n",
    "\n",
    "> **Begin answer:**\n",
    "> \n",
    "> Keeping in mind that our time unit is 4 hours, we know that we expect our events to occur in $\\lambda^{-1}$ time units, that is to say, $4 / 8$, or, 30 minutes.\n",
    "> \n",
    "> This is parameterized by the exponential function with the same $\\lambda = 8$. We want to see the likelihood of having an event in $1$ hour, or $0.25$ units."
   ]
  },
  {
   "cell_type": "code",
   "execution_count": 20,
   "id": "c7a4f263-a609-43c2-b0f6-3a62e3147c25",
   "metadata": {},
   "outputs": [],
   "source": [
    "exponential_8 = scipy.stats.expon(scale=1/8)\n",
    "# See: https://docs.scipy.org/doc/scipy/reference/generated/scipy.stats.expon.html\n",
    "# scale = 1 / lambda"
   ]
  },
  {
   "cell_type": "code",
   "execution_count": 21,
   "id": "bf785744-3846-4c90-9527-0d243b6958fb",
   "metadata": {},
   "outputs": [
    {
     "name": "stdout",
     "output_type": "stream",
     "text": [
      "Likelihood of finding a mushroom in 1 hour is 0.86\n"
     ]
    }
   ],
   "source": [
    "p_exp8_ltp25 = exponential_8.cdf(0.25)\n",
    "print(f\"Likelihood of finding a mushroom in 1 hour is {p_exp8_ltp25:.2f}\")"
   ]
  },
  {
   "cell_type": "code",
   "execution_count": 22,
   "id": "b8910dc1-d154-4e93-9ef4-05cd1f7b59bb",
   "metadata": {},
   "outputs": [],
   "source": [
    "# Yay! Let's look at this in terms of pdf and cdf\n",
    "exp8_xs = np.linspace(0,1,1001)\n",
    "exp8_pdf = [exponential_8.pdf(xx) for xx in exp8_xs]\n",
    "exp8_cdf = [exponential_8.cdf(xx) for xx in exp8_xs]"
   ]
  },
  {
   "cell_type": "code",
   "execution_count": 23,
   "id": "5c56325b-a262-4408-ab64-9c143d39df44",
   "metadata": {},
   "outputs": [
    {
     "data": {
      "text/plain": [
       "[<matplotlib.lines.Line2D at 0x7f5b970291f0>]"
      ]
     },
     "execution_count": 23,
     "metadata": {},
     "output_type": "execute_result"
    },
    {
     "data": {
      "image/png": "[encoded data removed]",
      "text/plain": [
       "<Figure size 432x288 with 1 Axes>"
      ]
     },
     "metadata": {
      "needs_background": "light"
     },
     "output_type": "display_data"
    }
   ],
   "source": [
    "plt.plot(exp8_xs, exp8_pdf)\n",
    "plt.plot([0, 1], [.25, .25])\n",
    "\n",
    "# Note: Plotted in terms of 1-hour intervals!"
   ]
  },
  {
   "cell_type": "code",
   "execution_count": 24,
   "id": "cb6efc95-f21c-4581-9122-807703fc139c",
   "metadata": {},
   "outputs": [
    {
     "data": {
      "text/plain": [
       "[<matplotlib.lines.Line2D at 0x7f5b96f9a280>]"
      ]
     },
     "execution_count": 24,
     "metadata": {},
     "output_type": "execute_result"
    },
    {
     "data": {
      "image/png": "[encoded data removed]",
      "text/plain": [
       "<Figure size 432x288 with 1 Axes>"
      ]
     },
     "metadata": {
      "needs_background": "light"
     },
     "output_type": "display_data"
    }
   ],
   "source": [
    "# CDF\n",
    "plt.plot([0, .25, .25], [exponential_8.cdf(.25), exponential_8.cdf(.25), 0])\n",
    "plt.plot(exp8_xs, exp8_cdf)"
   ]
  },
  {
   "cell_type": "markdown",
   "id": "5baa0488-4731-419f-ac86-6f976785bbb4",
   "metadata": {},
   "source": [
    ">  Hooray!! **The likeligood is about 86%. I am excited to pick mushrooms!**\n",
    "\n",
    "## Step 3.\n",
    "\n",
    "You are exploring a different scenario. Why not recoup some investment and also come back early to complete the homework?\n",
    "\n",
    "What is the probability that you can get the four mushrooms within 2 hours of the trip?\n",
    "\n",
    "As long as the chance is over 60%, you like to register the event. Show your decision with an accompanying probability distribution plot.\n",
    "\n",
    "> Recall we have $\\lambda = 8$, that is, an expected value of 8 mushrooms in a time unit of 4 hours.\n",
    "> \n",
    "> We can divide this linearly: With a time unit of 2 hour, we have a new $\\lambda = 8 \\cdot \\frac{2}{4} = 4$ parameter.\n",
    "> \n",
    "> That is to say, with a time unit of 2 hours instead of 4, we should expect to get 4 mushrooms.\n",
    "> \n",
    "> Let's calculate below, using $\\lambda = 4$ and a time interval of two hours."
   ]
  },
  {
   "cell_type": "code",
   "execution_count": 25,
   "id": "086c2695-645a-423b-8785-0708432a5ce2",
   "metadata": {},
   "outputs": [
    {
     "data": {
      "text/plain": [
       "[<matplotlib.lines.Line2D at 0x7f5b96f83610>]"
      ]
     },
     "execution_count": 25,
     "metadata": {},
     "output_type": "execute_result"
    },
    {
     "data": {
      "image/png": "[encoded data removed]",
      "text/plain": [
       "<Figure size 432x288 with 1 Axes>"
      ]
     },
     "metadata": {
      "needs_background": "light"
     },
     "output_type": "display_data"
    }
   ],
   "source": [
    "pois_4 = scipy.stats.poisson(mu=4)\n",
    "\n",
    "pois4_xs = list(range(0,9))\n",
    "pois4_ys = [pois_4.pmf(xx) for xx in pois4_xs]\n",
    "pois4_cdf_ys = [pois_4.cdf(xx) for xx in pois4_xs]\n",
    "\n",
    "plt.scatter(pois4_xs, pois4_ys)\n",
    "plt.plot(pois4_xs, pois4_ys)\n",
    "\n",
    "# It's discrete, but I think lines look nice :)"
   ]
  },
  {
   "cell_type": "code",
   "execution_count": 26,
   "id": "944346ca-2992-4ab8-81a6-d1269d83daee",
   "metadata": {},
   "outputs": [
    {
     "data": {
      "text/plain": [
       "[<matplotlib.lines.Line2D at 0x7f5b96ef0cd0>]"
      ]
     },
     "execution_count": 26,
     "metadata": {},
     "output_type": "execute_result"
    },
    {
     "data": {
      "image/png": "[encoded data removed]",
      "text/plain": [
       "<Figure size 432x288 with 1 Axes>"
      ]
     },
     "metadata": {
      "needs_background": "light"
     },
     "output_type": "display_data"
    }
   ],
   "source": [
    "# now cdf\n",
    "plt.scatter(pois4_xs, pois4_cdf_ys)\n",
    "plt.plot(pois4_xs, pois4_cdf_ys)\n",
    "plt.plot([0, 4, 4], [pois_4.cdf(4), pois_4.cdf(4), 0])"
   ]
  },
  {
   "cell_type": "markdown",
   "id": "ad1d3c5d-277d-443e-828d-5bed9d313032",
   "metadata": {},
   "source": [
    "The likelihood of getting 4 or more mushrooms is given as follows:"
   ]
  },
  {
   "cell_type": "code",
   "execution_count": 27,
   "id": "2f0d4e08-06da-44f7-b56f-efa344153230",
   "metadata": {},
   "outputs": [
    {
     "name": "stdout",
     "output_type": "stream",
     "text": [
      "We expect to get at least 4 mushrooms with probability 0.567\n"
     ]
    }
   ],
   "source": [
    "# Just a quick check... These are equal right?\n",
    "assert sum([pois_4.pmf(ii) for ii in [0,1,2,3, 4]]) - pois_4.cdf(4) < EPS\n",
    "\n",
    "print(f\"We expect to get at least 4 mushrooms with probability {1 - pois_4.cdf(3):.3f}\")"
   ]
  },
  {
   "cell_type": "markdown",
   "id": "8a107a6d-2bf5-45f6-b9b9-243455d631ab",
   "metadata": {},
   "source": [
    "... So, sadly, **because we have a 58\\% chance of getting at least 4 mushrooms, we do not go on the trip.**"
   ]
  },
  {
   "cell_type": "markdown",
   "id": "42d5dc3d-b3f9-4cc3-8be3-c5bbd0f08b53",
   "metadata": {},
   "source": [
    "---\n",
    "\n",
    "# Part III: Beta Distribution\n",
    "\n",
    "Consider back to NBA statistics. Giannis Antetokounmpo having nick name “Greek Freak” was\n",
    "instrumental in helping Milwaukee win 2020-2021 NBA championship. His FG% for the season\n",
    "was 0.569 (Wikipedia).\n",
    "\n",
    "## Step 1.\n",
    "\n",
    "Assume his FG% was from making 1140 goals from 2003 shots (attempts). Create a Beta\n",
    "distribution plot for Giannis Antetokounmpo’s FG% for that season.\n",
    "\n",
    "\n",
    "> **Notes:**\n",
    "> \n",
    "> I have no idea what an 'FG%' is and had to search it up. This is a \"Field Goal\" percent, which is calculated using a ratio of \"field goals made\" to \"field goals attempted.\"\n",
    "> \n",
    "> I am unclear on what a \"field goal\" is, so I consulted the NBA rulebook: https://official.nba.com/rulebook/, which, unfortunately, only has definitions for a \"field goal attempt\". **I am not familiar with basketball, so I am assuming field goals as a simple points system.**\n",
    "> \n",
    "> Here, we have $\\alpha = 1140$ and $\\beta = 2003$, and we expect a mean of $1140 / (1140+2003)$. We will use this as our 'prior'."
   ]
  },
  {
   "cell_type": "code",
   "execution_count": 28,
   "id": "b0bfa75a-54a2-4386-94e0-87a2eb197c30",
   "metadata": {},
   "outputs": [
    {
     "data": {
      "text/plain": [
       "[<matplotlib.lines.Line2D at 0x7f5b96e75400>]"
      ]
     },
     "execution_count": 28,
     "metadata": {},
     "output_type": "execute_result"
    },
    {
     "data": {
      "image/png": "[encoded data removed]",
      "text/plain": [
       "<Figure size 432x288 with 1 Axes>"
      ]
     },
     "metadata": {
      "needs_background": "light"
     },
     "output_type": "display_data"
    }
   ],
   "source": [
    "beta_xs = np.linspace(0, 1, 1001)\n",
    "beta_ys = [\n",
    "    scipy.stats.beta.pdf(x = xx, a = 1140, b = 2003)\n",
    "    for xx in beta_xs]\n",
    "\n",
    "plt.plot(beta_xs, beta_ys)"
   ]
  },
  {
   "cell_type": "code",
   "execution_count": 29,
   "id": "655edb87-e042-4ab4-b629-92b2336695c8",
   "metadata": {},
   "outputs": [
    {
     "data": {
      "text/plain": [
       "[<matplotlib.lines.Line2D at 0x7f5b96dd6850>]"
      ]
     },
     "execution_count": 29,
     "metadata": {},
     "output_type": "execute_result"
    },
    {
     "data": {
      "image/png": "[encoded data removed]",
      "text/plain": [
       "<Figure size 432x288 with 1 Axes>"
      ]
     },
     "metadata": {
      "needs_background": "light"
     },
     "output_type": "display_data"
    }
   ],
   "source": [
    "# Let's focus on the range .33, .4\n",
    "\n",
    "tmp_xs = np.linspace(.33, .4, 201)\n",
    "plt.plot(\n",
    "    tmp_xs,\n",
    "    [scipy.stats.beta.pdf(x = xx, a = 1140, b = 2003)\n",
    "     for xx in tmp_xs]\n",
    ")"
   ]
  },
  {
   "cell_type": "markdown",
   "id": "a5f5b65f-235d-4c1f-b6f7-4aa3c5d50713",
   "metadata": {},
   "source": [
    "## Step 2.\n",
    "\n",
    "Suppose this Greek Freak did 27 goals from 35 shots during the first game in Fall 2021.\n",
    "\n",
    "Can you estimate his FG% for the upcoming season using beta distribution? You are approximating $\\alpha$ and $\\beta$ for this and rely on the python function to create the Beta distribution plot similar to what has been discussed in class, i.e., show both prior and posterior distributions.\n",
    "\n",
    "> This is simply enough, we use new parameters, $\\alpha = 1140 + 27$ and $\\beta = 2003 + 35$."
   ]
  },
  {
   "cell_type": "code",
   "execution_count": 30,
   "id": "4d98a4fc-c1fc-4cdc-89bc-c9f50f320e94",
   "metadata": {},
   "outputs": [
    {
     "data": {
      "text/plain": [
       "[<matplotlib.lines.Line2D at 0x7f5b96dc4ca0>]"
      ]
     },
     "execution_count": 30,
     "metadata": {},
     "output_type": "execute_result"
    },
    {
     "data": {
      "image/png": "[encoded data removed]",
      "text/plain": [
       "<Figure size 432x288 with 1 Axes>"
      ]
     },
     "metadata": {
      "needs_background": "light"
     },
     "output_type": "display_data"
    }
   ],
   "source": [
    "beta_xs = np.linspace(0, 1, 1001)\n",
    "beta_ys = [\n",
    "    scipy.stats.beta.pdf(x = xx, a = 1140 + 27, b = 2003 + 35)\n",
    "    for xx in beta_xs]\n",
    "\n",
    "plt.plot(beta_xs, beta_ys)"
   ]
  },
  {
   "cell_type": "code",
   "execution_count": 31,
   "id": "28737df1-f274-41f8-b91f-6725f3346dca",
   "metadata": {},
   "outputs": [
    {
     "data": {
      "text/plain": [
       "[<matplotlib.lines.Line2D at 0x7f5b96d8abe0>]"
      ]
     },
     "execution_count": 31,
     "metadata": {},
     "output_type": "execute_result"
    },
    {
     "data": {
      "image/png": "[encoded data removed]",
      "text/plain": [
       "<Figure size 432x288 with 1 Axes>"
      ]
     },
     "metadata": {
      "needs_background": "light"
     },
     "output_type": "display_data"
    }
   ],
   "source": [
    "# Let's focus again on the range .33, .4\n",
    "\n",
    "tmp_xs = np.linspace(.33, .4, 201)\n",
    "plt.plot(\n",
    "    tmp_xs,\n",
    "    [scipy.stats.beta.pdf(x = xx, a = 1140 + 27, b = 2003 + 35)\n",
    "     for xx in tmp_xs]\n",
    ")"
   ]
  },
  {
   "cell_type": "code",
   "execution_count": 32,
   "id": "25721808-bc67-4f1a-aa68-354c6acb5ba2",
   "metadata": {},
   "outputs": [
    {
     "data": {
      "text/plain": [
       "[<matplotlib.lines.Line2D at 0x7f5b96ce9fd0>]"
      ]
     },
     "execution_count": 32,
     "metadata": {},
     "output_type": "execute_result"
    },
    {
     "data": {
      "image/png": "[encoded data removed]",
      "text/plain": [
       "<Figure size 432x288 with 1 Axes>"
      ]
     },
     "metadata": {
      "needs_background": "light"
     },
     "output_type": "display_data"
    }
   ],
   "source": [
    "# Now, let's plot them together\n",
    "\n",
    "tmp_xs = np.linspace(.33, .4, 201)\n",
    "\n",
    "plt.plot(\n",
    "    tmp_xs,\n",
    "    [scipy.stats.beta.pdf(x = xx, a = 1140, b = 2003)\n",
    "     for xx in tmp_xs]\n",
    ")\n",
    "\n",
    "plt.plot(\n",
    "    tmp_xs,\n",
    "    [scipy.stats.beta.pdf(x = xx, a = 1140 + 27, b = 2003 + 35)\n",
    "     for xx in tmp_xs]\n",
    ")"
   ]
  },
  {
   "cell_type": "code",
   "execution_count": 33,
   "id": "5f80375d-b62c-4c3d-afc5-22dc3ead0068",
   "metadata": {},
   "outputs": [
    {
     "data": {
      "text/plain": [
       "[<matplotlib.lines.Line2D at 0x7f5b96c56fd0>]"
      ]
     },
     "execution_count": 33,
     "metadata": {},
     "output_type": "execute_result"
    },
    {
     "data": {
      "image/png": "[encoded data removed]",
      "text/plain": [
       "<Figure size 432x288 with 1 Axes>"
      ]
     },
     "metadata": {
      "needs_background": "light"
     },
     "output_type": "display_data"
    }
   ],
   "source": [
    "# Let's focus closer to the peak\n",
    "\n",
    "# Now, let's plot them together\n",
    "\n",
    "tmp_xs = np.linspace(.35, .3775, 201)\n",
    "\n",
    "plt.plot(\n",
    "    tmp_xs,\n",
    "    [scipy.stats.beta.pdf(x = xx, a = 1140, b = 2003)\n",
    "     for xx in tmp_xs]\n",
    ")\n",
    "\n",
    "plt.plot(\n",
    "    tmp_xs,\n",
    "    [scipy.stats.beta.pdf(x = xx, a = 1140 + 27, b = 2003 + 35)\n",
    "     for xx in tmp_xs]\n",
    ")"
   ]
  },
  {
   "cell_type": "markdown",
   "id": "46782966-3267-4dcd-98df-f9b2590a33bb",
   "metadata": {},
   "source": [
    "---"
   ]
  },
  {
   "cell_type": "code",
   "execution_count": null,
   "id": "ba4a8312-1a25-460a-b21f-2cb3d783f346",
   "metadata": {},
   "outputs": [],
   "source": []
  }
 ],
 "metadata": {
  "kernelspec": {
   "display_name": "Python 3 (ipykernel)",
   "language": "python",
   "name": "python3"
  },
  "language_info": {
   "codemirror_mode": {
    "name": "ipython",
    "version": 3
   },
   "file_extension": ".py",
   "mimetype": "text/x-python",
   "name": "python",
   "nbconvert_exporter": "python",
   "pygments_lexer": "ipython3",
   "version": "3.9.6"
  }
 },
 "nbformat": 4,
 "nbformat_minor": 5
}
