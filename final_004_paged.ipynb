{
 "cells": [
  {
   "cell_type": "markdown",
   "id": "922dde29-adbe-4e9d-859a-97664918ab60",
   "metadata": {},
   "source": [
    "# Project Dashboard Mark 5"
   ]
  },
  {
   "cell_type": "code",
   "execution_count": 1,
   "id": "0644d105-ab24-4f90-9e45-5b653009cb24",
   "metadata": {
    "tags": []
   },
   "outputs": [
    {
     "name": "stdout",
     "output_type": "stream",
     "text": [
      "Starting up!\n",
      "... Importing\n"
     ]
    }
   ],
   "source": [
    "print(\"Starting up!\")\n",
    "print(\"... Importing\")\n",
    "# Common imports from Python standard libraries\n",
    "from dataclasses import dataclass\n",
    "import math\n",
    "\n",
    "# Common imports\n",
    "import numpy as np\n",
    "import pandas as pd\n",
    "import matplotlib.pyplot as plt\n",
    "import time\n",
    "\n",
    "# Science imports\n",
    "import scipy\n",
    "from scipy import stats\n",
    "from scipy import cluster\n",
    "from statistics import mean\n",
    "from sklearn.mixture import GaussianMixture\n",
    "from sklearn.cluster import KMeans\n",
    "from matplotlib import colors\n",
    "\n",
    "# Useful imports for visualization\n",
    "from plotly import subplots\n",
    "\n",
    "# Plotly express and dash\n",
    "import dash\n",
    "from dash import dcc\n",
    "from dash import html\n",
    "from dash.dependencies import Input, Output\n",
    "import plotly.express as px\n",
    "import plotly.graph_objects as go\n",
    "import plotly.figure_factory as ff\n",
    "\n",
    "\n",
    "# Constants\n",
    "EPS = 0.0000001\n",
    "FINAL = False\n",
    "\n",
    "# Some useful functions\n",
    "def almost_equal(a,b,eps=EPS):\n",
    "    return abs(a-b) <= eps\n",
    "\n",
    "def binsearch(func, vv = 0.025, x_l = -100, x_r = 100, eps=0.00001):\n",
    "    '''\n",
    "    Search for x such that func(x) == vv,\n",
    "    within a range of +- eps,\n",
    "    with x between x_l and x_r.\n",
    "    '''\n",
    "    v_l = func(x_l)\n",
    "    v_r = func(x_r)\n",
    "    \n",
    "    x_m = (x_l + x_r)/2\n",
    "    v_m = func(x_m)\n",
    "    \n",
    "    while abs(v_m - vv) >= eps:\n",
    "        if v_m < vv:\n",
    "            x_l = x_m\n",
    "        elif v_m > vv:\n",
    "            x_r = x_m\n",
    "        else:\n",
    "            print(\"weird, this shouldn't be possible\")\n",
    "            return x_m\n",
    "            \n",
    "        v_l = func(x_l)\n",
    "        v_r = func(x_r)\n",
    "        x_m = (x_l + x_r)/2\n",
    "        v_m = func(x_m)\n",
    "    \n",
    "    return x_m\n",
    "\n",
    "# Code provided from HW4\n",
    "def stdev(X):\n",
    "    m = mean(X)\n",
    "    return math.sqrt(sum((x-m)**2 for x in X) / len(X))\n",
    "\n",
    "def degreesOfFreedom(X, Y):\n",
    "    if len(X) == 0:\n",
    "        return 1\n",
    "    elif len(Y) == 0:\n",
    "        return 1\n",
    "    \n",
    "    s1 = (stdev(X)**2)\n",
    "    s2 = (stdev(Y)**2)\n",
    "    df = (s1 / len(X) + s2 / len(Y))**2 / ((s1 / len(X))**2 / (len(X) - 1) + (s2 / len(Y))**2 /\n",
    "(len(Y) - 1))\n",
    "    return(df)\n",
    "\n",
    "# # Things for part 5\n",
    "FI = (1 + 5**.5)/2 # golden ratio\n",
    "\n",
    "def get_hues(ii):\n",
    "    hue = (FI * ii) % 1\n",
    "    hue_int = round(hue * 255)\n",
    "    return f\"hsv({hue_int},255,128)\"\n",
    "\n",
    "def get_sample(array, n_samples = 15161):\n",
    "    indices = np.random.choice(list(range(len(array))), size=n_samples)\n",
    "    return array[indices]\n",
    "\n",
    "\n",
    "df_full = pd.read_csv(\"../DATASETS/US_Accidents_Dec20_updated.csv\")\n",
    "df = df_full.sample(n = 10000, ignore_index = True)\n",
    "\n",
    "app = dash.Dash(\"Traffic accident data studio\")"
   ]
  },
  {
   "cell_type": "code",
   "execution_count": 2,
   "id": "7120f22f-ab8f-4f6d-9006-378fbe2db36a",
   "metadata": {},
   "outputs": [
    {
     "name": "stdout",
     "output_type": "stream",
     "text": [
      "Building part 1...\n",
      "... part 1 callback...\n"
     ]
    }
   ],
   "source": [
    "print(\"Building part 1...\")\n",
    "\n",
    "dist_checklist_keys = ['Stop', 'Traffic_Calming', 'Roundabout', 'Traffic_Signal', 'Crossing', 'Railway', 'Bump']\n",
    "distance_by_severity = {severity : np.array(df[df['Severity'] == severity]['Distance(mi)']) for severity in set(df['Severity'])}\n",
    "\n",
    "part_1_severity = html.Div(\n",
    "    [\n",
    "        html.Hr(),\n",
    "        html.Div(\n",
    "            [\n",
    "                html.H2(\"Part 1: Explore how traffic controls mitigate the impact of a road accident.\"),\n",
    "                html.P('''\n",
    "Some accidents are minor, such as a fender bender in a parking lot.\n",
    "Other accidents are more severe, and can cause stretches of road to be left unsuitable for driving.\n",
    "\n",
    "This dataset provides insight into thedistance of impacted road, in miles, of different accidents.\n",
    "Using this data, we can get insight into how the presence of road controls (such as stop signs)\n",
    "impact the severity of accidents.\n",
    "\n",
    "Explore the relation between the distance of road impacted by an accident and the presence of traffic controls.\n",
    "\n",
    "Satisfies: Box plot, violin plots, statistics.\n",
    "'''),\n",
    "                dcc.Checklist(\n",
    "                    id = \"severity-checklist\",\n",
    "                    options = [{'value' : str(x), 'label' : f'{str(x)}'}\n",
    "                               for x in dist_checklist_keys],\n",
    "                               #for x in [1, 2, 3, 4]],\n",
    "                    value   = ['Stop'],\n",
    "                    labelStyle = {'display' : 'inline-block'}\n",
    "                ),\n",
    "                dcc.Graph(id = \"severity-distance-boxplot\")\n",
    "            ]\n",
    "        ),\n",
    "        html.Hr(),\n",
    "\n",
    "    ]\n",
    ")\n",
    "\n",
    "print(\"... part 1 callback...\")\n",
    "@app.callback(\n",
    "    Output(\"severity-distance-boxplot\", \"figure\"), \n",
    "    [Input(\"severity-checklist\", \"value\")]\n",
    ")\n",
    "def part_1_figure(x):\n",
    "    fig = px.violin(\n",
    "        df,\n",
    "        x = x,\n",
    "        y = 'Distance(mi)',\n",
    "        box = True,\n",
    "        points='all'\n",
    "    )\n",
    "    return fig"
   ]
  },
  {
   "cell_type": "code",
   "execution_count": 3,
   "id": "4e620aae-818a-41d7-b0c6-d56d25072da3",
   "metadata": {
    "tags": []
   },
   "outputs": [
    {
     "name": "stdout",
     "output_type": "stream",
     "text": [
      "Building part 2...\n",
      "... Part 2 callback...\n"
     ]
    }
   ],
   "source": [
    "print(\"Building part 2...\")\n",
    "\n",
    "weather_keys = ['Temperature(F)', 'Humidity(%)', 'Pressure(in)', 'Visibility(mi)', 'Wind_Speed(mph)', 'Precipitation(in)']\n",
    "\n",
    "part_2_histogram = html.Div(\n",
    "    [\n",
    "        html.Hr(),\n",
    "        html.Div(\n",
    "            [\n",
    "                html.H2(\"Part 2: Explore weather conditions and traffic accidents.\"),\n",
    "                html.P('''\n",
    "A foggy day, a rainy night, and frozen roads. Inclement weather impacts driving conditions.\n",
    "\n",
    "Explore the distribution of different weather conditions during traffic accidents.\n",
    "Does anything seem surprising when you choose different labels and bin sizes?\n",
    "\n",
    "Satisfies: Kernel Density Estimation, Histogram, Statistics, Correlation Analysis.\n",
    "                '''),\n",
    "            ]\n",
    "        ),\n",
    "        html.Div(\n",
    "            [\n",
    "                dcc.Graph(id = \"weather-kde\"),\n",
    "                dcc.Checklist(\n",
    "                    id = \"weather-checklist\",\n",
    "                    options = [\n",
    "                        {'value' : str(x), 'label' : f'{str(x)}'}\n",
    "                        for x in weather_keys\n",
    "                    ],\n",
    "                    value   = [\"Temperature(F)\", \"Humidity(%)\"],\n",
    "                    labelStyle = {'display' : 'inline-block'}\n",
    "                ),\n",
    "                dcc.Slider(\n",
    "                    id=\"weather-binsize\",\n",
    "                    min=0.1,\n",
    "                    max=10.1,\n",
    "                    value=1.0, \n",
    "                    step = 0.1,\n",
    "                    marks = {\n",
    "                        x : str(x) \n",
    "                        for x in [0.1, 0.2, 0.5, 1.0, 2.0, 5.0, 10.0]\n",
    "                    }\n",
    "                )\n",
    "            ]\n",
    "        ),\n",
    "        html.Hr(),    \n",
    "    ]\n",
    ")\n",
    "\n",
    "print(\"... Part 2 callback...\")\n",
    "@app.callback(\n",
    "    Output(\"weather-kde\", \"figure\"), \n",
    "    [Input(\"weather-checklist\", \"value\"),\n",
    "     Input(\"weather-binsize\", \"value\")\n",
    "    ]\n",
    ")\n",
    "def part_2_figure(labels, binsize):\n",
    "    '''\n",
    "    fig = px.histogram(\n",
    "        df,\n",
    "        x = x,\n",
    "        #marginal = 'violin',\n",
    "        histnorm = 'probability density',\n",
    "        nbins = bins\n",
    "    )\n",
    "    return fig\n",
    "    '''\n",
    "    data = np.nan_to_num(np.array(df[labels]), copy=True, nan=0.0, posinf=0.0, neginf=0.0).T\n",
    "    fig = ff.create_distplot(data, labels, bin_size=binsize)\n",
    "    return fig\n"
   ]
  },
  {
   "cell_type": "code",
   "execution_count": 4,
   "id": "04e8b8a6-2c82-46d3-a82f-bd747f665ef8",
   "metadata": {
    "tags": []
   },
   "outputs": [
    {
     "name": "stdout",
     "output_type": "stream",
     "text": [
      "Building part 3...\n",
      "... Part 3 callback...\n"
     ]
    }
   ],
   "source": [
    "print(\"Building part 3...\")\n",
    "\n",
    "test_keys = ['Stop', 'Crossing', 'Traffic_Calming', 'Traffic_Signal']\n",
    "test_metrics = ['Distance(mi)', 'Severity']\n",
    "\n",
    "part_3_hypothesis = html.Div(\n",
    "    [\n",
    "        html.Hr(),\n",
    "        html.Div(\n",
    "            [\n",
    "                html.H2(\"Part 3: Hypothesis testing\"),\n",
    "                html.P('''\n",
    "Think back to Part 1, and consider this null hypothesis:\n",
    "\"There is no difference in the distance (or severity) of traffic accidents for those\n",
    "which occur at stop signs and those which do not.\"\n",
    "\n",
    "Intuitively, you might reject this null hypothesis, but with this modal, you can check and be sure.\n",
    "\n",
    "Assuming alpha = 0.05, explore eight total combinations of hypotheses.\n",
    "The respective T-scores and P-values are printed.\n",
    "\n",
    "Satisfies: t-test, p-value, hypothesis testing, box-plot, histogram, kernel density estimation\n",
    "                '''),\n",
    "            ]\n",
    "        ),\n",
    "        html.Div(\n",
    "            [\n",
    "                dcc.Graph(id = \"hypothesis-graph\"),\n",
    "                dcc.RadioItems(\n",
    "                    id = \"hypothesis-keys\",\n",
    "                    options = [\n",
    "                        {'value' : x, 'label' : f\"Test how '{x}' ...\"}\n",
    "                        for x in test_keys\n",
    "                    ],\n",
    "                    value = \"Stop\",\n",
    "                    labelStyle = {'display' : 'inline-block'}\n",
    "                ),\n",
    "                dcc.RadioItems(\n",
    "                    id = \"hypothesis-metric\",\n",
    "                    options = [\n",
    "                        {'value' : x, 'label' : f\"... impacts metric '{x}'\"}\n",
    "                        for x in test_metrics\n",
    "                    ],\n",
    "                    value = \"Distance(mi)\",\n",
    "                    labelStyle = {'display' : 'inline-block'}\n",
    "                )\n",
    "            ]\n",
    "        ),\n",
    "        html.Hr(),\n",
    "    ]\n",
    ")\n",
    "\n",
    "print(\"... Part 3 callback...\")\n",
    "@app.callback(\n",
    "    Output(\"hypothesis-graph\", \"figure\"), \n",
    "    [Input(\"hypothesis-keys\", \"value\"),\n",
    "     Input(\"hypothesis-metric\", \"value\")\n",
    "    ]\n",
    ")\n",
    "def part_3_figure(key = 'Stop', metric = 'Distance(mi)', show_boxes=True):\n",
    "    # From our dataframe, get items with and without boolean key\n",
    "    key_with = df[df[key] == True][metric]\n",
    "    key_without = df[df[key] == False][metric]\n",
    "\n",
    "    # get degrees of freedom\n",
    "    v_obs = degreesOfFreedom(key_with, key_without)\n",
    "    # Get the t-pdf of our two values\n",
    "    pdf_with = lambda x: stats.t.pdf(\n",
    "        x, df = v_obs, loc = key_with.mean(), scale = key_with.std()\n",
    "    )\n",
    "    pdf_without = lambda x: stats.t.pdf(\n",
    "        x, df = v_obs, loc = key_without.mean(), scale = key_without.std()\n",
    "    )\n",
    "    # get statistics\n",
    "    t_obs, p_obs = scipy.stats.ttest_ind(key_with, key_without)\n",
    "\n",
    "    # Lines for graphing\n",
    "    Xs = np.linspace(-8, 8, 1000)\n",
    "    Ys_with = [pdf_with(x) for x in Xs]\n",
    "    Ys_without = [pdf_without(x) for x in Xs]\n",
    "\n",
    "    # Create figures\n",
    "    fig = go.Figure()\n",
    "    fig.add_trace(\n",
    "        go.Scatter(x=Xs, y=Ys_with, mode='lines', name=f\"With {key}\")\n",
    "    )\n",
    "    fig.add_trace(\n",
    "        go.Scatter(x=Xs, y=Ys_without, mode='lines', name=f\"Without {key}\")\n",
    "    )\n",
    "    # Add text\n",
    "    fig.add_trace(\n",
    "        go.Scatter(\n",
    "            x = [0],\n",
    "            y = [0.50],\n",
    "            text = [f\"T-stat: {t_obs:.3f}    P-score: {p_obs:.3f}\"],\n",
    "            mode = \"text\",\n",
    "            name = \"Stats\"\n",
    "        )\n",
    "    )\n",
    "    \n",
    "    if show_boxes:\n",
    "        fig.add_trace(\n",
    "            go.Box(x=key_with, name=f\"Boxplot accidents with {key}\")\n",
    "        )\n",
    "        fig.add_trace(\n",
    "            go.Box(x=key_without, name=f\"Boxplot  accidents without {key}\")\n",
    "        )\n",
    "    \n",
    "    return fig"
   ]
  },
  {
   "cell_type": "code",
   "execution_count": 5,
   "id": "d46ce6c6-ff9a-4b21-a4d4-3cbe07ea38d2",
   "metadata": {},
   "outputs": [
    {
     "name": "stdout",
     "output_type": "stream",
     "text": [
      "Building part 4...\n",
      "... Part 4 callback...\n"
     ]
    }
   ],
   "source": [
    "print(\"Building part 4...\")\n",
    "\n",
    "part_4_map = html.Div(\n",
    "    [\n",
    "        html.Div(\n",
    "            [\n",
    "                html.H2(\"Part 4: Map of accidents by severity\"),\n",
    "                html.P('''\n",
    "The dataset labels accidents by the severity of the imapct it has on traffic,\n",
    "on a scale of 1 (not severe) to 4 (most severe). Explore the distribution of\n",
    "severity of these accidents here, and how they relate with different traffic measures.\n",
    "\n",
    "Satisfies: Cartogram map, geospatial analysis\n",
    "                '''),\n",
    "            ]\n",
    "        ),\n",
    "        html.Div(\n",
    "            [\n",
    "                dcc.Graph(id = \"accidents-map\"),\n",
    "                dcc.RadioItems(\n",
    "                    id = \"map-severity\",\n",
    "                    options = [{'value' : x, 'label' : f\"Severity {x}\"}\n",
    "                               for x in [1,2,3,4]],\n",
    "                    value = 1,\n",
    "                    labelStyle = {'display' : 'inline-block'}\n",
    "                ),\n",
    "                dcc.RadioItems(\n",
    "                    id = \"severity-checklist-map\",\n",
    "                    options = [{'value' : str(x), 'label' : f'{str(x)}'}\n",
    "                               for x in ['Any'] + dist_checklist_keys],\n",
    "                    value   = 'Any',\n",
    "                    labelStyle = {'display' : 'inline-block'}\n",
    "                ),\n",
    "            ]\n",
    "        )\n",
    "                \n",
    "    ]\n",
    ")\n",
    "\n",
    "print(\"... Part 4 callback...\")\n",
    "@app.callback(\n",
    "    Output(\"accidents-map\", \"figure\"), \n",
    "    [Input(\"map-severity\", \"value\"),\n",
    "     Input(\"severity-checklist-map\", \"value\"),\n",
    "    ]\n",
    ")\n",
    "def part_4_figure(severity = [1], traffic_measure = 'Any'):\n",
    "    colors = [\n",
    "        'rgba(0,0,0,0)',\n",
    "        'rgba(0,128,192,192)',\n",
    "        'rgba(128,0,192,192)',\n",
    "        'rgba(256,0,128,192)', \n",
    "        'rgba(256,128,0,192)'\n",
    "    ]\n",
    "    \n",
    "    if traffic_measure == 'Any':\n",
    "        df_subset = df[df['Severity'] == severity]\n",
    "    else:\n",
    "        df_subset = df[df['Severity'] == severity][df[traffic_measure] == True]\n",
    "    \n",
    "    color_str = colors[severity]\n",
    "    color = [color_str for _ in range(len(df_subset))]\n",
    "    \n",
    "    fig = go.Figure(\n",
    "        data = go.Scattergeo(\n",
    "            lat=df_subset['Start_Lat'],\n",
    "            lon=df_subset['Start_Lng'],\n",
    "            marker_color = color,\n",
    "            marker_size = 4,\n",
    "        )\n",
    "    )\n",
    "    \n",
    "    fig.update_layout(geo_scope='usa')\n",
    "    \n",
    "    return fig"
   ]
  },
  {
   "cell_type": "code",
   "execution_count": 6,
   "id": "69e2314a-461a-4e6f-9cae-1c8234841014",
   "metadata": {},
   "outputs": [
    {
     "name": "stdout",
     "output_type": "stream",
     "text": [
      "Preparing part 5...\n",
      "... fitting for part 5...\n",
      "... Fitting done!\n"
     ]
    }
   ],
   "source": [
    "print(\"Preparing part 5...\")\n",
    "\n",
    "K_CLUSTERS = 12\n",
    "hues = [get_hues(ii) for ii in range(300)]\n",
    "all_geo_data = np.array([df_full[\"Start_Lng\"], df_full[\"Start_Lat\"]]).T\n",
    "some_geo_data = np.array([df[\"Start_Lng\"], df[\"Start_Lat\"]]).T\n",
    "\n",
    "print(\"... fitting for part 5...\")\n",
    "gmm = GaussianMixture(n_components = K_CLUSTERS)\n",
    "gmm.fit(get_sample(all_geo_data, 200_000))\n",
    "print(\"... Fitting done!\")"
   ]
  },
  {
   "cell_type": "code",
   "execution_count": 7,
   "id": "f9d34963-4cc7-46a2-85c6-a543d86e76ba",
   "metadata": {},
   "outputs": [
    {
     "name": "stdout",
     "output_type": "stream",
     "text": [
      "... generating part 5 figure...\n",
      "... Figure generated.\n"
     ]
    }
   ],
   "source": [
    "print(\"... generating part 5 figure...\")\n",
    "\n",
    "part_5_labels = gmm.predict(some_geo_data)\n",
    "part_5_colors = [hues[index] for index in part_5_labels]\n",
    "\n",
    "def part_5_figure():\n",
    "    fig = go.Figure(\n",
    "            data = go.Scattergeo(\n",
    "                lat=df['Start_Lat'],\n",
    "                lon=df['Start_Lng'],\n",
    "                marker_color = part_5_colors,\n",
    "                marker_size = 2,\n",
    "            )\n",
    "        )\n",
    "    fig.update_layout(geo_scope='usa')\n",
    "    return fig\n",
    "\n",
    "part_5_figure_instance = part_5_figure()\n",
    "print(\"... Figure generated.\")"
   ]
  },
  {
   "cell_type": "code",
   "execution_count": 8,
   "id": "3e11b217-a866-428d-b7cd-ced86b60fa99",
   "metadata": {},
   "outputs": [
    {
     "name": "stdout",
     "output_type": "stream",
     "text": [
      "... building part 5...\n"
     ]
    }
   ],
   "source": [
    "print(\"... building part 5...\")\n",
    "\n",
    "part_5_map = html.Div(\n",
    "    [\n",
    "        html.Hr(),\n",
    "        html.Div(\n",
    "            [\n",
    "                html.H2(\"Part 5: Accident clustering\"),\n",
    "                html.P('''\n",
    "This modal plots the same map as above, but now with all points clustered according to location.\n",
    "\n",
    "This uses a 12-class Gaussian Mixture Model.\n",
    "\n",
    "Satisfies: Gaussian mixture model, classification, clustering.\n",
    "\n",
    "Note that we skip K-Means and hierarchical clustering,\n",
    "since it is too intensive to display, even on this subset of 10000 points.\n",
    "                '''),\n",
    "                dcc.Graph(id = \"clustered-map\", figure = part_5_figure_instance)\n",
    "            ]\n",
    "        ),\n",
    "        html.Hr()\n",
    "    ]\n",
    ")"
   ]
  },
  {
   "cell_type": "code",
   "execution_count": 9,
   "id": "e7289a27-11d9-4f66-8f22-ab4832d017b1",
   "metadata": {},
   "outputs": [
    {
     "name": "stdout",
     "output_type": "stream",
     "text": [
      "Preparing part 6 data...\n",
      "... Preparing part 6 tools...\n"
     ]
    }
   ],
   "source": [
    "print(\"Preparing part 6 data...\")\n",
    "\n",
    "df_real = df.copy().replace(\n",
    "    [False, True, -np.inf, np.inf, np.nan],\n",
    "    [0.00,  1.00,  0.0,  0.0,  0.0]\n",
    ")\n",
    "\n",
    "axis_keys = [\n",
    "    'Distance(mi)', 'Severity',\n",
    "    'Stop', 'Crossing', 'Traffic_Calming', 'Traffic_Signal',\n",
    "    'Temperature(F)', 'Humidity(%)', 'Pressure(in)', 'Visibility(mi)','Wind_Speed(mph)', 'Precipitation(in)',\n",
    "]\n",
    "\n",
    "print(\"... Preparing part 6 tools...\")\n",
    "def eval_polyfit(xx, coefs):\n",
    "    '''\n",
    "    For given x, and coefficients from np.polynomial.polynomial.polyfit(X,Y)\n",
    "    '''\n",
    "    s = 0\n",
    "    for ii, coef in enumerate(coefs):\n",
    "        s += xx**ii * coef\n",
    "    \n",
    "    return s\n",
    "\n",
    "def get_polyfit_points(\n",
    "    dataframe = df_real, xkey = 'Stop', ykey = 'Distance(mi)', deg = 3\n",
    "):\n",
    "    # 1. Get coefficients \n",
    "    polyfit = np.polynomial.polynomial.polyfit(\n",
    "        dataframe[xkey],\n",
    "        dataframe[ykey],\n",
    "        deg = deg\n",
    "    )\n",
    "    \n",
    "    # 2. Get Xrange\n",
    "    Xs = np.linspace(dataframe[xkey].min(), dataframe[xkey].max(), 1000)\n",
    "    \n",
    "    # 3. Get Ys\n",
    "    Ys = [eval_polyfit(xx, polyfit) for xx in Xs]\n",
    "    \n",
    "    return Xs, Ys, polyfit"
   ]
  },
  {
   "cell_type": "code",
   "execution_count": 10,
   "id": "e5f52a3c-d238-4e98-8d85-a436f05bf81e",
   "metadata": {},
   "outputs": [
    {
     "name": "stdout",
     "output_type": "stream",
     "text": [
      "... Building part 6.\n",
      "Part 6 callback...\n"
     ]
    }
   ],
   "source": [
    "print(\"... Building part 6.\")\n",
    "\n",
    "part_6_fitting = html.Div(\n",
    "    [\n",
    "        html.Hr(),\n",
    "        html.Div(\n",
    "            [\n",
    "                html.H2(\"Final part: Arbitrary regressions\"),\n",
    "                html.P('''\n",
    "In this final modal, please explore combinations of all the data items.\n",
    "This modal will allow you to scatter (along X and Y axes) any two items from the dataset.\n",
    "\n",
    "This modal also includes regression fitting, with user-set exponent (linear, quadratic, etc.)\n",
    "\n",
    "Satisfies: Line graph, basics, linear regression, pearson correlation, correlation analysis.\n",
    "                '''),\n",
    "                html.Div(\n",
    "                    [\n",
    "                        dcc.Graph(id=\"fitting-graph\"),\n",
    "                    ],\n",
    "                    style={'display': 'inline-block', 'vertical-align': 'left'}\n",
    "                ),\n",
    "                html.Div(\n",
    "                    [\n",
    "                        dcc.Dropdown(\n",
    "                            id = 'fit-xaxis',\n",
    "                            options = [\n",
    "                                {'value' : x, 'label' : x}\n",
    "                                for x in axis_keys\n",
    "                            ],\n",
    "                            value = 'Precipitation(in)',\n",
    "                        ),\n",
    "                        dcc.Dropdown(\n",
    "                            id = 'fit-yaxis',\n",
    "                            options = [\n",
    "                                {'value' : x, 'label' : x}\n",
    "                                for x in axis_keys\n",
    "                            ],\n",
    "                            value = 'Severity',\n",
    "                        ),\n",
    "                        dcc.Dropdown(\n",
    "                            id = 'fit-exponent',\n",
    "                            options = [\n",
    "                                {'value' : 1, 'label' : \"Linear (x¹)\"},\n",
    "                                {'value' : 2, 'label' : \"Quadratic (x²)\"},\n",
    "                                {'value' : 3, 'label' : \"Cubic (x³)\"},\n",
    "                                {'value' : 4, 'label' : \"... (x⁴)\"},\n",
    "                                {'value' : 5, 'label' : \"... (x⁵)\"}\n",
    "                            ],\n",
    "                            value = 3,\n",
    "                        ),\n",
    "                    ],\n",
    "                    style={'width': '15%', 'display': 'inline-block', 'vertical-align': 'top'}\n",
    "                )\n",
    "            ]\n",
    "        ),\n",
    "        html.Hr(),\n",
    "    ]\n",
    ")\n",
    "\n",
    "print(\"Part 6 callback...\")\n",
    "@app.callback(\n",
    "    Output(\"fitting-graph\", \"figure\"),\n",
    "    [\n",
    "        Input(\"fit-xaxis\", \"value\"),\n",
    "        Input(\"fit-yaxis\", \"value\"),\n",
    "        Input(\"fit-exponent\", \"value\"),\n",
    "    ]\n",
    ")\n",
    "def get_figure_part6(xkey = 'Stop', ykey = 'Distance(mi)', deg = 1):\n",
    "    dataframe = df_real\n",
    "    print(xkey, ykey, deg)\n",
    "    fig = px.scatter(dataframe, xkey, ykey) #go.Figure()\n",
    "\n",
    "    # 2. Plot fit\n",
    "    Xs, Ys, coefs = get_polyfit_points(dataframe, xkey, ykey, deg = deg)\n",
    "    fig.add_trace(\n",
    "        go.Scatter(x = Xs, y = Ys, mode='lines', name = \"Regression\")\n",
    "    )\n",
    "\n",
    "    # 3. Get Pearson correlation\n",
    "    pcc = np.corrcoef(dataframe[xkey], dataframe[ykey])[0,1]\n",
    "\n",
    "    # 4. Plot coefficients and correlation\n",
    "    midpoint_idx = len(Xs)//2\n",
    "\n",
    "    funcstr = \"y = \"\n",
    "    power   = len(coefs) - 1\n",
    "    for coef in coefs[::-1]:\n",
    "        funcstr = funcstr + str(np.round(coef, 2)) + \"x^\" + str(power) + \" + \"\n",
    "        power = power - 1\n",
    "\n",
    "    funcstr = funcstr[:-5] # remove '^0 + '\n",
    "\n",
    "    fig.add_trace(\n",
    "        go.Scatter(\n",
    "            x = [Xs[midpoint_idx],],\n",
    "            y = [dataframe[ykey].max()] ,\n",
    "            text = [funcstr + f\"; with Pearson ρ: {pcc:.3f}\",],\n",
    "            mode = \"text\",\n",
    "            name = \"Fitting parameters\"\n",
    "        )\n",
    "    )\n",
    "\n",
    "    return fig"
   ]
  },
  {
   "cell_type": "code",
   "execution_count": null,
   "id": "85973eaa-c211-4d89-aca2-56f9bb8b96db",
   "metadata": {},
   "outputs": [
    {
     "name": "stdout",
     "output_type": "stream",
     "text": [
      "Hooray! Finished building all the individual parts.\n",
      "Building video...\n",
      "Building final layout...\n",
      "Building pages dict...\n",
      "Building final callback...\n",
      "Bada bing bada boom! Now all that is left is to run the server...\n",
      "Dash is running on http://127.0.0.1:8087/\n",
      "\n",
      " * Serving Flask app 'Traffic accident data studio' (lazy loading)\n",
      " * Environment: production\n",
      "\u001b[31m   WARNING: This is a development server. Do not use it in a production deployment.\u001b[0m\n",
      "\u001b[2m   Use a production WSGI server instead.\u001b[0m\n",
      " * Debug mode: off\n"
     ]
    },
    {
     "name": "stderr",
     "output_type": "stream",
     "text": [
      " * Running on http://127.0.0.1:8087/ (Press CTRL+C to quit)\n",
      "127.0.0.1 - - [12/Dec/2021 20:58:13] \"GET / HTTP/1.1\" 200 -\n",
      "127.0.0.1 - - [12/Dec/2021 20:58:13] \"GET /_dash-layout HTTP/1.1\" 200 -\n",
      "127.0.0.1 - - [12/Dec/2021 20:58:13] \"GET /_dash-dependencies HTTP/1.1\" 200 -\n",
      "127.0.0.1 - - [12/Dec/2021 20:58:13] \"GET /_favicon.ico?v=2.0.0 HTTP/1.1\" 200 -\n",
      "127.0.0.1 - - [12/Dec/2021 20:58:13] \"POST /_dash-update-component HTTP/1.1\" 200 -\n",
      "127.0.0.1 - - [12/Dec/2021 20:58:13] \"\u001b[35m\u001b[1mGET /static/demo_video.mp4 HTTP/1.1\u001b[0m\" 206 -\n",
      "127.0.0.1 - - [12/Dec/2021 20:58:13] \"\u001b[35m\u001b[1mGET /static/demo_video.mp4 HTTP/1.1\u001b[0m\" 206 -\n",
      "127.0.0.1 - - [12/Dec/2021 20:58:13] \"\u001b[35m\u001b[1mGET /static/demo_video.mp4 HTTP/1.1\u001b[0m\" 206 -\n",
      "127.0.0.1 - - [12/Dec/2021 20:58:13] \"\u001b[35m\u001b[1mGET /static/demo_video.mp4 HTTP/1.1\u001b[0m\" 206 -\n"
     ]
    },
    {
     "name": "stdout",
     "output_type": "stream",
     "text": [
      "tab-video\n"
     ]
    },
    {
     "name": "stderr",
     "output_type": "stream",
     "text": [
      "127.0.0.1 - - [12/Dec/2021 20:58:14] \"POST /_dash-update-component HTTP/1.1\" 200 -\n",
      "127.0.0.1 - - [12/Dec/2021 20:58:14] \"GET /_dash-component-suites/dash/dcc/async-graph.js HTTP/1.1\" 200 -\n",
      "127.0.0.1 - - [12/Dec/2021 20:58:14] \"GET /_dash-component-suites/dash/dcc/async-dropdown.js HTTP/1.1\" 200 -\n",
      "127.0.0.1 - - [12/Dec/2021 20:58:14] \"GET /_dash-component-suites/dash/dcc/async-plotlyjs.js HTTP/1.1\" 200 -\n"
     ]
    },
    {
     "name": "stdout",
     "output_type": "stream",
     "text": [
      "tab-6\n",
      "Precipitation(in) Severity 3\n"
     ]
    },
    {
     "name": "stderr",
     "output_type": "stream",
     "text": [
      "127.0.0.1 - - [12/Dec/2021 20:58:14] \"POST /_dash-update-component HTTP/1.1\" 200 -\n",
      "127.0.0.1 - - [12/Dec/2021 20:58:19] \"POST /_dash-update-component HTTP/1.1\" 200 -\n"
     ]
    },
    {
     "name": "stdout",
     "output_type": "stream",
     "text": [
      "tab-5\n"
     ]
    },
    {
     "name": "stderr",
     "output_type": "stream",
     "text": [
      "127.0.0.1 - - [12/Dec/2021 20:58:20] \"POST /_dash-update-component HTTP/1.1\" 200 -\n",
      "127.0.0.1 - - [12/Dec/2021 20:58:20] \"POST /_dash-update-component HTTP/1.1\" 200 -\n"
     ]
    },
    {
     "name": "stdout",
     "output_type": "stream",
     "text": [
      "tab-4\n"
     ]
    },
    {
     "name": "stderr",
     "output_type": "stream",
     "text": [
      "127.0.0.1 - - [12/Dec/2021 20:58:21] \"POST /_dash-update-component HTTP/1.1\" 200 -\n"
     ]
    },
    {
     "name": "stdout",
     "output_type": "stream",
     "text": [
      "tab-3\n"
     ]
    },
    {
     "name": "stderr",
     "output_type": "stream",
     "text": [
      "127.0.0.1 - - [12/Dec/2021 20:58:22] \"POST /_dash-update-component HTTP/1.1\" 200 -\n",
      "127.0.0.1 - - [12/Dec/2021 20:58:22] \"POST /_dash-update-component HTTP/1.1\" 200 -\n",
      "127.0.0.1 - - [12/Dec/2021 20:58:22] \"GET /_dash-component-suites/dash/dcc/async-slider.js HTTP/1.1\" 200 -\n"
     ]
    },
    {
     "name": "stdout",
     "output_type": "stream",
     "text": [
      "tab-2\n"
     ]
    },
    {
     "name": "stderr",
     "output_type": "stream",
     "text": [
      "127.0.0.1 - - [12/Dec/2021 20:58:23] \"POST /_dash-update-component HTTP/1.1\" 200 -\n",
      "127.0.0.1 - - [12/Dec/2021 20:58:26] \"POST /_dash-update-component HTTP/1.1\" 200 -\n"
     ]
    },
    {
     "name": "stdout",
     "output_type": "stream",
     "text": [
      "tab-1\n"
     ]
    },
    {
     "name": "stderr",
     "output_type": "stream",
     "text": [
      "127.0.0.1 - - [12/Dec/2021 20:58:26] \"POST /_dash-update-component HTTP/1.1\" 200 -\n",
      "127.0.0.1 - - [12/Dec/2021 20:58:30] \"POST /_dash-update-component HTTP/1.1\" 200 -\n"
     ]
    },
    {
     "name": "stdout",
     "output_type": "stream",
     "text": [
      "tab-2\n"
     ]
    },
    {
     "name": "stderr",
     "output_type": "stream",
     "text": [
      "127.0.0.1 - - [12/Dec/2021 20:58:31] \"POST /_dash-update-component HTTP/1.1\" 200 -\n",
      "127.0.0.1 - - [12/Dec/2021 20:58:34] \"POST /_dash-update-component HTTP/1.1\" 200 -\n"
     ]
    },
    {
     "name": "stdout",
     "output_type": "stream",
     "text": [
      "tab-3\n"
     ]
    },
    {
     "name": "stderr",
     "output_type": "stream",
     "text": [
      "127.0.0.1 - - [12/Dec/2021 20:58:34] \"POST /_dash-update-component HTTP/1.1\" 200 -\n",
      "127.0.0.1 - - [12/Dec/2021 20:58:35] \"POST /_dash-update-component HTTP/1.1\" 200 -\n",
      "127.0.0.1 - - [12/Dec/2021 20:58:36] \"POST /_dash-update-component HTTP/1.1\" 200 -\n"
     ]
    },
    {
     "name": "stdout",
     "output_type": "stream",
     "text": [
      "tab-4\n"
     ]
    },
    {
     "name": "stderr",
     "output_type": "stream",
     "text": [
      "127.0.0.1 - - [12/Dec/2021 20:58:37] \"POST /_dash-update-component HTTP/1.1\" 200 -\n"
     ]
    },
    {
     "name": "stdout",
     "output_type": "stream",
     "text": [
      "tab-5\n"
     ]
    },
    {
     "name": "stderr",
     "output_type": "stream",
     "text": [
      "127.0.0.1 - - [12/Dec/2021 20:58:39] \"POST /_dash-update-component HTTP/1.1\" 200 -\n",
      "127.0.0.1 - - [12/Dec/2021 20:58:39] \"POST /_dash-update-component HTTP/1.1\" 200 -\n"
     ]
    },
    {
     "name": "stdout",
     "output_type": "stream",
     "text": [
      "tab-6\n",
      "Precipitation(in) Severity 3\n"
     ]
    },
    {
     "name": "stderr",
     "output_type": "stream",
     "text": [
      "127.0.0.1 - - [12/Dec/2021 20:58:40] \"POST /_dash-update-component HTTP/1.1\" 200 -\n"
     ]
    },
    {
     "name": "stdout",
     "output_type": "stream",
     "text": [
      "tab-video\n"
     ]
    },
    {
     "name": "stderr",
     "output_type": "stream",
     "text": [
      "127.0.0.1 - - [12/Dec/2021 20:58:41] \"POST /_dash-update-component HTTP/1.1\" 200 -\n",
      "127.0.0.1 - - [12/Dec/2021 20:58:41] \"POST /_dash-update-component HTTP/1.1\" 200 -\n"
     ]
    },
    {
     "name": "stdout",
     "output_type": "stream",
     "text": [
      "tab-1\n"
     ]
    },
    {
     "name": "stderr",
     "output_type": "stream",
     "text": [
      "127.0.0.1 - - [12/Dec/2021 20:59:28] \"POST /_dash-update-component HTTP/1.1\" 200 -\n",
      "127.0.0.1 - - [12/Dec/2021 20:59:28] \"POST /_dash-update-component HTTP/1.1\" 200 -\n"
     ]
    },
    {
     "name": "stdout",
     "output_type": "stream",
     "text": [
      "tab-6\n",
      "Precipitation(in) Severity 3\n"
     ]
    },
    {
     "name": "stderr",
     "output_type": "stream",
     "text": [
      "127.0.0.1 - - [12/Dec/2021 20:59:29] \"POST /_dash-update-component HTTP/1.1\" 200 -\n",
      "127.0.0.1 - - [12/Dec/2021 20:59:29] \"POST /_dash-update-component HTTP/1.1\" 200 -\n"
     ]
    },
    {
     "name": "stdout",
     "output_type": "stream",
     "text": [
      "tab-1\n"
     ]
    },
    {
     "name": "stderr",
     "output_type": "stream",
     "text": [
      "127.0.0.1 - - [12/Dec/2021 21:38:05] \"POST /_dash-update-component HTTP/1.1\" 200 -\n"
     ]
    },
    {
     "name": "stdout",
     "output_type": "stream",
     "text": [
      "tab-2\n"
     ]
    },
    {
     "name": "stderr",
     "output_type": "stream",
     "text": [
      "127.0.0.1 - - [12/Dec/2021 21:38:05] \"POST /_dash-update-component HTTP/1.1\" 200 -\n",
      "127.0.0.1 - - [12/Dec/2021 21:38:12] \"POST /_dash-update-component HTTP/1.1\" 200 -\n"
     ]
    },
    {
     "name": "stdout",
     "output_type": "stream",
     "text": [
      "tab-3\n"
     ]
    },
    {
     "name": "stderr",
     "output_type": "stream",
     "text": [
      "127.0.0.1 - - [12/Dec/2021 21:38:12] \"POST /_dash-update-component HTTP/1.1\" 200 -\n",
      "127.0.0.1 - - [12/Dec/2021 21:38:24] \"POST /_dash-update-component HTTP/1.1\" 200 -\n",
      "127.0.0.1 - - [12/Dec/2021 21:38:24] \"POST /_dash-update-component HTTP/1.1\" 200 -\n"
     ]
    },
    {
     "name": "stdout",
     "output_type": "stream",
     "text": [
      "tab-4\n"
     ]
    },
    {
     "name": "stderr",
     "output_type": "stream",
     "text": [
      "127.0.0.1 - - [12/Dec/2021 21:38:26] \"POST /_dash-update-component HTTP/1.1\" 200 -\n",
      "127.0.0.1 - - [12/Dec/2021 21:38:26] \"POST /_dash-update-component HTTP/1.1\" 200 -\n"
     ]
    },
    {
     "name": "stdout",
     "output_type": "stream",
     "text": [
      "tab-1\n"
     ]
    },
    {
     "name": "stderr",
     "output_type": "stream",
     "text": [
      "127.0.0.1 - - [12/Dec/2021 21:40:44] \"POST /_dash-update-component HTTP/1.1\" 200 -\n"
     ]
    },
    {
     "name": "stdout",
     "output_type": "stream",
     "text": [
      "tab-3\n"
     ]
    },
    {
     "name": "stderr",
     "output_type": "stream",
     "text": [
      "127.0.0.1 - - [12/Dec/2021 21:40:44] \"POST /_dash-update-component HTTP/1.1\" 200 -\n",
      "127.0.0.1 - - [12/Dec/2021 21:40:52] \"POST /_dash-update-component HTTP/1.1\" 200 -\n",
      "127.0.0.1 - - [12/Dec/2021 21:40:55] \"POST /_dash-update-component HTTP/1.1\" 200 -\n",
      "127.0.0.1 - - [12/Dec/2021 21:40:58] \"POST /_dash-update-component HTTP/1.1\" 200 -\n",
      "127.0.0.1 - - [12/Dec/2021 21:41:08] \"POST /_dash-update-component HTTP/1.1\" 200 -\n"
     ]
    },
    {
     "name": "stdout",
     "output_type": "stream",
     "text": [
      "tab-2\n"
     ]
    },
    {
     "name": "stderr",
     "output_type": "stream",
     "text": [
      "127.0.0.1 - - [12/Dec/2021 21:41:08] \"POST /_dash-update-component HTTP/1.1\" 200 -\n",
      "127.0.0.1 - - [12/Dec/2021 21:41:11] \"POST /_dash-update-component HTTP/1.1\" 200 -\n"
     ]
    },
    {
     "name": "stdout",
     "output_type": "stream",
     "text": [
      "tab-3\n"
     ]
    },
    {
     "name": "stderr",
     "output_type": "stream",
     "text": [
      "127.0.0.1 - - [12/Dec/2021 21:41:11] \"POST /_dash-update-component HTTP/1.1\" 200 -\n",
      "127.0.0.1 - - [12/Dec/2021 21:41:13] \"POST /_dash-update-component HTTP/1.1\" 200 -\n",
      "127.0.0.1 - - [12/Dec/2021 21:41:13] \"POST /_dash-update-component HTTP/1.1\" 200 -\n"
     ]
    },
    {
     "name": "stdout",
     "output_type": "stream",
     "text": [
      "tab-1\n"
     ]
    },
    {
     "name": "stderr",
     "output_type": "stream",
     "text": [
      "127.0.0.1 - - [12/Dec/2021 21:42:01] \"POST /_dash-update-component HTTP/1.1\" 200 -\n",
      "127.0.0.1 - - [12/Dec/2021 21:42:03] \"POST /_dash-update-component HTTP/1.1\" 200 -\n",
      "127.0.0.1 - - [12/Dec/2021 21:42:14] \"POST /_dash-update-component HTTP/1.1\" 200 -\n",
      "127.0.0.1 - - [12/Dec/2021 21:42:17] \"POST /_dash-update-component HTTP/1.1\" 200 -\n",
      "127.0.0.1 - - [12/Dec/2021 21:46:07] \"POST /_dash-update-component HTTP/1.1\" 200 -\n",
      "127.0.0.1 - - [12/Dec/2021 21:46:17] \"POST /_dash-update-component HTTP/1.1\" 200 -\n",
      "127.0.0.1 - - [12/Dec/2021 21:46:18] \"POST /_dash-update-component HTTP/1.1\" 200 -\n",
      "127.0.0.1 - - [12/Dec/2021 21:46:18] \"POST /_dash-update-component HTTP/1.1\" 200 -\n",
      "127.0.0.1 - - [12/Dec/2021 21:46:20] \"POST /_dash-update-component HTTP/1.1\" 200 -\n",
      "127.0.0.1 - - [12/Dec/2021 21:46:29] \"POST /_dash-update-component HTTP/1.1\" 200 -\n"
     ]
    },
    {
     "name": "stdout",
     "output_type": "stream",
     "text": [
      "tab-2\n"
     ]
    },
    {
     "name": "stderr",
     "output_type": "stream",
     "text": [
      "127.0.0.1 - - [12/Dec/2021 21:46:29] \"POST /_dash-update-component HTTP/1.1\" 200 -\n",
      "127.0.0.1 - - [12/Dec/2021 21:47:16] \"POST /_dash-update-component HTTP/1.1\" 200 -\n",
      "127.0.0.1 - - [12/Dec/2021 21:47:18] \"POST /_dash-update-component HTTP/1.1\" 200 -\n",
      "127.0.0.1 - - [12/Dec/2021 21:47:27] \"POST /_dash-update-component HTTP/1.1\" 200 -\n",
      "127.0.0.1 - - [12/Dec/2021 21:47:31] \"POST /_dash-update-component HTTP/1.1\" 200 -\n",
      "127.0.0.1 - - [12/Dec/2021 21:47:36] \"POST /_dash-update-component HTTP/1.1\" 200 -\n"
     ]
    },
    {
     "name": "stdout",
     "output_type": "stream",
     "text": [
      "tab-3\n"
     ]
    },
    {
     "name": "stderr",
     "output_type": "stream",
     "text": [
      "127.0.0.1 - - [12/Dec/2021 21:47:36] \"POST /_dash-update-component HTTP/1.1\" 200 -\n",
      "127.0.0.1 - - [12/Dec/2021 21:47:55] \"POST /_dash-update-component HTTP/1.1\" 200 -\n",
      "127.0.0.1 - - [12/Dec/2021 21:49:00] \"POST /_dash-update-component HTTP/1.1\" 200 -\n",
      "127.0.0.1 - - [12/Dec/2021 21:49:01] \"POST /_dash-update-component HTTP/1.1\" 200 -\n",
      "127.0.0.1 - - [12/Dec/2021 21:49:20] \"POST /_dash-update-component HTTP/1.1\" 200 -\n",
      "127.0.0.1 - - [12/Dec/2021 21:49:28] \"POST /_dash-update-component HTTP/1.1\" 200 -\n",
      "127.0.0.1 - - [12/Dec/2021 21:49:28] \"POST /_dash-update-component HTTP/1.1\" 200 -\n"
     ]
    },
    {
     "name": "stdout",
     "output_type": "stream",
     "text": [
      "tab-4\n"
     ]
    },
    {
     "name": "stderr",
     "output_type": "stream",
     "text": [
      "127.0.0.1 - - [12/Dec/2021 21:49:36] \"POST /_dash-update-component HTTP/1.1\" 200 -\n",
      "127.0.0.1 - - [12/Dec/2021 21:49:37] \"POST /_dash-update-component HTTP/1.1\" 200 -\n",
      "127.0.0.1 - - [12/Dec/2021 21:49:39] \"POST /_dash-update-component HTTP/1.1\" 200 -\n",
      "/tmp/ipykernel_15584/995456706.py:59: UserWarning:\n",
      "\n",
      "Boolean Series key will be reindexed to match DataFrame index.\n",
      "\n",
      "127.0.0.1 - - [12/Dec/2021 21:49:41] \"POST /_dash-update-component HTTP/1.1\" 200 -\n",
      "127.0.0.1 - - [12/Dec/2021 21:49:46] \"POST /_dash-update-component HTTP/1.1\" 200 -\n",
      "127.0.0.1 - - [12/Dec/2021 21:49:55] \"POST /_dash-update-component HTTP/1.1\" 200 -\n",
      "127.0.0.1 - - [12/Dec/2021 21:49:57] \"POST /_dash-update-component HTTP/1.1\" 200 -\n",
      "127.0.0.1 - - [12/Dec/2021 21:49:58] \"POST /_dash-update-component HTTP/1.1\" 200 -\n",
      "127.0.0.1 - - [12/Dec/2021 21:50:08] \"POST /_dash-update-component HTTP/1.1\" 200 -\n"
     ]
    },
    {
     "name": "stdout",
     "output_type": "stream",
     "text": [
      "tab-5\n"
     ]
    },
    {
     "name": "stderr",
     "output_type": "stream",
     "text": [
      "127.0.0.1 - - [12/Dec/2021 21:50:21] \"POST /_dash-update-component HTTP/1.1\" 200 -\n"
     ]
    },
    {
     "name": "stdout",
     "output_type": "stream",
     "text": [
      "tab-6\n",
      "Precipitation(in) Severity 3\n"
     ]
    },
    {
     "name": "stderr",
     "output_type": "stream",
     "text": [
      "127.0.0.1 - - [12/Dec/2021 21:50:21] \"POST /_dash-update-component HTTP/1.1\" 200 -\n",
      "127.0.0.1 - - [12/Dec/2021 21:50:38] \"POST /_dash-update-component HTTP/1.1\" 200 -\n"
     ]
    },
    {
     "name": "stdout",
     "output_type": "stream",
     "text": [
      "Precipitation(in) Severity 1\n"
     ]
    },
    {
     "name": "stderr",
     "output_type": "stream",
     "text": [
      "127.0.0.1 - - [12/Dec/2021 21:51:12] \"POST /_dash-update-component HTTP/1.1\" 200 -\n"
     ]
    },
    {
     "name": "stdout",
     "output_type": "stream",
     "text": [
      "Precipitation(in) Severity 3\n"
     ]
    },
    {
     "name": "stderr",
     "output_type": "stream",
     "text": [
      "127.0.0.1 - - [12/Dec/2021 21:51:15] \"POST /_dash-update-component HTTP/1.1\" 200 -\n"
     ]
    },
    {
     "name": "stdout",
     "output_type": "stream",
     "text": [
      "Humidity(%) Severity 3\n"
     ]
    },
    {
     "name": "stderr",
     "output_type": "stream",
     "text": [
      "/home/lynn/miniconda3/envs/5520/lib/python3.9/site-packages/numpy/polynomial/polynomial.py:1361: RankWarning:\n",
      "\n",
      "The fit may be poorly conditioned\n",
      "\n",
      "127.0.0.1 - - [12/Dec/2021 21:51:18] \"POST /_dash-update-component HTTP/1.1\" 200 -\n"
     ]
    },
    {
     "name": "stdout",
     "output_type": "stream",
     "text": [
      "Stop Severity 3\n"
     ]
    },
    {
     "name": "stderr",
     "output_type": "stream",
     "text": [
      "127.0.0.1 - - [12/Dec/2021 21:51:20] \"POST /_dash-update-component HTTP/1.1\" 200 -\n"
     ]
    },
    {
     "name": "stdout",
     "output_type": "stream",
     "text": [
      "Stop Distance(mi) 3\n"
     ]
    },
    {
     "name": "stderr",
     "output_type": "stream",
     "text": [
      "127.0.0.1 - - [12/Dec/2021 21:51:22] \"POST /_dash-update-component HTTP/1.1\" 200 -\n"
     ]
    },
    {
     "name": "stdout",
     "output_type": "stream",
     "text": [
      "Stop Stop 3\n"
     ]
    },
    {
     "name": "stderr",
     "output_type": "stream",
     "text": [
      "127.0.0.1 - - [12/Dec/2021 21:51:33] \"POST /_dash-update-component HTTP/1.1\" 200 -\n"
     ]
    },
    {
     "name": "stdout",
     "output_type": "stream",
     "text": [
      "Stop Distance(mi) 3\n"
     ]
    },
    {
     "name": "stderr",
     "output_type": "stream",
     "text": [
      "127.0.0.1 - - [12/Dec/2021 21:51:41] \"POST /_dash-update-component HTTP/1.1\" 200 -\n"
     ]
    },
    {
     "name": "stdout",
     "output_type": "stream",
     "text": [
      "Stop Distance(mi) 5\n"
     ]
    }
   ],
   "source": [
    "print(\"Hooray! Finished building all the individual parts.\")\n",
    "\n",
    "print(\"Building video...\")\n",
    "part_video = \n",
    "html.Div(\n",
    "    [\n",
    "        html.Video(\n",
    "            controls = True,\n",
    "            id = 'movie_player',\n",
    "            src = \"./static/demo_video.mp4\",\n",
    "            autoPlay=False,\n",
    "            width = 1024\n",
    "        ),\n",
    "        html.H2(\"US Accidents Analysis dashboard: Feb 2016 to December 2020\")\n",
    "        html.P('''\n",
    "This dashboard uses [Sobhan Moosavi's](https://www.kaggle.com/sobhanmoosavi) Kaggle dataset,\n",
    "[\"US Accidents\"](https://www.kaggle.com/sobhanmoosavi/us-accidents).\n",
    "\n",
    "This dataset compiles US traffic accidents from 49 US states. It includes weather information and traffic conditions from the time and place each accident takes place.\n",
    "\n",
    "This dataset also records the **distance** of road impacted by the accident (in miles), and the **severity** of the impact on traffic flor (from 1 to 4.)\n",
    "'''\n",
    "              )\n",
    "    ]\n",
    ")\n",
    "\n",
    "print(\"Building final layout...\")\n",
    "app.layout = html.Div(\n",
    "    [\n",
    "        dcc.Tabs(\n",
    "            id = \"studio-tabs\",\n",
    "            value = \"tab-video\",\n",
    "            children = [\n",
    "                dcc.Tab(\n",
    "                    label = \"Demo video\",\n",
    "                    value = \"tab-video\"\n",
    "                ),\n",
    "                dcc.Tab(\n",
    "                    label = \"Controls vs Severity\",\n",
    "                    value = \"tab-1\"\n",
    "                ),\n",
    "                dcc.Tab(\n",
    "                    label = \"Road conditions\",\n",
    "                    value = \"tab-2\"\n",
    "                ),\n",
    "                dcc.Tab(\n",
    "                    label = \"Testing Hypotheses\",\n",
    "                    value = \"tab-3\"\n",
    "                ),\n",
    "                dcc.Tab(\n",
    "                    label = \"Accidents map\",\n",
    "                    value = \"tab-4\"\n",
    "                ),\n",
    "                dcc.Tab(\n",
    "                    label = \"Clustering accidents\",\n",
    "                    value = \"tab-5\"\n",
    "                ),\n",
    "                dcc.Tab(\n",
    "                    label = \"Regression studio\",\n",
    "                    value = \"tab-6\"\n",
    "                ),\n",
    "            ]\n",
    "        ),\n",
    "        html.Div(id='current-content')\n",
    "    ],\n",
    "    style={\n",
    "        'width': '1024px',\n",
    "        'margin' : 'auto',\n",
    "        \n",
    "    }\n",
    ")\n",
    "\n",
    "print(\"Building pages dict...\")\n",
    "pages = {\n",
    "    'tab-video' : part_video,\n",
    "    'tab-1'     : part_1_severity,\n",
    "    'tab-2'     : part_2_histogram,\n",
    "    'tab-3'     : part_3_hypothesis,\n",
    "    'tab-4'     : part_4_map,\n",
    "    'tab-5'     : part_5_map,\n",
    "    'tab-6'     : part_6_fitting\n",
    "}\n",
    "\n",
    "print(\"Building final callback...\")\n",
    "@app.callback(Output('current-content', 'children'),\n",
    "              Input('studio-tabs', 'value'))\n",
    "def get_tab_content(tab_string):\n",
    "    print(tab_string)\n",
    "    return pages[tab_string]\n",
    "\n",
    "print(\"Bada bing bada boom! Now all that is left is to run the server...\")\n",
    "app.run_server(port = 8087, debug=False)\n",
    "print(\"... The end! Bye bye.\")"
   ]
  },
  {
   "cell_type": "code",
   "execution_count": null,
   "id": "c4e01caa-9607-4a6d-a3f6-5f738de29c3d",
   "metadata": {},
   "outputs": [],
   "source": []
  }
 ],
 "metadata": {
  "kernelspec": {
   "display_name": "Python 3 (ipykernel)",
   "language": "python",
   "name": "python3"
  },
  "language_info": {
   "codemirror_mode": {
    "name": "ipython",
    "version": 3
   },
   "file_extension": ".py",
   "mimetype": "text/x-python",
   "name": "python",
   "nbconvert_exporter": "python",
   "pygments_lexer": "ipython3",
   "version": "3.9.6"
  }
 },
 "nbformat": 4,
 "nbformat_minor": 5
}
