{
 "cells": [
  {
   "cell_type": "markdown",
   "id": "bdf2fb18-42a4-400c-90ea-85db1b7d20d8",
   "metadata": {},
   "source": [
    "# CSE 5520 Homework 3\n",
    "\n",
    "| | |\n",
    "|-|-|\n",
    "| **Student** | Lynn Pepin ('Tristan Pepin')\n",
    "|              | tmp13009 / 2079724\n",
    "| **Due date** | 2021 / Sept / 23 (Thur), 11:59PM\n",
    "\n",
    "\n",
    "This is Lynn Pepin's report for CSE 5520 homework 3."
   ]
  },
  {
   "cell_type": "markdown",
   "id": "fdc5ccbf-599b-4387-bbb8-71d3c5bc5c02",
   "metadata": {
    "tags": []
   },
   "source": [
    "# Part 1: Linear Regression.\n",
    "\n",
    "Consider a simple set of data points $\\{\\langle2,2\\rangle, \\langle3,3\\rangle, \\langle4,5\\rangle, \\langle6,4\\rangle\\}$.\n"
   ]
  },
  {
   "cell_type": "code",
   "execution_count": 55,
   "id": "46d65d04-8ed1-4287-874b-93a85f5f34c1",
   "metadata": {},
   "outputs": [],
   "source": [
    "import numpy as np\n",
    "import pandas as pd\n",
    "import matplotlib.pyplot as plt\n",
    "\n",
    "points = np.array([(2,2), (3,3), (4,5), (6,4)])\n",
    "# points[:,0] represent x\n",
    "# points[:,1] represent y\n",
    "\n",
    "EPS = 0.0000001\n",
    "\n",
    "def almost_equal(a,b,eps=EPS):\n",
    "    return abs(a-b) <= eps"
   ]
  },
  {
   "cell_type": "markdown",
   "id": "f6c38342-c2cf-4897-ba40-096d4fbc4c60",
   "metadata": {},
   "source": [
    "\n",
    "## Step 1:\n",
    "\n",
    "Show the given $<x, y>$ data points in a 2D plot\n",
    "\n",
    "## Step 2:\n",
    "\n",
    "Draw the regression line over the plot shown in Step 1. Steps 1 and 2 should be done in one cell of Jupyter Notebook."
   ]
  },
  {
   "cell_type": "code",
   "execution_count": 42,
   "id": "75c4980a-b4b1-4448-bc3f-15f0093f6a3b",
   "metadata": {},
   "outputs": [
    {
     "data": {
      "text/plain": [
       "[<matplotlib.lines.Line2D at 0x7f39bde6baf0>]"
      ]
     },
     "execution_count": 42,
     "metadata": {},
     "output_type": "execute_result"
    },
    {
     "data": {
      "image/png": "[encoded data removed]",
      "text/plain": [
       "<Figure size 432x288 with 1 Axes>"
      ]
     },
     "metadata": {
      "needs_background": "light"
     },
     "output_type": "display_data"
    }
   ],
   "source": [
    "# original dataset\n",
    "points = np.array([(2,2), (3,3), (4,5), (6,4)])\n",
    "\n",
    "# 1. Get the linear regression coefficients (i.e. slope and y-intercept) using np.polyfit with degree 1\n",
    "# (note: i'd usually refer to these as c_0, c_1, ...)\n",
    "mm, bb = np.polyfit(x=points[:,0], y=points[:,1], deg=1)\n",
    "\n",
    "# 2. reg_fit is a simple slope (y=mx+b); reg_Xs and reg_Ys are the X/Y values\n",
    "reg_fit = lambda xx: mm*xx + bb\n",
    "reg_Xs = np.linspace(0,8,81)\n",
    "reg_Ys = [reg_fit(xx) for xx in reg_Xs]\n",
    "\n",
    "# Plot our line and our points\n",
    "plt.scatter(points[:,0], points[:,1])\n",
    "plt.plot(reg_Xs, reg_Ys)"
   ]
  },
  {
   "cell_type": "markdown",
   "id": "4b0b5120-2e3f-4a10-8fa4-cab72cae321b",
   "metadata": {},
   "source": [
    "## Step 3:\n",
    "\n",
    "Create a separate markdown cell and include your manual calculation of the components of the equation designed to produce the linear regression line. \n",
    "\n",
    "Hint: You can do calculation using MS Excel and import the snipped image in the markdown cell. There are other ways also. This hand calculation should show how intercept and slope are calculated. "
   ]
  },
  {
   "cell_type": "code",
   "execution_count": 57,
   "id": "cd1069dd-c405-4b89-a7ec-2bfb39555768",
   "metadata": {},
   "outputs": [],
   "source": [
    "# original dataset\n",
    "points = np.array([(2,2), (3,3), (4,5), (6,4)])\n",
    "Xs = points[:,0]\n",
    "Ys = points[:,1]\n",
    "c_1_true, c_0_true = np.polyfit(x=Xs, y=Ys, deg=1)\n",
    "\n",
    "# y intercept\n",
    "denom = len(Xs)*(Xs@Xs) - sum(Xs)**2\n",
    "c_0 = (sum(Ys)*(Xs@Xs) - sum(Xs)*(Xs@Ys)) / denom\n",
    "\n",
    "# slope\n",
    "c_1 = (len(Xs)*(Xs@Ys) - sum(Xs)*sum(Ys)) / denom\n",
    "\n",
    "# check my work\n",
    "assert almost_equal(c_0, c_0_true), \"Mistake calculating intercept\"\n",
    "assert almost_equal(c_1, c_1_true), \"Mistake calculating slope\""
   ]
  },
  {
   "cell_type": "markdown",
   "id": "93771a62-1fb8-4b7a-8648-d5d974a7215c",
   "metadata": {},
   "source": [
    "## Step 4:\n",
    "\n",
    "Show how covariance matrix is calculated using python. Print the value."
   ]
  },
  {
   "cell_type": "code",
   "execution_count": 63,
   "id": "594b8d9b-bf0a-443e-841f-d3520730d828",
   "metadata": {},
   "outputs": [
    {
     "name": "stdout",
     "output_type": "stream",
     "text": [
      "Covariance matrix:\n",
      "[[2.91667 1.5    ]\n",
      " [1.5     1.66667]]\n"
     ]
    }
   ],
   "source": [
    "# original dataset\n",
    "points = np.array([(2,2), (3,3), (4,5), (6,4)])\n",
    "Xs = points[:,0]\n",
    "Ys = points[:,1]\n",
    "NN = len(Xs)\n",
    "\n",
    "# One way to calculate covariance\n",
    "cov_matrix = np.cov([Xs, Ys])\n",
    "\n",
    "assert cov_xy_true == cov_yx_true, \"What? How can these be different?\"\n",
    "\n",
    "print(\"Covariance matrix:\")\n",
    "print(np.round(cov_matrix, 5))"
   ]
  },
  {
   "cell_type": "markdown",
   "id": "f8b83b1a-e5f1-48f0-ae04-57ec655630cc",
   "metadata": {},
   "source": [
    "## Step 5:\n",
    "\n",
    "Create a separate markdown cell and include your manual calculation of the components of the equation designed to produce covariance matrix. "
   ]
  },
  {
   "cell_type": "code",
   "execution_count": 67,
   "id": "43583f86-3237-42fb-9578-317d362001fc",
   "metadata": {},
   "outputs": [
    {
     "name": "stdout",
     "output_type": "stream",
     "text": [
      "Covariance matrix:\n",
      "[[2.91667 1.5    ]\n",
      " [1.5     1.66667]]\n"
     ]
    }
   ],
   "source": [
    "# original dataset\n",
    "points = np.array([(2,2), (3,3), (4,5), (6,4)])\n",
    "Xs = points[:,0]\n",
    "Ys = points[:,1]\n",
    "NN = len(Xs)\n",
    "\n",
    "# One way to calculate covariance\n",
    "cov_matrix = np.cov([Xs, Ys])\n",
    "\n",
    "# Another way to calculate covariance\n",
    "cov_xx = sum([(xi - Xs.mean())**2 for xi in Xs])/(NN-1)\n",
    "cov_yy = sum([(yi - Ys.mean())**2 for yi in Ys])/(NN-1)\n",
    "cov_xy = (Xs - Xs.mean())@(Ys - Ys.mean()) / (NN-1)\n",
    "\n",
    "# Confirm our work\n",
    "cov_xx_true = cov_matrix[0,0]\n",
    "cov_yy_true = cov_matrix[1,1]\n",
    "cov_xy_true = cov_matrix[0,1]\n",
    "cov_yx_true = cov_matrix[1,0]\n",
    "\n",
    "assert cov_xy_true == cov_yx_true, \"What? How can these be different?\"\n",
    "assert almost_equal(cov_xx, cov_xx_true), \"Mistake calculating cov_xx\"\n",
    "assert almost_equal(cov_xy, cov_xy_true), \"Mistake calculating cov_xy\"\n",
    "assert almost_equal(cov_yy, cov_yy_true), \"Mistake calculating cov_xy\"\n",
    "\n",
    "print(\"Covariance matrix:\")\n",
    "cov_matrix = np.array([[cov_xx, cov_xy], [cov_xy, cov_yy]])\n",
    "print(np.round(cov_matrix, 5))"
   ]
  },
  {
   "cell_type": "markdown",
   "id": "3826bbad-883d-435a-bdc1-d1008a8c0097",
   "metadata": {},
   "source": [
    "## Step 6:\n",
    "\n",
    "Show how Pearson’s correlation coefficient is computed using python. Print the value.\n",
    "\n"
   ]
  },
  {
   "cell_type": "code",
   "execution_count": 87,
   "id": "7283a8e7-470c-4232-8826-a1464444b731",
   "metadata": {},
   "outputs": [
    {
     "name": "stdout",
     "output_type": "stream",
     "text": [
      "0.907115\n"
     ]
    }
   ],
   "source": [
    "# original dataset\n",
    "points = np.array([(2,2), (3,3), (4,5), (6,4)])\n",
    "Xs = points[:,0]\n",
    "Ys = points[:,1]\n",
    "NN = len(Xs)\n",
    "\n",
    "# One way to calculate Pearson's Correlation Coefficient\n",
    "pcc = np.corrcoef(Xs, Ys)\n",
    "pcc_xy = pcc[0,1]\n",
    "\n",
    "# Fix this, since the calculations in the slides use N-1\n",
    "# rather than the more-common denominator of simply N\n",
    "pcc_xy_fixed = pcc_xy * NN / (NN-1)\n",
    "\n",
    "print(round(pcc_xy_fixed,6))"
   ]
  },
  {
   "cell_type": "markdown",
   "id": "50244e51-39a0-474e-bb16-bedd39121715",
   "metadata": {
    "tags": []
   },
   "source": [
    "## Step 7:\n",
    "\n",
    "Create a separate markdown cell and include your manual calculation of the components of the equation designed to produce Pearson’s correlation coefficient. \n",
    "\n",
    "> **Lynn's notes:** Strangely, the slides  definition uses a term $(n-1)$ in the denominator, rather than the more common $n$. This is accounted for in my work\n"
   ]
  },
  {
   "cell_type": "code",
   "execution_count": 88,
   "id": "b602cabb-f354-486e-8e75-220b6b968bda",
   "metadata": {},
   "outputs": [
    {
     "name": "stdout",
     "output_type": "stream",
     "text": [
      "0.907115\n"
     ]
    }
   ],
   "source": [
    "# original dataset\n",
    "points = np.array([(2,2), (3,3), (4,5), (6,4)])\n",
    "Xs = points[:,0]\n",
    "Ys = points[:,1]\n",
    "NN = len(Xs)\n",
    "\n",
    "# One way to calculate Pearson's Correlation Coefficient\n",
    "pcc = np.corrcoef(Xs, Ys)\n",
    "pcc_xy = pcc[0,1]\n",
    "pcc_xy_fixed = pcc_xy * NN / (NN-1)\n",
    "\n",
    "# Calculate by hand; re-use what we got before\n",
    "cov_m = np.cov([Xs, Ys])\n",
    "cov_xx = cov_matrix[0,0]\n",
    "cov_yy = cov_matrix[1,1]\n",
    "cov_xy = cov_matrix[0,1]\n",
    "\n",
    "sig_x = Xs.std()\n",
    "sig_y = Ys.std()\n",
    "\n",
    "#corr = cov_xy/((NN-1)*sig_x*sig_y)\n",
    "corr = ((Xs@Ys)-NN*Xs.mean()*Ys.mean())/((NN-1)*sig_x*sig_y)\n",
    "\n",
    "assert almost_equal(corr, pcc_xy_fixed), \"Uh oh, mistake with calc\"\n",
    "\n",
    "print(round(corr, 6))"
   ]
  },
  {
   "cell_type": "markdown",
   "id": "3ec37ae9-7a0a-4748-8b62-a3f53302a225",
   "metadata": {
    "tags": []
   },
   "source": [
    "## Step 8.\n",
    "\n",
    "This time, you use the nba.csv from HuskyCT. Produce a regression line for this data set using weight as dependent variable and height as independent variable. The plot should include data points and the regression line. The intercept and slope values should be included in the title of the plot where should appear at the top (centered in bold) above the plot.\n"
   ]
  },
  {
   "cell_type": "code",
   "execution_count": 106,
   "id": "d72474c5-86e8-4eb9-b972-d0fd51168724",
   "metadata": {},
   "outputs": [
    {
     "data": {
      "text/plain": [
       "<matplotlib.collections.PathCollection at 0x7f39bc18a250>"
      ]
     },
     "execution_count": 106,
     "metadata": {},
     "output_type": "execute_result"
    },
    {
     "data": {
      "image/png": "[encoded data removed]",
      "text/plain": [
       "<Figure size 432x288 with 1 Axes>"
      ]
     },
     "metadata": {
      "needs_background": "light"
     },
     "output_type": "display_data"
    }
   ],
   "source": [
    "nbadf = pd.read_csv(\"nba.csv\")\n",
    "ww = nbadf['Weight']\n",
    "hh = nbadf['Height']\n",
    "\n",
    "c_1, c_0 = np.polyfit(x=ww, y=hh, deg=1)\n",
    "Xs = list(range(154,320))\n",
    "Ys = [c_1*xx + c_0 for xx in Xs]\n",
    "\n",
    "plt.plot(Xs,Ys)\n",
    "plt.scatter(ww,hh,s=5,alpha=.8)\n"
   ]
  },
  {
   "cell_type": "code",
   "execution_count": null,
   "id": "480d5dc6-a9bb-415f-8474-88504f99787a",
   "metadata": {},
   "outputs": [],
   "source": []
  },
  {
   "cell_type": "markdown",
   "id": "2804bd2c-8922-4a9a-afab-e9e4a3ad2e32",
   "metadata": {},
   "source": [
    "## Step 9.\n",
    "\n",
    "Using the regression line in Step 8, compute and print the “predicted” weight for a rookie player whose height is known 91.\n",
    "\n"
   ]
  },
  {
   "cell_type": "code",
   "execution_count": null,
   "id": "f728b7fc-a56f-4fd7-bba0-1135f82582bd",
   "metadata": {},
   "outputs": [],
   "source": []
  },
  {
   "cell_type": "markdown",
   "id": "1b555457-ccf5-42cd-8ca2-2becbba97f2c",
   "metadata": {
    "tags": []
   },
   "source": [
    "---\n",
    "\n",
    "\n",
    "# Part II: Scatter Plot with Pearson Correlation Coefficient\n",
    "\n",
    "Consider the article “Integrated systems approach identifies genetic nodes and networks in lateonset Alzheimer's disease” Cell. 2013 Apr 25;153(3):707-20. PMID: 23622250; PMCID: PMC3677161, by Zhang et al.\n",
    "\n",
    "The gene expression dataset published for this article GSE44768 is available at https://www.ncbi.nlm.nih.gov/geo/query/acc.cgi?acc=GSE44768. This dataset has been preprocessed and some portion is available in HuskyCT’s Data folder. The article “GSE44768_article” is also available in HW3 folder. \n",
    "\n",
    "Do Part II steps using only the data from the Dementia group (GSE44768_CR_alz_female_reduced.csv).\n",
    "\n",
    "\n",
    "# Step 1.\n",
    "\n",
    "Create and show two scatter plots, one comparing gene expression values between TYROBP and DOCK2 and the other comparing gene expression values between TYROBP and GSTA4.\n",
    "\n",
    "Each plot should have the appropriate title including $r$ (Pearson correlation coefficient value).\n"
   ]
  },
  {
   "cell_type": "code",
   "execution_count": null,
   "id": "b80e90a1-e06c-4dbe-95ac-855a3f2aec5d",
   "metadata": {},
   "outputs": [],
   "source": []
  },
  {
   "cell_type": "markdown",
   "id": "276c17a6-e1ec-4119-920b-30200aecb28e",
   "metadata": {},
   "source": [
    "## Step 2.\n",
    "\n",
    "Create and show two scatter plots, one comparing gene expression values between TYROBP and FCER1G and the other comparing gene expression values between ACBD5 and LMAN1. This time, both plots should appear side by side. Each plot should have the appropriate title including r."
   ]
  },
  {
   "cell_type": "code",
   "execution_count": null,
   "id": "12b141ef-0717-4c9c-b0a0-5921d53b8e50",
   "metadata": {},
   "outputs": [],
   "source": []
  }
 ],
 "metadata": {
  "kernelspec": {
   "display_name": "Python 3 (ipykernel)",
   "language": "python",
   "name": "python3"
  },
  "language_info": {
   "codemirror_mode": {
    "name": "ipython",
    "version": 3
   },
   "file_extension": ".py",
   "mimetype": "text/x-python",
   "name": "python",
   "nbconvert_exporter": "python",
   "pygments_lexer": "ipython3",
   "version": "3.9.6"
  }
 },
 "nbformat": 4,
 "nbformat_minor": 5
}
