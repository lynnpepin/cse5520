{
 "cells": [
  {
   "cell_type": "markdown",
   "id": "3e4ec4d4-45b5-4d22-afbf-953bc10031bc",
   "metadata": {
    "tags": []
   },
   "source": [
    "# CSE 5520 Homework 4\n",
    "\n",
    "| | |\n",
    "|-|-|\n",
    "| **Student** | Lynn Pepin ('Tristan Pepin')\n",
    "|              | tmp13009 / 2079724\n",
    "| **Due date** | 2021 / Sept / 30 (Thur), 11:59PM\n",
    "\n",
    "\n",
    "This is Lynn Pepin's report for CSE 5520 homework 4.\n",
    "\n",
    "---\n",
    "\n",
    "This homework is to help you practice with some data visualization fundamentals. You are\n",
    "expected to use these visualization techniques and others in your final project. You are required\n",
    "to do this exercise in Python. All plots/graphs must have titles and x-y coordinate tick labels. \n",
    "\n",
    "# Part 1: t-Test and p-value\n",
    "\n",
    "Consider again the gene expression data sets introduced in Homework 3.\n",
    "\n",
    "Your analysis is limited to comparing\n",
    "the Dementia group (GSE44768_CR_alz_female_reduced.csv) and the\n",
    "Non-Dementia group (GSE44768_CR_nd_female_reduced.csv).\n",
    "\n",
    "Your study goal is to construct and contrast\n",
    "a $2 x 2$ plot capturing various t-test outcomes for 2 genes, `LAMP2` and `BSN`.\n",
    "\n",
    "In terms of the columns of the $2 x 2$ plot,\n",
    "the first column is to show two histograms in one plot\n",
    "(red for Dementia and blue for non-Dementia for one gene)\n",
    "similar to what you practiced in Homework 3.\n",
    "The second column is to show t-Test PDF.\n",
    "The steps given below is to guide you how to do this exercise."
   ]
  },
  {
   "cell_type": "code",
   "execution_count": 1,
   "id": "80db2f53-3a79-470d-a935-9a42ef15d055",
   "metadata": {},
   "outputs": [],
   "source": [
    "import numpy as np\n",
    "import pandas as pd\n",
    "import matplotlib.pyplot as plt\n",
    "\n",
    "EPS = 0.0000001\n",
    "FINAL = False\n",
    "\n",
    "def almost_equal(a,b,eps=EPS):\n",
    "    return abs(a-b) <= eps"
   ]
  },
  {
   "cell_type": "code",
   "execution_count": 47,
   "id": "19095cb7-d360-419c-ba1d-0bda6fcdb51e",
   "metadata": {},
   "outputs": [
    {
     "name": "stdout",
     "output_type": "stream",
     "text": [
      "['GSM_ID', 'disease', 'age', 'gender', 'pmi', 'pH', 'rin', 'pres', 'batch', 'tissue', 'XIST', 'TYROBP', 'DOCK2', 'FCER1G', 'GSTA4', 'ABCC2', 'TIMELESS', 'ACBD5', 'LMAN1', 'KIFAP3', 'PCTK2', 'SNCA', 'RPS27', 'RPS18', 'PCBP2', 'STIP1', 'HSPA1A', 'DOPEY1', 'ENPP2', 'GAB2', 'TUBB4', 'ACTG1', 'SLC22A2', 'AGTR1', 'ZIC2', 'TEKT1', 'FANK1', 'HYDIN', 'MED6', 'SFRS3', 'PPP2R5A', 'RNASE11', 'LAMP2', 'P2RX7', 'MID1IP1', 'GJA1', 'STON2', 'CST3', 'CREBBP', 'ABCC11', 'MDGA1', 'SNAP91', 'BSN', 'GLS', 'DTL', 'UBE2C', 'BUB1', 'RFX4', 'DGCR6', 'AQP4', 'MT1M', 'AMPD1', 'EGR2', 'PDGFB']\n",
      "Do these all have the same keys? True\n"
     ]
    }
   ],
   "source": [
    "dem_df = pd.read_csv('GSE44768_CR_alz_female_reduced.csv')\n",
    "ndem_df = pd.read_csv('GSE44768_CR_nd_female_reduced.csv')\n",
    "\n",
    "# Data exploration: Do these all have the same keys?\n",
    "if not FINAL:\n",
    "    print(list(dem_df.keys()))\n",
    "    print(\"Do these all have the same keys?\",\n",
    "        (dem_df.keys() == ndem_df.keys()).all()\n",
    "    )\n",
    "\n",
    "# constants holding all the keys we look at\n",
    "GENES = [\n",
    "    'XIST', 'TYROBP', 'DOCK2', 'FCER1G', 'GSTA4',\n",
    "    'ABCC2', 'TIMELESS', 'ACBD5', 'LMAN1', 'KIFAP3', 'PCTK2', 'SNCA',\n",
    "    'RPS27', 'RPS18', 'PCBP2', 'STIP1', 'HSPA1A', 'DOPEY1', 'ENPP2', 'GAB2',\n",
    "    'TUBB4', 'ACTG1', 'SLC22A2', 'AGTR1', 'ZIC2', 'TEKT1', 'FANK1', 'HYDIN',\n",
    "    'MED6', 'SFRS3', 'PPP2R5A', 'RNASE11', 'LAMP2', 'P2RX7', 'MID1IP1',\n",
    "    'GJA1', 'STON2', 'CST3', 'CREBBP', 'ABCC11', 'MDGA1', 'SNAP91', 'BSN',\n",
    "    'GLS', 'DTL', 'UBE2C', 'BUB1', 'RFX4', 'DGCR6', 'AQP4', 'MT1M', 'AMPD1',\n",
    "    'EGR2', 'PDGFB'\n",
    "]"
   ]
  },
  {
   "cell_type": "markdown",
   "id": "7d8b76b9-1ee8-4133-835b-2b821fcb6d79",
   "metadata": {},
   "source": [
    "## Step 1.\n",
    "\n",
    "Create and show two histograms in one plot for the gene `LAMP2` with different colors,\n",
    "red for the Dementia group and blue for the Non-Dementia group into one plot.\n",
    "It should be the first subplot of the first 1 x 2 plot."
   ]
  },
  {
   "cell_type": "code",
   "execution_count": 3,
   "id": "2e899d56-5325-44ab-b350-d00dbfdde456",
   "metadata": {},
   "outputs": [],
   "source": [
    "#diff_of_means = dem_df[GENES].mean(axis=0) - ndem_df[GENES].mean(axis=0)\n",
    "\n",
    "#print(f\"Means are closest at {diff_of_means.idxmin()} and furthest at {diff_of_means.idxmax()}\")"
   ]
  },
  {
   "cell_type": "code",
   "execution_count": 48,
   "id": "573c428a-cb7a-4a40-88dc-f5be9e431be5",
   "metadata": {},
   "outputs": [
    {
     "data": {
      "text/plain": [
       "(array([2., 6., 4., 1., 3., 2., 0., 0., 0., 1.]),\n",
       " array([-0.41211723, -0.34976484, -0.28741245, -0.22506005, -0.16270766,\n",
       "        -0.10035527, -0.03800287,  0.02434952,  0.08670191,  0.14905431,\n",
       "         0.2114067 ]),\n",
       " <BarContainer object of 10 artists>)"
      ]
     },
     "execution_count": 48,
     "metadata": {},
     "output_type": "execute_result"
    },
    {
     "data": {
      "image/png": "[encoded data removed]",
      "text/plain": [
       "<Figure size 432x288 with 2 Axes>"
      ]
     },
     "metadata": {
      "needs_background": "light"
     },
     "output_type": "display_data"
    }
   ],
   "source": [
    "gene = 'LAMP2'\n",
    "# https://matplotlib.org/stable/gallery/subplots_axes_and_figures/subplots_demo.html\n",
    "\n",
    "\n",
    "fig, axs = plt.subplots(1,2)# sharey=True)\n",
    "fig.suptitle(\"Comparison of LAMP2 expression in patients with and without dementia\")\n",
    "#fig.supylabel(\"\")\n",
    "fig.supxlabel(\"Expression\")\n",
    "\n",
    "axs[0].set_title(\"Dementia\")\n",
    "axs[1].set_title(\"Non-Dementia\")\n",
    "axs[0].set_ylabel(\"Amount\")\n",
    "axs[1].set_ylabel(\"Amount\")\n",
    "\n",
    "\n",
    "axs[0].hist(dem_df['LAMP2'])\n",
    "axs[1].hist(ndem_df['LAMP2'], color='red')\n",
    "#axs[0].plot(range(10), [(x**4)/3000 - .5 for x in range(10)])\n",
    "#axs[1].plot(range(10), [np.sin(x/3) for x in range(10)])\n",
    "#axs[2].plot(range(10), [np.cos(x/3) for x in range(10)])"
   ]
  },
  {
   "cell_type": "markdown",
   "id": "69e9b90c-3047-492e-be8c-28bd8dfb571e",
   "metadata": {},
   "source": [
    "## Step 2.\n",
    "\n",
    "Perform t-Test (Hint, unequal variance, unequal sample size) and show PDF.\n",
    "In the PDF plot, indicate the critical region (significance level $\\alpha$ = 0.05)\n",
    "by placing two dots, arrows or lines near the x-axes.\n",
    "\n",
    "You can even color the critical region (area) on the plot if you know how to do\n",
    "this for **extra credits**\n",
    "(Note visual communication is the theme of this course).\n",
    "Coloring the critical region is not required.\n",
    "\n",
    "Then display $t_{obs}$ by placing a different colored dot, arrow or line near the x-axes. \n",
    "\n",
    "Using a markdown cell, state if you would reject $H_0$ or not.\n",
    "$H_0$ is ''The mean values of gene expression between the Dementia group\n",
    "and Non-Dementia group among female patients are **not different**”\n",
    "and $H_1$ is “The mean values of gene expression between the Dementia group and\n",
    "Non-Dementia group among female patients **are different**\n",
    "(one could be higher or lower than the other)”.\n",
    "\n",
    "This t-Test’s PDF is the second subplot of the first 1 x 2 plot. The plot\n",
    "title for the PDF should include the calculated DF (degrees of freedom)."
   ]
  },
  {
   "cell_type": "code",
   "execution_count": 49,
   "id": "961b4a5d-427a-40da-8135-6cbff7741798",
   "metadata": {},
   "outputs": [],
   "source": [
    "alpha = 0.05\n",
    "pass"
   ]
  },
  {
   "cell_type": "markdown",
   "id": "bb04a841-7051-4118-9328-d73c6ab7014c",
   "metadata": {},
   "source": [
    "## Step 3.\n",
    "\n",
    "Repeat Steps 1 and 2 for the gene BSN. This is to generate the second 1 x 2 plot."
   ]
  },
  {
   "cell_type": "code",
   "execution_count": null,
   "id": "181912be-e98c-4273-9a5a-d6ad6b73cfc7",
   "metadata": {},
   "outputs": [],
   "source": []
  },
  {
   "cell_type": "markdown",
   "id": "a66bf312-43f6-46bd-a129-d8bc2a1c6367",
   "metadata": {},
   "source": [
    "## Step 4.\n",
    "\n",
    "Lastly, stack two 1 x 2 plots you created in Steps 1, 2 and 3 “top to bottom”\n",
    "to create one 2 x 2 plot and display it.\n",
    "Use a markdown cell and explain how to interpret/contrast the plots you generated.\n",
    "For example, in which case you would reject/accept H0 and why."
   ]
  },
  {
   "cell_type": "code",
   "execution_count": null,
   "id": "7364c696-7023-47a3-a6fc-47be6f654aee",
   "metadata": {},
   "outputs": [],
   "source": []
  },
  {
   "cell_type": "code",
   "execution_count": null,
   "id": "14645015-099b-4283-84b3-a24f0e017c69",
   "metadata": {},
   "outputs": [],
   "source": []
  },
  {
   "cell_type": "markdown",
   "id": "8936cbc1-d5de-485f-91a5-d99b96ec80f2",
   "metadata": {
    "tags": []
   },
   "source": [
    "# Part II: Clustering and Heatmap\n",
    "\n",
    "Consider the pre-processed Alzheimer data set `GSE44768_CR_40_54_Combined.csv`\n",
    "which is available at HuskyCT’s Data folder.\n",
    "MS Excel version is also available that differentiates samples by color highlights. \n"
   ]
  },
  {
   "cell_type": "code",
   "execution_count": 74,
   "id": "4de677ff-13d9-4ef9-82ba-35f26d3bb2f8",
   "metadata": {},
   "outputs": [
    {
     "name": "stdout",
     "output_type": "stream",
     "text": [
      "Index(['GSM_ID', 'XIST', 'TYROBP', 'DOCK2', 'FCER1G', 'GSTA4', 'ABCC2',\n",
      "       'TIMELESS', 'ACBD5', 'LMAN1', 'KIFAP3', 'PCTK2', 'SNCA', 'RPS27',\n",
      "       'RPS18', 'PCBP2', 'STIP1', 'HSPA1A', 'DOPEY1', 'ENPP2', 'GAB2', 'TUBB4',\n",
      "       'ACTG1', 'SLC22A2', 'AGTR1', 'ZIC2', 'TEKT1', 'FANK1', 'HYDIN', 'MED6',\n",
      "       'SFRS3', 'PPP2R5A', 'RNASE11', 'LAMP2', 'P2RX7', 'MID1IP1', 'GJA1',\n",
      "       'STON2', 'CST3', 'CREBBP', 'ABCC11', 'MDGA1', 'SNAP91', 'BSN', 'GLS',\n",
      "       'DTL', 'UBE2C', 'BUB1', 'RFX4', 'DGCR6', 'AQP4', 'MT1M', 'AMPD1',\n",
      "       'EGR2', 'PDGFB'],\n",
      "      dtype='object')\n"
     ]
    }
   ],
   "source": [
    "alz_df = pd.read_csv(\"GSE44768_CR_40_54_Combined.csv\")\n",
    "print(alz_df.keys())"
   ]
  },
  {
   "cell_type": "code",
   "execution_count": 75,
   "id": "c5606880-7899-4a37-a277-735c6a4bfd63",
   "metadata": {},
   "outputs": [
    {
     "name": "stdout",
     "output_type": "stream",
     "text": [
      "FALZ              GSM_ID      XIST    TYROBP     DOCK2    FCER1G     GSTA4  \\\n",
      "0  GSM1090268_alz_f  0.301474  0.209515  0.161961  0.310937 -0.179295   \n",
      "1  GSM1090271_alz_f  0.460495 -0.162172 -0.089598 -0.132007 -0.010090   \n",
      "2  GSM1090272_alz_f  0.238641  0.280427  0.313561  0.267188 -0.104727   \n",
      "3  GSM1090274_alz_f  0.276038  0.400028  0.251572  0.275051 -0.330179   \n",
      "4  GSM1090276_alz_f  0.435775 -0.293323 -0.262795 -0.138666 -0.016549   \n",
      "5  GSM1090277_alz_f  0.245945 -0.420656 -0.350320 -0.316967 -0.146123   \n",
      "6  GSM1090282_alz_f  0.440187  0.199408 -0.095610  0.384826 -0.112760   \n",
      "7  GSM1090284_alz_f  0.366115 -0.033795 -0.092537  0.150413  0.099431   \n",
      "8  GSM1090285_alz_f  0.342604 -0.191431 -0.165283 -0.041819 -0.316507   \n",
      "9  GSM1090291_alz_f  0.497142 -0.298360 -0.224981 -0.236750  0.108094   \n",
      "\n",
      "      ABCC2  TIMELESS     ACBD5     LMAN1  ...       DTL     UBE2C      BUB1  \\\n",
      "0 -0.009254  0.027849  0.057428 -0.041127  ...  0.008948  0.009005  0.124712   \n",
      "1  0.027530 -0.007816 -0.006689 -0.042820  ... -0.016638  0.053465 -0.044457   \n",
      "2  0.130515  0.228776 -0.076101 -0.070623  ...  0.332830  0.195650  0.203180   \n",
      "3  0.137491  0.105215 -0.096334 -0.082235  ... -0.031214  0.021954 -0.032470   \n",
      "4  0.013355 -0.006286 -0.259489 -0.175851  ...  0.001323  0.094361 -0.004207   \n",
      "5  0.100480  0.095884  0.024655 -0.030257  ...  0.006317  0.094284 -0.087984   \n",
      "6  0.163864 -0.197777 -0.127405 -0.023486  ...  0.044802  0.065812 -0.002768   \n",
      "7 -0.017350 -0.102165 -0.044078  0.015763  ...  0.043772  0.010483  0.039391   \n",
      "8  0.122101 -0.027266 -0.181493  0.003441  ... -0.009843  0.171955 -0.023471   \n",
      "9 -0.084200  0.028409 -0.179898 -0.023941  ... -0.048782  0.047294 -0.134204   \n",
      "\n",
      "       RFX4     DGCR6      AQP4      MT1M     AMPD1      EGR2     PDGFB  \n",
      "0  0.129920  0.262155 -0.133542  0.256252  0.037935 -0.347338  0.045741  \n",
      "1  0.082901  0.054048  0.193930  0.237436  0.076833 -0.440042  0.081575  \n",
      "2 -0.156819 -0.077294 -0.180468 -0.128067  0.050049 -0.150672  0.069818  \n",
      "3  0.032545  0.308341  0.191308  0.662724 -0.036906 -0.119441  0.252757  \n",
      "4  0.150745  0.272414  0.220450  0.019569  0.093613 -0.000378  0.222437  \n",
      "5  0.143117  0.057187  0.244825  0.319047  0.164621 -0.339724 -0.021865  \n",
      "6  0.219718  0.134884  0.198900  0.542619  0.062187  0.143434  0.069195  \n",
      "7  0.159082  0.123926  0.115399  0.099989  0.066910 -0.280745 -0.083925  \n",
      "8  0.094303 -0.010938  0.047481  0.216523  0.109881 -0.094202 -0.080674  \n",
      "9 -0.055642 -0.054571 -0.022185 -0.227894  0.120342 -0.562013 -0.025701  \n",
      "\n",
      "[10 rows x 55 columns]\n",
      "FND              GSM_ID      XIST    TYROBP     DOCK2    FCER1G     GSTA4  \\\n",
      "10  GSM1090270_nd_f  0.361740 -0.057086 -0.002693 -0.078332  0.085298   \n",
      "11  GSM1090295_nd_f  0.329177 -0.229656 -0.257871 -0.108105  0.085567   \n",
      "12  GSM1090299_nd_f  0.429326 -0.172017 -0.139849 -0.124954  0.048365   \n",
      "13  GSM1090312_nd_f  0.464032 -0.465111 -0.273155 -0.221074  0.137818   \n",
      "14  GSM1090335_nd_f  0.382800 -0.167342 -0.229092  0.007153 -0.041230   \n",
      "15  GSM1090353_nd_f  0.372740 -0.375427 -0.270676 -0.258329  0.113580   \n",
      "16  GSM1090364_nd_f  0.433691 -0.598664 -0.358665 -0.329363  0.133479   \n",
      "17  GSM1090368_nd_f  0.268594 -0.476030 -0.306380 -0.134933  0.032208   \n",
      "18  GSM1090376_nd_f  0.287263 -0.434936 -0.285242 -0.115550  0.039498   \n",
      "19  GSM1090387_nd_f  0.473164 -0.247665 -0.253321 -0.256172  0.142882   \n",
      "\n",
      "       ABCC2  TIMELESS     ACBD5     LMAN1  ...       DTL     UBE2C      BUB1  \\\n",
      "10 -0.082181 -0.041368 -0.068440  0.037281  ...  0.052695 -0.030755  0.030021   \n",
      "11  0.003656 -0.024916 -0.161589 -0.027737  ... -0.019999 -0.018503 -0.025535   \n",
      "12 -0.038891  0.044486 -0.090841 -0.017455  ...  0.033578 -0.018960  0.075085   \n",
      "13 -0.060502 -0.003120 -0.113285  0.043676  ...  0.028869 -0.028432  0.010042   \n",
      "14  0.098206 -0.029000 -0.202023  0.006748  ...  0.081481  0.074757  0.009575   \n",
      "15 -0.047396 -0.007536  0.055705  0.134331  ...  0.040637 -0.052360  0.030381   \n",
      "16 -0.077102 -0.071001 -0.117198  0.031903  ...  0.027530 -0.023002  0.016353   \n",
      "17 -0.044154 -0.009054 -0.446907 -0.138213  ...  0.020062  0.077866  0.017081   \n",
      "18 -0.021384  0.044119 -0.485905 -0.074511  ...  0.048699  0.061505 -0.047584   \n",
      "19 -0.041500  0.045751 -0.116842 -0.019347  ... -0.054814  0.034516  0.019171   \n",
      "\n",
      "        RFX4     DGCR6      AQP4      MT1M     AMPD1      EGR2     PDGFB  \n",
      "10  0.004663  0.015067  0.064110 -0.131373  0.122972  0.423960  0.037652  \n",
      "11  0.092154  0.058755  0.259450  0.038817  0.058811 -0.415551  0.051037  \n",
      "12 -0.127462 -0.034984 -0.169364 -0.395375  0.026158 -0.132681 -0.012809  \n",
      "13 -0.202416 -0.097441 -0.350447 -0.433217  0.118020  0.000003 -0.040637  \n",
      "14  0.032139 -0.019118 -0.099669 -0.106312  0.139763 -0.294823 -0.077471  \n",
      "15 -0.018143 -0.093502 -0.017456 -0.463177  0.048148 -0.271553 -0.018548  \n",
      "16 -0.057276 -0.022136 -0.225910 -0.285246  0.075653 -0.127045 -0.032240  \n",
      "17  0.027440  0.084574  0.090689 -0.244238 -0.026845 -0.191767  0.065285  \n",
      "18 -0.260285 -0.034679 -0.346370 -0.480658 -0.015264 -0.157417  0.152807  \n",
      "19 -0.198106 -0.087329 -0.425492 -0.602004  0.138919 -0.265844 -0.018863  \n",
      "\n",
      "[10 rows x 55 columns]\n",
      "MALZ               GSM_ID      XIST    TYROBP     DOCK2    FCER1G     GSTA4  \\\n",
      "20  GSM1090267_alz_m -1.545009 -0.298763 -0.174139 -0.189654  0.109930   \n",
      "21  GSM1090278_alz_m -1.808429  0.404325  0.454421  0.295011 -0.123477   \n",
      "22  GSM1090279_alz_m -1.574724  0.033101  0.098238 -0.026371  0.042655   \n",
      "23  GSM1090281_alz_m -1.461512 -0.316734 -0.251402 -0.124200 -0.054414   \n",
      "24  GSM1090283_alz_m -1.659650 -0.263707 -0.223384 -0.179353 -0.165624   \n",
      "25  GSM1090286_alz_m -1.691914 -0.601075 -0.380666 -0.350653  0.159637   \n",
      "26  GSM1090287_alz_m -1.413150 -0.289034 -0.394236 -0.057955 -0.095917   \n",
      "27  GSM1090288_alz_m -1.537175  0.120559  0.049304 -0.010225  0.061816   \n",
      "28  GSM1090290_alz_m -1.621887 -0.199441 -0.134004 -0.049452 -0.117082   \n",
      "29  GSM1090303_alz_m -1.628345  0.198458  0.166747  0.277769 -0.192942   \n",
      "\n",
      "       ABCC2  TIMELESS     ACBD5     LMAN1  ...       DTL     UBE2C      BUB1  \\\n",
      "20  0.059598  0.073931 -0.130736  0.087544  ...  0.066738  0.014429  0.031368   \n",
      "21  0.038867  0.173874  0.083789 -0.091263  ...  0.038312  0.150000  0.322927   \n",
      "22 -0.014692  0.062977  0.073077  0.039917  ...  0.002366  0.022330 -0.031010   \n",
      "23  0.063602 -0.002005 -0.188097  0.027062  ...  0.050181  0.081131  0.038279   \n",
      "24  0.204862 -0.006784 -0.193683 -0.012470  ... -0.081760  0.188711 -0.259972   \n",
      "25 -0.092610  0.019688 -0.192297  0.026467  ...  0.030757  0.035127  0.022834   \n",
      "26 -0.008369 -0.001809 -0.215548  0.000921  ...  0.079931  0.157048 -0.002833   \n",
      "27 -0.028871  0.007510 -0.185625 -0.009108  ...  0.009767  0.004891  0.023109   \n",
      "28  0.092932  0.020899 -0.161919 -0.015016  ... -0.025856  0.130101 -0.094709   \n",
      "29  0.070624  0.155279 -0.094142 -0.067839  ...  0.068946  0.156751  0.005976   \n",
      "\n",
      "        RFX4     DGCR6      AQP4      MT1M     AMPD1      EGR2     PDGFB  \n",
      "20 -0.010408 -0.075756 -0.091223 -0.107817  0.062439 -0.185214 -0.022358  \n",
      "21  0.339974  0.131231  0.216433  0.531205  0.082588 -0.345057  0.176792  \n",
      "22  0.059551  0.051398  0.122668  0.057306  0.079813  0.270684  0.034669  \n",
      "23 -0.174361 -0.165423 -0.328427  0.033367  0.111221 -0.221523  0.021535  \n",
      "24 -0.169213 -0.137364 -0.320134 -0.255360  0.193970  0.100033 -0.159196  \n",
      "25 -0.479180 -0.069123 -0.696538 -0.500179  0.128770 -0.345725 -0.063696  \n",
      "26 -0.108917 -0.085368 -0.229842 -0.000573  0.195365 -0.745262 -0.097672  \n",
      "27 -0.020961  0.042748 -0.068610 -0.155193  0.060890 -0.446051 -0.008531  \n",
      "28 -0.040644 -0.039236 -0.060503  0.057957  0.093403 -0.232396 -0.024140  \n",
      "29  0.018202  0.051326 -0.088554  0.121162  0.077959 -0.362332  0.131219  \n",
      "\n",
      "[10 rows x 55 columns]\n",
      "MND              GSM_ID      XIST    TYROBP     DOCK2    FCER1G     GSTA4  \\\n",
      "30  GSM1090269_nd_m -1.562908 -0.015038 -0.006809  0.008666  0.056390   \n",
      "31  GSM1090273_nd_m -1.522053 -0.240070 -0.233701 -0.040714  0.050065   \n",
      "32  GSM1090275_nd_m -1.661384 -0.464032 -0.215176 -0.313659  0.103288   \n",
      "33  GSM1090280_nd_m -1.545560 -0.193329 -0.098602 -0.123176  0.077141   \n",
      "34  GSM1090289_nd_m -1.591312 -0.375124 -0.391839 -0.172316  0.135316   \n",
      "35  GSM1090294_nd_m -1.579848 -0.579203 -0.364958 -0.136609  0.073418   \n",
      "36  GSM1090304_nd_m -1.638840 -0.490128 -0.353621 -0.292250  0.112586   \n",
      "37  GSM1090308_nd_m -1.676256 -0.302040 -0.294259 -0.228605  0.020155   \n",
      "38  GSM1090311_nd_m -1.598305 -0.434067 -0.279168 -0.210148  0.078356   \n",
      "39  GSM1090318_nd_m -1.571177  0.006497 -0.024910 -0.043136  0.066778   \n",
      "\n",
      "       ABCC2  TIMELESS     ACBD5     LMAN1  ...       DTL     UBE2C      BUB1  \\\n",
      "30 -0.018398  0.026206 -0.056984  0.026051  ...  0.015559  0.032584 -0.030499   \n",
      "31 -0.018925 -0.012872 -0.271062 -0.068997  ...  0.012482  0.003266 -0.028531   \n",
      "32 -0.036469  0.051499 -0.110797  0.019413  ...  0.023471 -0.016926 -0.011955   \n",
      "33 -0.037949  0.005172  0.076099  0.064785  ... -0.018707 -0.028113  0.021269   \n",
      "34 -0.073992 -0.008785 -0.189342 -0.005916  ...  0.047008  0.022541 -0.027809   \n",
      "35  0.057722  0.259152 -0.225889 -0.019651  ...  0.618177  0.591746  0.822647   \n",
      "36 -0.042463  0.073136 -0.107590  0.018836  ...  0.014551  0.026051 -0.031858   \n",
      "37 -0.030450  0.054881  0.083144  0.017749  ...  0.023021 -0.011526  0.006381   \n",
      "38 -0.042513 -0.015454 -0.182713 -0.094673  ... -0.012057  0.017950 -0.021986   \n",
      "39 -0.067745 -0.008695  0.047128  0.006466  ...  0.025320 -0.005736  0.022375   \n",
      "\n",
      "        RFX4     DGCR6      AQP4      MT1M     AMPD1      EGR2     PDGFB  \n",
      "30 -0.300025 -0.089179 -0.421686 -0.499082  0.085765 -0.253408  0.005518  \n",
      "31 -0.102864  0.039775 -0.202480 -0.272901 -0.076906 -0.284340  0.025515  \n",
      "32 -0.106968 -0.099413 -0.169089 -0.474888  0.031549 -0.114967 -0.020733  \n",
      "33 -0.134572 -0.118376 -0.258839 -0.472573  0.083032  0.117924 -0.004592  \n",
      "34 -0.329655 -0.124069 -0.521265 -0.611087  0.119140 -0.185055 -0.052922  \n",
      "35  0.258075  0.062899  0.141959  0.097588  0.051605 -0.134812 -0.268021  \n",
      "36 -0.211386 -0.075357 -0.447454 -0.743989  0.072241 -0.159741 -0.010780  \n",
      "37 -0.183615  0.000446 -0.218848 -0.380302  0.070154 -0.103928 -0.016229  \n",
      "38 -0.232755 -0.082938 -0.410378 -0.273158  0.047270 -0.267236 -0.011869  \n",
      "39 -0.212771 -0.080089 -0.233761 -0.548531  0.048328  0.335531 -0.052335  \n",
      "\n",
      "[10 rows x 55 columns]\n"
     ]
    }
   ],
   "source": [
    "# get male and female\n",
    "f_df = alz_df[\n",
    "    [alz_df['GSM_ID'][ii][-1] == 'f'\n",
    "     for ii in range(len(alz_df))\n",
    "    ]\n",
    "]\n",
    "\n",
    "m_df = alz_df[\n",
    "    [alz_df['GSM_ID'][ii][-1] == 'm'\n",
    "     for ii in range(len(alz_df))\n",
    "    ]\n",
    "]\n",
    "\n",
    "# now split into alz/no alz\n",
    "falz_df = f_df[\n",
    "    [alz_df['GSM_ID'][ii][11] == 'a'\n",
    "     for ii in range(len(f_df))\n",
    "    ]\n",
    "]\n",
    "\n",
    "fnd_df = f_df[\n",
    "    [alz_df['GSM_ID'][ii][11] == 'n'\n",
    "     for ii in range(len(f_df))\n",
    "    ]\n",
    "]\n",
    "\n",
    "malz_df = m_df[\n",
    "    [alz_df['GSM_ID'][ii][11] == 'a'\n",
    "     for ii in range(len(m_df))\n",
    "    ]\n",
    "]\n",
    "\n",
    "mnd_df = m_df[\n",
    "    [alz_df['GSM_ID'][ii][11] == 'n'\n",
    "     for ii in range(len(m_df))\n",
    "    ]\n",
    "]\n",
    "\n",
    "if not FINAL:\n",
    "    print(\"FALZ\", falz_df)\n",
    "    print(\"FND\", fnd_df)\n",
    "    print(\"MALZ\", malz_df)\n",
    "    print(\"MND\", mnd_df)"
   ]
  },
  {
   "cell_type": "markdown",
   "id": "9ad77aae-e8bd-4c22-9b00-150619ef3294",
   "metadata": {},
   "source": [
    "## Step 1.\n",
    "\n",
    "Import and show a 40 x 54 gene expression value matrix.\n",
    "The row ids (sample name) should make it clear how this matrix was created.\n",
    "Only 10 samples from different patients are included in this file.\n",
    "Here `alz`/`nd` means dementia or no and `f`/`m` denotes gender. "
   ]
  },
  {
   "cell_type": "code",
   "execution_count": null,
   "id": "756a48cf-3657-4c85-85fb-bc8ffbde3c3b",
   "metadata": {},
   "outputs": [],
   "source": []
  },
  {
   "cell_type": "markdown",
   "id": "768e8f8d-17bb-4e2f-9ab5-0e4e384ade78",
   "metadata": {},
   "source": [
    "## Step 2.\n",
    "\n",
    "Perform a sample-wise hierarchal clustering using Ward method for the linkage algorithm.\n",
    "Note that using Ward method can be easily done by choosing the right option from the library.\n",
    "The outcome should exhibit how the 40 samples from four subgroups\n",
    "(Male Dementia/ Male Non-Dementia / Female Dementia / Female Non-Dementia) are clustered. \n",
    "\n",
    "Using a markdown cell, discuss how you would interpret the outcome,\n",
    "i.e., is it what you expected to see or not,\n",
    "i.e., samples from each of the four groups are clustered?"
   ]
  },
  {
   "cell_type": "code",
   "execution_count": null,
   "id": "c92699a9-16f1-4a3f-8f7c-832d55336e3a",
   "metadata": {},
   "outputs": [],
   "source": []
  },
  {
   "cell_type": "markdown",
   "id": "1cc9c306-41db-4b08-877a-a702c678ecca",
   "metadata": {
    "jp-MarkdownHeadingCollapsed": true,
    "tags": []
   },
   "source": [
    "## Step 3.\n",
    "\n",
    "Perform a gene-wise hierarchal clustering using Ward method for the linkage algorithm.\n",
    "It should exhibit how the genes are clustered independent of sample group membership.\n",
    "\n",
    "Using a markdown cell, discuss how you would interpret the outcome,\n",
    "i.e., do you notice formation of any subgroups of genes behaving similarly across samples?"
   ]
  },
  {
   "cell_type": "code",
   "execution_count": null,
   "id": "b41b1716-13f7-42cb-a8ec-fe74f58a0b98",
   "metadata": {},
   "outputs": [],
   "source": []
  },
  {
   "cell_type": "markdown",
   "id": "add51d5f-3125-4f00-957b-8093d09abe96",
   "metadata": {},
   "source": []
  },
  {
   "cell_type": "markdown",
   "id": "7ec06a51-8c1c-40cf-b8a6-8ef6220d8dda",
   "metadata": {},
   "source": [
    "## Step 4.\n",
    "\n",
    "Perform the ultimate hierarchal clustering by performing both column-wise and genewise clustering.\n",
    "Again you use Ward method for the linkage algorithm.\n",
    "\n",
    "Using a markdown cell, discuss how you would interpret the outcome.\n",
    "For example, can you isolate a group of meaningful genes cutting across gender (M/F)\n",
    "and/or disease phenotype (Dementia/NonDementia)?"
   ]
  },
  {
   "cell_type": "code",
   "execution_count": null,
   "id": "aaf876e4-bd0c-4acc-9ad1-feaf8714f773",
   "metadata": {},
   "outputs": [],
   "source": []
  },
  {
   "cell_type": "markdown",
   "id": "49bd878d-7d26-459e-a028-dfb3d6a60966",
   "metadata": {
    "tags": []
   },
   "source": [
    "## Part III: Bayesian Inference\n",
    "\n",
    "Consider two people, Joe and Jim, who went to cancer screening at different clinics,\n",
    "Joe for prostate cancer screening and Jim for breast cancer screening.\n",
    "\n",
    "Male breast cancer is rare\n",
    "(“less than 1% of all breast cancers occur in men”, https://www.breastcancer.org/symptoms/types/male_bc)\n",
    "but prostate cancer is common\n",
    "(“About 6 cases in 10 are diagnosed in men who are 65 or older”, https://www.cancer.org/cancer/prostate-cancer/about/key-statistics.html).\n",
    "\n",
    "Both heard that their cancer screenings turned out positive.\n",
    "\n",
    "In this exercise, assume\n",
    "P(Cancer=Male_breast) = 0.01\n",
    "and P (Cancer=Male_prostate) = 0.6.\n",
    "\n",
    "Also assume TPR and TNR for prostate cancer screening are 0.75 and 0.70\n",
    "and TPR and TNR for breast cancer screening are 0.85 and 0.80, respectively."
   ]
  },
  {
   "cell_type": "markdown",
   "id": "57401ca9-9b93-4ac5-97a0-19f1f09f6650",
   "metadata": {},
   "source": [
    "\n",
    "## Step 1.\n",
    "\n",
    "Create a contingency table for Bayesian inferencing for each individual.\n",
    "You show two tables, one for Joe and one for Jim."
   ]
  },
  {
   "cell_type": "code",
   "execution_count": null,
   "id": "52d1661c-7ee2-4347-9eba-f7805270ea75",
   "metadata": {},
   "outputs": [],
   "source": []
  },
  {
   "cell_type": "markdown",
   "id": "11d3b863-adc7-4a74-95c5-f9d635c6b26a",
   "metadata": {},
   "source": [
    "## Step 2.\n",
    "\n",
    "This time, convert each contingency table you created in Step 1\n",
    "into a grid-based plot designed to visualize Bayesian inference.\n",
    "\n",
    "Show two 20x20 grid-based illustrations “side by side” to contrast the two cases.\n",
    "You are illustrating Bayesian inferencing using the population size of 400 people in each case,\n",
    "following the discussion we had in class.\n",
    "\n",
    "Coloring of dots properly should differentiate TP/FP/FN/TN cases\n",
    "(i.e., treating dots as people belong to each of these four cases).\n",
    "Suggested colors for dots are: TP – red, FP – blue, FN – maroon, and TN – gray\n",
    "following the convention used in “Example 2 – Drug testing” in lecture slide.\n",
    "\n",
    "Boxing the dots using the code given in the class to label the cancer population $(TP \\cup FN)$ \n",
    "and/or non-cancer population $(TN \\cup FP)$ can be done for **extra credit.**\n",
    "Using the boxing to label the groups is not required.\n",
    "\n",
    "Make sure the titles of plots include person name\n",
    "and $\\mathbb{P}( \\text{Cancer}=\\text{yes} | \\text{test}=\\text{positive} )$, \n",
    "i.e., the probability that the person has cancer upon hearing the positive screening outcome news."
   ]
  },
  {
   "cell_type": "code",
   "execution_count": null,
   "id": "fabc487b-58ff-488c-afb4-700dc7762f80",
   "metadata": {},
   "outputs": [],
   "source": []
  },
  {
   "cell_type": "markdown",
   "id": "77fda687-fbf4-4bd7-853b-8abbb086fc1a",
   "metadata": {},
   "source": [
    "## Step 3.\n",
    "Using a markdown cell, discuss what you can say with the two 20x20 grid-based plots you are contrasting,\n",
    "e.g., the impact of prior vs. likelihood in computing the posterior. "
   ]
  },
  {
   "cell_type": "markdown",
   "id": "dd412721-f33c-4ba0-af58-db0c25686064",
   "metadata": {},
   "source": [
    "---\n",
    "\n",
    "# Various useful resources\n",
    "\n",
    "## **Computing degrees of freedom**:\n",
    "\n",
    "https://stackoverflow.com/questions/49473757/python-degrees-of-freedom\n",
    "\n",
    "There is an error in this URL post. The corrected and “augmented”\n",
    "version is here. Setting the variables A and B is included:\n",
    "\n",
    "```\n",
    "from statistics import mean\n",
    "\n",
    "import math\n",
    "def stdev(X):\n",
    "    m = mean(X)\n",
    "    return math.sqrt(sum((x-m)**2 for x in X) / len(X))\n",
    "\n",
    "def degreesOfFreedom(X, Y):\n",
    "    s1 = (stdev(X)**2)\n",
    "    s2 = (stdev(Y)**2)\n",
    "    df = (s1 / len(X) + s2 / len(Y))**2 / ((s1 / len(X))**2 / (len(X) - 1) + (s2 / len(Y))**2 /\n",
    "(len(Y) - 1))\n",
    "    return(df)\n",
    " \n",
    "A = Alz # includes values for Alzheimers’\n",
    "B = ND # includes values for Non-Dementia\n",
    "\n",
    "print('Degrees of freedom for Student-t distribution: ' + str(degreesOfFreedom(A, B)))\n",
    "```"
   ]
  },
  {
   "cell_type": "markdown",
   "id": "ca05ee49-ce13-477c-91a6-40d73cfd9ad5",
   "metadata": {},
   "source": [
    "## Plotting t-test PDF:\n",
    "\n",
    "https://docs.scipy.org/doc/scipy/reference/generated/scipy.stats.t.html\n",
    "\n",
    "You can use 0.001 and 0.999 instead of 0.01 and 0.99 to stretch tails.\n",
    "\n",
    "```\n",
    "x = np.linspace(\n",
    "    t.ppf(0.001, df),\n",
    "    t.ppf(0.999, df), 100)\n",
    "```"
   ]
  },
  {
   "cell_type": "markdown",
   "id": "a5e938cf-463a-4172-aa7f-5724610eb095",
   "metadata": {},
   "source": [
    "## Calculating Critical Region:\n",
    "\n",
    "https://machinelearningmastery.com/critical-values-for-statistical-hypothesis-testing/\n",
    "\n",
    "Note: You use two tail t-test since you do not care if test sample\n",
    "distribution is larger or smaller than the control sample\n",
    "distribution; you care only different or not. In case of one tail, you\n",
    "set p=0.95. In case of two tail test, you set p = 0.975 for the\n",
    "critical region calculation"
   ]
  },
  {
   "cell_type": "code",
   "execution_count": null,
   "id": "0c384b6c-0180-4e55-84cd-f6aea5a680aa",
   "metadata": {},
   "outputs": [],
   "source": []
  }
 ],
 "metadata": {
  "kernelspec": {
   "display_name": "Python 3 (ipykernel)",
   "language": "python",
   "name": "python3"
  },
  "language_info": {
   "codemirror_mode": {
    "name": "ipython",
    "version": 3
   },
   "file_extension": ".py",
   "mimetype": "text/x-python",
   "name": "python",
   "nbconvert_exporter": "python",
   "pygments_lexer": "ipython3",
   "version": "3.9.6"
  }
 },
 "nbformat": 4,
 "nbformat_minor": 5
}
