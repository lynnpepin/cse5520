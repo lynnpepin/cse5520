{
 "cells": [
  {
   "cell_type": "markdown",
   "id": "3e4ec4d4-45b5-4d22-afbf-953bc10031bc",
   "metadata": {
    "tags": []
   },
   "source": [
    "# CSE 5520 Homework 4\n",
    "\n",
    "| | |\n",
    "|-|-|\n",
    "| **Student** | Lynn Pepin ('Tristan Pepin')\n",
    "|              | tmp13009 / 2079724\n",
    "| **Due date** | 2021 / Sept / 30 (Thur), 11:59PM\n",
    "\n",
    "\n",
    "This is Lynn Pepin's report for CSE 5520 homework 4.\n",
    "\n",
    "---\n",
    "\n",
    "This homework is to help you practice with some data visualization fundamentals. You are\n",
    "expected to use these visualization techniques and others in your final project. You are required\n",
    "to do this exercise in Python. All plots/graphs must have titles and x-y coordinate tick labels. \n",
    "\n",
    "# Part 1: t-Test and p-value\n",
    "\n",
    "Consider again the gene expression data sets introduced in Homework 3.\n",
    "\n",
    "Your analysis is limited to comparing\n",
    "the Dementia group (GSE44768_CR_alz_female_reduced.csv) and the\n",
    "Non-Dementia group (GSE44768_CR_nd_female_reduced.csv).\n",
    "\n",
    "Your study goal is to construct and contrast\n",
    "a $2 x 2$ plot capturing various t-test outcomes for 2 genes, `LAMP2` and `BSN`.\n",
    "\n",
    "In terms of the columns of the $2 x 2$ plot,\n",
    "the first column is to show two histograms in one plot\n",
    "(red for Dementia and blue for non-Dementia for one gene)\n",
    "similar to what you practiced in Homework 3.\n",
    "The second column is to show t-Test PDF.\n",
    "The steps given below is to guide you how to do this exercise."
   ]
  },
  {
   "cell_type": "code",
   "execution_count": 1,
   "id": "80db2f53-3a79-470d-a935-9a42ef15d055",
   "metadata": {},
   "outputs": [],
   "source": [
    "import numpy as np\n",
    "import pandas as pd\n",
    "import matplotlib.pyplot as plt\n",
    "\n",
    "EPS = 0.0000001\n",
    "FINAL = False\n",
    "\n",
    "def almost_equal(a,b,eps=EPS):\n",
    "    return abs(a-b) <= eps"
   ]
  },
  {
   "cell_type": "code",
   "execution_count": 47,
   "id": "19095cb7-d360-419c-ba1d-0bda6fcdb51e",
   "metadata": {},
   "outputs": [
    {
     "name": "stdout",
     "output_type": "stream",
     "text": [
      "['GSM_ID', 'disease', 'age', 'gender', 'pmi', 'pH', 'rin', 'pres', 'batch', 'tissue', 'XIST', 'TYROBP', 'DOCK2', 'FCER1G', 'GSTA4', 'ABCC2', 'TIMELESS', 'ACBD5', 'LMAN1', 'KIFAP3', 'PCTK2', 'SNCA', 'RPS27', 'RPS18', 'PCBP2', 'STIP1', 'HSPA1A', 'DOPEY1', 'ENPP2', 'GAB2', 'TUBB4', 'ACTG1', 'SLC22A2', 'AGTR1', 'ZIC2', 'TEKT1', 'FANK1', 'HYDIN', 'MED6', 'SFRS3', 'PPP2R5A', 'RNASE11', 'LAMP2', 'P2RX7', 'MID1IP1', 'GJA1', 'STON2', 'CST3', 'CREBBP', 'ABCC11', 'MDGA1', 'SNAP91', 'BSN', 'GLS', 'DTL', 'UBE2C', 'BUB1', 'RFX4', 'DGCR6', 'AQP4', 'MT1M', 'AMPD1', 'EGR2', 'PDGFB']\n",
      "Do these all have the same keys? True\n"
     ]
    }
   ],
   "source": [
    "dem_df = pd.read_csv('GSE44768_CR_alz_female_reduced.csv')\n",
    "ndem_df = pd.read_csv('GSE44768_CR_nd_female_reduced.csv')\n",
    "\n",
    "# Data exploration: Do these all have the same keys?\n",
    "if not FINAL:\n",
    "    print(list(dem_df.keys()))\n",
    "    print(\"Do these all have the same keys?\",\n",
    "        (dem_df.keys() == ndem_df.keys()).all()\n",
    "    )\n",
    "\n",
    "# constants holding all the keys we look at\n",
    "GENES = [\n",
    "    'XIST', 'TYROBP', 'DOCK2', 'FCER1G', 'GSTA4',\n",
    "    'ABCC2', 'TIMELESS', 'ACBD5', 'LMAN1', 'KIFAP3', 'PCTK2', 'SNCA',\n",
    "    'RPS27', 'RPS18', 'PCBP2', 'STIP1', 'HSPA1A', 'DOPEY1', 'ENPP2', 'GAB2',\n",
    "    'TUBB4', 'ACTG1', 'SLC22A2', 'AGTR1', 'ZIC2', 'TEKT1', 'FANK1', 'HYDIN',\n",
    "    'MED6', 'SFRS3', 'PPP2R5A', 'RNASE11', 'LAMP2', 'P2RX7', 'MID1IP1',\n",
    "    'GJA1', 'STON2', 'CST3', 'CREBBP', 'ABCC11', 'MDGA1', 'SNAP91', 'BSN',\n",
    "    'GLS', 'DTL', 'UBE2C', 'BUB1', 'RFX4', 'DGCR6', 'AQP4', 'MT1M', 'AMPD1',\n",
    "    'EGR2', 'PDGFB'\n",
    "]"
   ]
  },
  {
   "cell_type": "markdown",
   "id": "7d8b76b9-1ee8-4133-835b-2b821fcb6d79",
   "metadata": {},
   "source": [
    "## Step 1.\n",
    "\n",
    "Create and show two histograms in one plot for the gene `LAMP2` with different colors,\n",
    "red for the Dementia group and blue for the Non-Dementia group into one plot.\n",
    "It should be the first subplot of the first 1 x 2 plot."
   ]
  },
  {
   "cell_type": "code",
   "execution_count": 3,
   "id": "2e899d56-5325-44ab-b350-d00dbfdde456",
   "metadata": {},
   "outputs": [],
   "source": [
    "#diff_of_means = dem_df[GENES].mean(axis=0) - ndem_df[GENES].mean(axis=0)\n",
    "\n",
    "#print(f\"Means are closest at {diff_of_means.idxmin()} and furthest at {diff_of_means.idxmax()}\")"
   ]
  },
  {
   "cell_type": "code",
   "execution_count": 44,
   "id": "573c428a-cb7a-4a40-88dc-f5be9e431be5",
   "metadata": {},
   "outputs": [
    {
     "data": {
      "text/plain": [
       "(array([2., 6., 4., 1., 3., 2., 0., 0., 0., 1.]),\n",
       " array([-0.41211723, -0.34976484, -0.28741245, -0.22506005, -0.16270766,\n",
       "        -0.10035527, -0.03800287,  0.02434952,  0.08670191,  0.14905431,\n",
       "         0.2114067 ]),\n",
       " <BarContainer object of 10 artists>)"
      ]
     },
     "execution_count": 44,
     "metadata": {},
     "output_type": "execute_result"
    },
    {
     "data": {
      "image/png": "[encoded data removed]",
      "text/plain": [
       "<Figure size 432x288 with 2 Axes>"
      ]
     },
     "metadata": {
      "needs_background": "light"
     },
     "output_type": "display_data"
    }
   ],
   "source": [
    "gene = 'LAMP2'\n",
    "# https://matplotlib.org/stable/gallery/subplots_axes_and_figures/subplots_demo.html\n",
    "\n",
    "\n",
    "fig, axs = plt.subplots(1,2)# sharey=True)\n",
    "fig.suptitle(\"Comparison of LAMP2 expression in patients with and without dementia\")\n",
    "#fig.supylabel(\"\")\n",
    "fig.supxlabel(\"Expression\")\n",
    "\n",
    "axs[0].set_title(\"Dementia\")\n",
    "axs[1].set_title(\"Non-Dementia\")\n",
    "axs[0].set_ylabel(\"Amount\")\n",
    "axs[1].set_ylabel(\"Amount\")\n",
    "\n",
    "\n",
    "axs[0].hist(dem_df['LAMP2'])\n",
    "axs[1].hist(ndem_df['LAMP2'], color='red')\n",
    "#axs[0].plot(range(10), [(x**4)/3000 - .5 for x in range(10)])\n",
    "#axs[1].plot(range(10), [np.sin(x/3) for x in range(10)])\n",
    "#axs[2].plot(range(10), [np.cos(x/3) for x in range(10)])"
   ]
  },
  {
   "cell_type": "markdown",
   "id": "69e9b90c-3047-492e-be8c-28bd8dfb571e",
   "metadata": {},
   "source": [
    "## Step 2.\n",
    "\n",
    "Perform t-Test (Hint, unequal variance, unequal sample size) and show PDF.\n",
    "In the PDF plot, indicate the critical region (significance level $\\alpha$ = 0.05)\n",
    "by placing two dots, arrows or lines near the x-axes.\n",
    "\n",
    "You can even color the critical region (area) on the plot if you know how to do\n",
    "this for **extra credits**\n",
    "(Note visual communication is the theme of this course).\n",
    "Coloring the critical region is not required.\n",
    "\n",
    "Then display $t_{obs}$ by placing a different colored dot, arrow or line near the x-axes. \n",
    "\n",
    "Using a markdown cell, state if you would reject $H_0$ or not.\n",
    "$H_0$ is ''The mean values of gene expression between the Dementia group\n",
    "and Non-Dementia group among female patients are **not different**”\n",
    "and $H_1$ is “The mean values of gene expression between the Dementia group and\n",
    "Non-Dementia group among female patients **are different**\n",
    "(one could be higher or lower than the other)”.\n",
    "\n",
    "This t-Test’s PDF is the second subplot of the first 1 x 2 plot. The plot\n",
    "title for the PDF should include the calculated DF (degrees of freedom)."
   ]
  },
  {
   "cell_type": "code",
   "execution_count": null,
   "id": "961b4a5d-427a-40da-8135-6cbff7741798",
   "metadata": {},
   "outputs": [],
   "source": []
  },
  {
   "cell_type": "markdown",
   "id": "bb04a841-7051-4118-9328-d73c6ab7014c",
   "metadata": {},
   "source": [
    "## Step 3.\n",
    "\n",
    "Repeat Steps 1 and 2 for the gene BSN. This is to generate the second 1 x 2 plot."
   ]
  },
  {
   "cell_type": "code",
   "execution_count": null,
   "id": "181912be-e98c-4273-9a5a-d6ad6b73cfc7",
   "metadata": {},
   "outputs": [],
   "source": []
  },
  {
   "cell_type": "markdown",
   "id": "a66bf312-43f6-46bd-a129-d8bc2a1c6367",
   "metadata": {},
   "source": [
    "## Step 4.\n",
    "\n",
    "Lastly, stack two 1 x 2 plots you created in Steps 1, 2 and 3 “top to bottom”\n",
    "to create one 2 x 2 plot and display it.\n",
    "Use a markdown cell and explain how to interpret/contrast the plots you generated.\n",
    "For example, in which case you would reject/accept H0 and why."
   ]
  },
  {
   "cell_type": "code",
   "execution_count": null,
   "id": "7364c696-7023-47a3-a6fc-47be6f654aee",
   "metadata": {},
   "outputs": [],
   "source": []
  },
  {
   "cell_type": "code",
   "execution_count": null,
   "id": "14645015-099b-4283-84b3-a24f0e017c69",
   "metadata": {},
   "outputs": [],
   "source": []
  },
  {
   "cell_type": "markdown",
   "id": "8936cbc1-d5de-485f-91a5-d99b96ec80f2",
   "metadata": {},
   "source": [
    "# Part II: Clustering and Heatmap\n",
    "\n",
    "Consider the pre-processed Alzheimer data set `GSE44768_CR_40_54_Combined.csv`\n",
    "which is available at HuskyCT’s Data folder.\n",
    "MS Excel version is also available that differentiates samples by color highlights. \n",
    "\n",
    "## Step 1.\n",
    "\n",
    "Import and show a 40 x 54 gene expression value matrix.\n",
    "The row ids (sample name) should make it clear how this matrix was created.\n",
    "Only 10 samples from different patients are included in this file.\n",
    "Here `alz`/`nd` means dementia or no and `f`/`m` denotes gender. "
   ]
  },
  {
   "cell_type": "code",
   "execution_count": null,
   "id": "c5606880-7899-4a37-a277-735c6a4bfd63",
   "metadata": {},
   "outputs": [],
   "source": []
  },
  {
   "cell_type": "markdown",
   "id": "768e8f8d-17bb-4e2f-9ab5-0e4e384ade78",
   "metadata": {},
   "source": [
    "## Step 2.\n",
    "\n",
    "Perform a sample-wise hierarchal clustering using Ward method for the linkage algorithm.\n",
    "Note that using Ward method can be easily done by choosing the right option from the library.\n",
    "The outcome should exhibit how the 40 samples from four subgroups\n",
    "(Male Dementia/ Male Non-Dementia / Female Dementia / Female Non-Dementia) are clustered. \n",
    "\n",
    "Using a markdown cell, discuss how you would interpret the outcome,\n",
    "i.e., is it what you expected to see or not,\n",
    "i.e., samples from each of the four groups are clustered?"
   ]
  },
  {
   "cell_type": "code",
   "execution_count": null,
   "id": "c92699a9-16f1-4a3f-8f7c-832d55336e3a",
   "metadata": {},
   "outputs": [],
   "source": []
  },
  {
   "cell_type": "markdown",
   "id": "1cc9c306-41db-4b08-877a-a702c678ecca",
   "metadata": {
    "jp-MarkdownHeadingCollapsed": true,
    "tags": []
   },
   "source": [
    "## Step 3.\n",
    "\n",
    "Perform a gene-wise hierarchal clustering using Ward method for the linkage algorithm.\n",
    "It should exhibit how the genes are clustered independent of sample group membership.\n",
    "\n",
    "Using a markdown cell, discuss how you would interpret the outcome,\n",
    "i.e., do you notice formation of any subgroups of genes behaving similarly across samples?"
   ]
  },
  {
   "cell_type": "code",
   "execution_count": null,
   "id": "b41b1716-13f7-42cb-a8ec-fe74f58a0b98",
   "metadata": {},
   "outputs": [],
   "source": []
  },
  {
   "cell_type": "markdown",
   "id": "add51d5f-3125-4f00-957b-8093d09abe96",
   "metadata": {},
   "source": []
  },
  {
   "cell_type": "markdown",
   "id": "7ec06a51-8c1c-40cf-b8a6-8ef6220d8dda",
   "metadata": {},
   "source": [
    "## Step 4.\n",
    "\n",
    "Perform the ultimate hierarchal clustering by performing both column-wise and genewise clustering.\n",
    "Again you use Ward method for the linkage algorithm.\n",
    "\n",
    "Using a markdown cell, discuss how you would interpret the outcome.\n",
    "For example, can you isolate a group of meaningful genes cutting across gender (M/F)\n",
    "and/or disease phenotype (Dementia/NonDementia)?"
   ]
  },
  {
   "cell_type": "code",
   "execution_count": null,
   "id": "aaf876e4-bd0c-4acc-9ad1-feaf8714f773",
   "metadata": {},
   "outputs": [],
   "source": []
  },
  {
   "cell_type": "markdown",
   "id": "49bd878d-7d26-459e-a028-dfb3d6a60966",
   "metadata": {
    "tags": []
   },
   "source": [
    "## Part III: Bayesian Inference\n",
    "\n",
    "Consider two people, Joe and Jim, who went to cancer screening at different clinics,\n",
    "Joe for prostate cancer screening and Jim for breast cancer screening.\n",
    "\n",
    "Male breast cancer is rare\n",
    "(“less than 1% of all breast cancers occur in men”, https://www.breastcancer.org/symptoms/types/male_bc)\n",
    "but prostate cancer is common\n",
    "(“About 6 cases in 10 are diagnosed in men who are 65 or older”, https://www.cancer.org/cancer/prostate-cancer/about/key-statistics.html).\n",
    "\n",
    "Both heard that their cancer screenings turned out positive.\n",
    "\n",
    "In this exercise, assume\n",
    "P(Cancer=Male_breast) = 0.01\n",
    "and P (Cancer=Male_prostate) = 0.6.\n",
    "\n",
    "Also assume TPR and TNR for prostate cancer screening are 0.75 and 0.70\n",
    "and TPR and TNR for breast cancer screening are 0.85 and 0.80, respectively."
   ]
  },
  {
   "cell_type": "markdown",
   "id": "57401ca9-9b93-4ac5-97a0-19f1f09f6650",
   "metadata": {},
   "source": [
    "\n",
    "## Step 1.\n",
    "\n",
    "Create a contingency table for Bayesian inferencing for each individual.\n",
    "You show two tables, one for Joe and one for Jim."
   ]
  },
  {
   "cell_type": "code",
   "execution_count": null,
   "id": "52d1661c-7ee2-4347-9eba-f7805270ea75",
   "metadata": {},
   "outputs": [],
   "source": []
  },
  {
   "cell_type": "markdown",
   "id": "11d3b863-adc7-4a74-95c5-f9d635c6b26a",
   "metadata": {},
   "source": [
    "## Step 2.\n",
    "\n",
    "This time, convert each contingency table you created in Step 1\n",
    "into a grid-based plot designed to visualize Bayesian inference.\n",
    "\n",
    "Show two 20x20 grid-based illustrations “side by side” to contrast the two cases.\n",
    "You are illustrating Bayesian inferencing using the population size of 400 people in each case,\n",
    "following the discussion we had in class.\n",
    "\n",
    "Coloring of dots properly should differentiate TP/FP/FN/TN cases\n",
    "(i.e., treating dots as people belong to each of these four cases).\n",
    "Suggested colors for dots are: TP – red, FP – blue, FN – maroon, and TN – gray\n",
    "following the convention used in “Example 2 – Drug testing” in lecture slide.\n",
    "\n",
    "Boxing the dots using the code given in the class to label the cancer population $(TP \\cup FN)$ \n",
    "and/or non-cancer population $(TN \\cup FP)$ can be done for **extra credit.**\n",
    "Using the boxing to label the groups is not required.\n",
    "\n",
    "Make sure the titles of plots include person name\n",
    "and $\\mathbb{P}( \\text{Cancer}=\\text{yes} | \\text{test}=\\text{positive} )$, \n",
    "i.e., the probability that the person has cancer upon hearing the positive screening outcome news."
   ]
  },
  {
   "cell_type": "code",
   "execution_count": null,
   "id": "fabc487b-58ff-488c-afb4-700dc7762f80",
   "metadata": {},
   "outputs": [],
   "source": []
  },
  {
   "cell_type": "markdown",
   "id": "77fda687-fbf4-4bd7-853b-8abbb086fc1a",
   "metadata": {},
   "source": [
    "## Step 3.\n",
    "Using a markdown cell, discuss what you can say with the two 20x20 grid-based plots you are contrasting,\n",
    "e.g., the impact of prior vs. likelihood in computing the posterior. "
   ]
  },
  {
   "cell_type": "markdown",
   "id": "dd412721-f33c-4ba0-af58-db0c25686064",
   "metadata": {},
   "source": [
    "---\n",
    "\n",
    "# Various useful resources\n",
    "\n",
    "## **Computing degrees of freedom**:\n",
    "\n",
    "https://stackoverflow.com/questions/49473757/python-degrees-of-freedom\n",
    "\n",
    "There is an error in this URL post. The corrected and “augmented”\n",
    "version is here. Setting the variables A and B is included:\n",
    "\n",
    "```\n",
    "from statistics import mean\n",
    "\n",
    "import math\n",
    "def stdev(X):\n",
    "    m = mean(X)\n",
    "    return math.sqrt(sum((x-m)**2 for x in X) / len(X))\n",
    "\n",
    "def degreesOfFreedom(X, Y):\n",
    "    s1 = (stdev(X)**2)\n",
    "    s2 = (stdev(Y)**2)\n",
    "    df = (s1 / len(X) + s2 / len(Y))**2 / ((s1 / len(X))**2 / (len(X) - 1) + (s2 / len(Y))**2 /\n",
    "(len(Y) - 1))\n",
    "    return(df)\n",
    " \n",
    "A = Alz # includes values for Alzheimers’\n",
    "B = ND # includes values for Non-Dementia\n",
    "\n",
    "print('Degrees of freedom for Student-t distribution: ' + str(degreesOfFreedom(A, B)))\n",
    "```"
   ]
  },
  {
   "cell_type": "markdown",
   "id": "ca05ee49-ce13-477c-91a6-40d73cfd9ad5",
   "metadata": {},
   "source": [
    "## Plotting t-test PDF:\n",
    "\n",
    "https://docs.scipy.org/doc/scipy/reference/generated/scipy.stats.t.html\n",
    "\n",
    "You can use 0.001 and 0.999 instead of 0.01 and 0.99 to stretch tails.\n",
    "\n",
    "```\n",
    "x = np.linspace(\n",
    "    t.ppf(0.001, df),\n",
    "    t.ppf(0.999, df), 100)\n",
    "```"
   ]
  },
  {
   "cell_type": "markdown",
   "id": "a5e938cf-463a-4172-aa7f-5724610eb095",
   "metadata": {},
   "source": [
    "## Calculating Critical Region:\n",
    "\n",
    "https://machinelearningmastery.com/critical-values-for-statistical-hypothesis-testing/\n",
    "\n",
    "Note: You use two tail t-test since you do not care if test sample\n",
    "distribution is larger or smaller than the control sample\n",
    "distribution; you care only different or not. In case of one tail, you\n",
    "set p=0.95. In case of two tail test, you set p = 0.975 for the\n",
    "critical region calculation"
   ]
  },
  {
   "cell_type": "code",
   "execution_count": null,
   "id": "0c384b6c-0180-4e55-84cd-f6aea5a680aa",
   "metadata": {},
   "outputs": [],
   "source": []
  }
 ],
 "metadata": {
  "kernelspec": {
   "display_name": "Python 3 (ipykernel)",
   "language": "python",
   "name": "python3"
  },
  "language_info": {
   "codemirror_mode": {
    "name": "ipython",
    "version": 3
   },
   "file_extension": ".py",
   "mimetype": "text/x-python",
   "name": "python",
   "nbconvert_exporter": "python",
   "pygments_lexer": "ipython3",
   "version": "3.9.6"
  }
 },
 "nbformat": 4,
 "nbformat_minor": 5
}
