{
 "cells": [
  {
   "cell_type": "markdown",
   "id": "3e4ec4d4-45b5-4d22-afbf-953bc10031bc",
   "metadata": {
    "tags": []
   },
   "source": [
    "# CSE 5520 Homework 4\n",
    "\n",
    "| | |\n",
    "|-|-|\n",
    "| **Student** | Lynn Pepin ('Tristan Pepin')\n",
    "|              | tmp13009 / 2079724\n",
    "| **Due date** | 2021 / Sept / 30 (Thur), 11:59PM\n",
    "\n",
    "\n",
    "This is Lynn Pepin's report for CSE 5520 homework 4.\n",
    "\n",
    "---\n",
    "\n",
    "This homework is to help you practice with some data visualization fundamentals. You are\n",
    "expected to use these visualization techniques and others in your final project. You are required to do this exercise in Python. All plots/graphs must have titles and x-y coordinate tick labels. \n",
    "\n",
    "# Part 1: t-Test and p-value\n",
    "\n",
    "Consider again the gene expression data sets introduced in Homework 3.\n",
    "\n",
    "Your study goal is to construct and contrast a 2 x 3 plot bar capturing various t-test outcomes for 2 genes, HC_F_D and NU_F_D, where H means high, and C convincingly.\n",
    "Here NU is meant to denote “Null Hypothesis”.\n",
    "The 2nd gene NU_F_D is to illustrate the gene exhibiting no difference between female dementia and non-dementia subpopulations.\n",
    "In terms of the columns of the 2 x 3 plot bar, the first column is to show the merged gene expression histogram you practiced in Homework 3.\n",
    "\n",
    "The second column is to show t-Test PDF and the third column t-Test CDF. You need to indicate how to read the associated p-value over your PDF and CDF plots by properly placing dots or arrows or even coloring the area (for PDF) if you know how to do this. The steps given below is to guide you how to do this exercise."
   ]
  },
  {
   "cell_type": "code",
   "execution_count": 4,
   "id": "80db2f53-3a79-470d-a935-9a42ef15d055",
   "metadata": {},
   "outputs": [],
   "source": [
    "import numpy as np\n",
    "import pandas as pd\n",
    "import matplotlib.pyplot as plt\n",
    "\n",
    "EPS = 0.0000001\n",
    "FINAL = False\n",
    "\n",
    "def almost_equal(a,b,eps=EPS):\n",
    "    return abs(a-b) <= eps"
   ]
  },
  {
   "cell_type": "code",
   "execution_count": 5,
   "id": "19095cb7-d360-419c-ba1d-0bda6fcdb51e",
   "metadata": {},
   "outputs": [
    {
     "name": "stdout",
     "output_type": "stream",
     "text": [
      "['GSM_ID', 'disease', 'age', 'gender', 'pmi', 'pH', 'rin', 'pres', 'batch', 'tissue', 'XIST', 'TYROBP', 'DOCK2', 'FCER1G', 'GSTA4', 'ABCC2', 'TIMELESS', 'ACBD5', 'LMAN1', 'KIFAP3', 'PCTK2', 'SNCA', 'RPS27', 'RPS18', 'PCBP2', 'STIP1', 'HSPA1A', 'DOPEY1', 'ENPP2', 'GAB2', 'TUBB4', 'ACTG1', 'SLC22A2', 'AGTR1', 'ZIC2', 'TEKT1', 'FANK1', 'HYDIN', 'MED6', 'SFRS3', 'PPP2R5A', 'RNASE11', 'LAMP2', 'P2RX7', 'MID1IP1', 'GJA1', 'STON2', 'CST3', 'CREBBP', 'ABCC11', 'MDGA1', 'SNAP91', 'BSN', 'GLS', 'DTL', 'UBE2C', 'BUB1', 'RFX4', 'DGCR6', 'AQP4', 'MT1M', 'AMPD1', 'EGR2', 'PDGFB']\n"
     ]
    }
   ],
   "source": [
    "dem_df = pd.read_csv('GSE44768_CR_alz_female_reduced.csv')\n",
    "ndem_df = pd.read_csv('GSE44768_CR_nd_female_reduced.csv')\n",
    "\n",
    "if not FINAL: print(list(dem_df.keys()))"
   ]
  },
  {
   "cell_type": "markdown",
   "id": "7d8b76b9-1ee8-4133-835b-2b821fcb6d79",
   "metadata": {},
   "source": [
    "## Step 1.\n",
    "\n",
    "Create and show merged histograms for the gene HC_F_D with different colors, red for the Dementia group and blue for the Non-Dementia group into one plot.\n",
    "You decide what your HC_F_D is (e.g., the gene having largest log ratio values between Dimentia/No_Dimentia and narrow standard deviation for both populations; note that the given values are log10 based)."
   ]
  },
  {
   "cell_type": "code",
   "execution_count": null,
   "id": "2e899d56-5325-44ab-b350-d00dbfdde456",
   "metadata": {},
   "outputs": [],
   "source": []
  },
  {
   "cell_type": "markdown",
   "id": "69e9b90c-3047-492e-be8c-28bd8dfb571e",
   "metadata": {},
   "source": [
    "## Step 2.\n",
    "\n",
    "Perform t-Test and produce p-value. Here H0 is “HC_F_D has no gene expression value difference between the Dementia group and Non-Dementia group” and Ha is “Gene expression values of HC_F_D for the Dementia group is higher than those for the Non-Dementia group”.\n",
    "\n",
    "Show this t-Test’s PDF and CDF side by side. Place properly dots or arrows or even color the\n",
    "area (for PDF) on the plots to indicate visually how to read your plots (Note visual communication is the theme of this course)."
   ]
  },
  {
   "cell_type": "code",
   "execution_count": null,
   "id": "961b4a5d-427a-40da-8135-6cbff7741798",
   "metadata": {},
   "outputs": [],
   "source": []
  },
  {
   "cell_type": "markdown",
   "id": "bb04a841-7051-4118-9328-d73c6ab7014c",
   "metadata": {},
   "source": [
    "## Step 3.\n",
    "Place the plots from Steps 1 and 2 side by side and use a markdown cell to explain if you can convincingly point out your choice of HC_F_D is good or bad (in general, if p-value is less than 0.05, we say the conclusion is statistically significant.)\n"
   ]
  },
  {
   "cell_type": "code",
   "execution_count": null,
   "id": "181912be-e98c-4273-9a5a-d6ad6b73cfc7",
   "metadata": {},
   "outputs": [],
   "source": []
  },
  {
   "cell_type": "markdown",
   "id": "a66bf312-43f6-46bd-a129-d8bc2a1c6367",
   "metadata": {},
   "source": [
    "## Step 4.\n",
    "\n",
    "Repeat Steps 1, 2 and 3 for NU_F_D. You choose what NU_F_D should be. "
   ]
  },
  {
   "cell_type": "code",
   "execution_count": null,
   "id": "7364c696-7023-47a3-a6fc-47be6f654aee",
   "metadata": {},
   "outputs": [],
   "source": []
  },
  {
   "cell_type": "markdown",
   "id": "d523b7c9-58ad-4fb0-879e-9be96dbf73c1",
   "metadata": {},
   "source": [
    "## Step 5.\n",
    "\n",
    "Lastly, stack two 1 x 3 plots you created in Steps 3 and 4 “top to bottom” to create one plot bar and display it. Use a markdown cell and explain how to interpret/contrast p-values and the associated plots you generated. Your sentence may start “The p-value for the gene HC_F_D eans that … ”. "
   ]
  },
  {
   "cell_type": "code",
   "execution_count": null,
   "id": "14645015-099b-4283-84b3-a24f0e017c69",
   "metadata": {},
   "outputs": [],
   "source": []
  },
  {
   "cell_type": "markdown",
   "id": "8936cbc1-d5de-485f-91a5-d99b96ec80f2",
   "metadata": {},
   "source": [
    "# Part II: Clustering and Heatmap\n",
    "\n",
    "Consider again the gene expression data sets introduced in Homework 3.\n",
    "\n",
    "## Step 1.\n",
    "\n",
    "Import and show a 40 x 54 gene expression value matrix that compares a subset of gene expression values created from the AD data set which is available at HuskyCT’s Data folder,  namely, GSE44768_CR_40_54_Combined.csv. The row ids (sample name) should make it clear how this matrix was created. Here alz/nd means dementia or no and f/m denotes gender. \n",
    "\n"
   ]
  },
  {
   "cell_type": "code",
   "execution_count": null,
   "id": "c5606880-7899-4a37-a277-735c6a4bfd63",
   "metadata": {},
   "outputs": [],
   "source": []
  },
  {
   "cell_type": "markdown",
   "id": "768e8f8d-17bb-4e2f-9ab5-0e4e384ade78",
   "metadata": {},
   "source": [
    "## Step 2.\n",
    "\n",
    "Perform a hierarchal clustering exhibiting how the six samples are grouped together,\n",
    "i.e., sample-wise clustering.\n",
    "Using a markdown cell, discuss how you would interpret the outcome,\n",
    "i.e., is it what you expected or not. "
   ]
  },
  {
   "cell_type": "code",
   "execution_count": null,
   "id": "c92699a9-16f1-4a3f-8f7c-832d55336e3a",
   "metadata": {},
   "outputs": [],
   "source": []
  },
  {
   "cell_type": "markdown",
   "id": "1cc9c306-41db-4b08-877a-a702c678ecca",
   "metadata": {},
   "source": [
    "## Step 3.\n",
    "\n",
    "Perform a hierarchal clustering exhibiting how the genes are grouped together,\n",
    "i.e., genewise clustering.\n",
    "Using a markdown cell, discuss how you would interpret the outcome,\n",
    "i.e., do you notice subgroups?"
   ]
  },
  {
   "cell_type": "code",
   "execution_count": null,
   "id": "b41b1716-13f7-42cb-a8ec-fe74f58a0b98",
   "metadata": {},
   "outputs": [],
   "source": []
  },
  {
   "cell_type": "markdown",
   "id": "add51d5f-3125-4f00-957b-8093d09abe96",
   "metadata": {},
   "source": []
  },
  {
   "cell_type": "markdown",
   "id": "7ec06a51-8c1c-40cf-b8a6-8ef6220d8dda",
   "metadata": {},
   "source": [
    "## Step 4.\n",
    "Perform a hierarchal clustering exhibiting how samples and genes are grouped simultaneously,\n",
    "i.e., clustering both column-wise and gene-wise.\n",
    "Using a markdown cell, discuss how you would interpret the outcome,\n",
    "i.e., can you isolate a group of meaningful genes cutting across gender (M/F) and disease phenotype (Dementia/Non-Dementia)?"
   ]
  },
  {
   "cell_type": "code",
   "execution_count": null,
   "id": "aaf876e4-bd0c-4acc-9ad1-feaf8714f773",
   "metadata": {},
   "outputs": [],
   "source": []
  },
  {
   "cell_type": "markdown",
   "id": "47e3f833-3c04-4a4d-8fbd-4a4f987e52e0",
   "metadata": {},
   "source": [
    "## Step 5.\n",
    "\n",
    "Recall that you created a heatmap in Homework 3 for a 10 x 10 correlation matrix that\n",
    "includes TYROBP, DOCK2, GSTA4, and 7 others (of your choice). Perform “row-wise”\n",
    "clustering on this correlation matrix heatmap and contrast one before the clustering and one after\n",
    "the clustering, side by side. Discuss what you find from this side-by-side comparison. "
   ]
  },
  {
   "cell_type": "code",
   "execution_count": null,
   "id": "e6416671-6179-48cf-b678-0b118e9c8311",
   "metadata": {},
   "outputs": [],
   "source": []
  },
  {
   "cell_type": "markdown",
   "id": "49bd878d-7d26-459e-a028-dfb3d6a60966",
   "metadata": {},
   "source": [
    "## Part III: Bayesian Inference\n",
    "\n",
    "Consider two people, Joe and Jim, who went to cancer screening at different clinics, Joe for prostate\n",
    "cancer screening and Jim for breast cancer screening. Male breast cancer is rare (“less than 1% of all\n",
    "breast cancers occur in men”, https://www.breastcancer.org/symptoms/types/male_bc), but prostate\n",
    "cancer is common (“About 6 cases in 10 are diagnosed in men who are 65 or older”,\n",
    "https://www.cancer.org/cancer/prostate-cancer/about/key-statistics.html).\n",
    "Both heard that their cancer screenings turned out positive.\n",
    "\n",
    "In this exercise, assume P (Cancer=Male_breast) = 0.01 and P\n",
    "(Cancer=Male_prostate) = 0.6. Also assume TPR and TNR for prostate cancer screening are 0.75 and\n",
    "0.70 and TPR and TNR for breast cancer screening are 0.85 and 0.80, respectively.\n",
    "\n",
    "\n",
    "## Step 1.\n",
    "\n",
    "Create a contingency table for Bayesian inferencing for each individual.\n",
    "You show two tables, one for Joe and one for Jim."
   ]
  },
  {
   "cell_type": "code",
   "execution_count": null,
   "id": "52d1661c-7ee2-4347-9eba-f7805270ea75",
   "metadata": {},
   "outputs": [],
   "source": []
  },
  {
   "cell_type": "markdown",
   "id": "11d3b863-adc7-4a74-95c5-f9d635c6b26a",
   "metadata": {},
   "source": [
    "## Step 2.\n",
    "\n",
    "This time, convert each contingency table you created in Step 1 into a grid-based plot\n",
    "designed to visualize Bayesian inference. Show two 20x20 grid-based illustrations “side by side”\n",
    "to contrast the two cases. You are illustrating Bayesian inferencing using the population size of\n",
    "400 people in each case, following the discussion we had in class. Coloring of dots should reflect\n",
    "TP/FP/FN/TN. Boxing the dots should be done as required. Make sure the titles of plots include\n",
    "person name and $\\mathbb{P}(Y|d)$, i.e., the probability that the person has cancer upon hearing the positive\n",
    "screening outcome."
   ]
  },
  {
   "cell_type": "code",
   "execution_count": null,
   "id": "fabc487b-58ff-488c-afb4-700dc7762f80",
   "metadata": {},
   "outputs": [],
   "source": []
  },
  {
   "cell_type": "markdown",
   "id": "77fda687-fbf4-4bd7-853b-8abbb086fc1a",
   "metadata": {},
   "source": [
    "## Step 3.\n",
    "Using a markdown cell, discuss what you can communicate with the two plots you are\n",
    "contrasting, e.g., the impact of prior vs. likelihood in computing the posterior. "
   ]
  },
  {
   "cell_type": "code",
   "execution_count": null,
   "id": "47b59753-f153-44c5-b078-ef7147668c76",
   "metadata": {},
   "outputs": [],
   "source": []
  }
 ],
 "metadata": {
  "kernelspec": {
   "display_name": "Python 3 (ipykernel)",
   "language": "python",
   "name": "python3"
  },
  "language_info": {
   "codemirror_mode": {
    "name": "ipython",
    "version": 3
   },
   "file_extension": ".py",
   "mimetype": "text/x-python",
   "name": "python",
   "nbconvert_exporter": "python",
   "pygments_lexer": "ipython3",
   "version": "3.9.6"
  }
 },
 "nbformat": 4,
 "nbformat_minor": 5
}
