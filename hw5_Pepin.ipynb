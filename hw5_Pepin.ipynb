{
 "cells": [
  {
   "cell_type": "markdown",
   "id": "be53e9be-4de7-46ca-a702-d9e0c40a8d6b",
   "metadata": {},
   "source": [
    "# CSE 5520 Homework 5\n",
    "\n",
    "\"Visualization of Hypothesis Testing and Network\"\n",
    "\n",
    "| | |\n",
    "|-|-|\n",
    "| **Student** | Lynn Pepin ('Tristan Pepin')\n",
    "|              | tmp13009 / 2079724\n",
    "| **Due date** | 2021 / Oct / 17 (Sun), 11:59PM\n",
    "\n",
    "This homework is to help you practice with some data visualization fundamentals.\n",
    "You are expected to use these visualization techniques and others in your final project.\n",
    "You are required to do this exercise in Python.\n",
    "All plots/graphs must have titles and x-y coordinate tick labels. "
   ]
  },
  {
   "cell_type": "code",
   "execution_count": 1,
   "id": "092f3409-7c98-4eb3-a974-7e31aa892a4c",
   "metadata": {},
   "outputs": [],
   "source": [
    "# Common imports from Python standard libraries\n",
    "from dataclasses import dataclass\n",
    "import math\n",
    "\n",
    "# Common imports from\n",
    "import numpy as np\n",
    "import pandas as pd\n",
    "import matplotlib.pyplot as plt\n",
    "from scipy import stats\n",
    "from scipy import cluster\n",
    "from statistics import mean\n",
    "\n",
    "# Useful imports for visualization\n",
    "import seaborn\n",
    "# Other packages\n",
    "import networkx as nx\n",
    "import pyvis as pv\n",
    "\n",
    "EPS = 0.0000001\n",
    "FINAL = True\n",
    "\n",
    "# Some useful functions\n",
    "def almost_equal(a,b,eps=EPS):\n",
    "    return abs(a-b) <= eps\n",
    "\n",
    "# Code provided from HW4\n",
    "def stdev(X):\n",
    "    m = mean(X)\n",
    "    return math.sqrt(sum((x-m)**2 for x in X) / len(X))\n",
    "\n",
    "def degreesOfFreedom(X, Y):\n",
    "    s1 = (stdev(X)**2)\n",
    "    s2 = (stdev(Y)**2)\n",
    "    df = (s1 / len(X) + s2 / len(Y))**2 / ((s1 / len(X))**2 / (len(X) - 1) + (s2 / len(Y))**2 /\n",
    "(len(Y) - 1))\n",
    "    return(df)"
   ]
  },
  {
   "cell_type": "markdown",
   "id": "3d6b2ced-dc6d-493f-822f-82f17b0f8d84",
   "metadata": {},
   "source": [
    "# Part 1: P value in Hypothesis testing\n",
    "\n",
    "\n",
    "Consider again the gene expression data sets introduced in Homework 3/4.\n",
    "Your analysis is limited to comparing\n",
    "the female/male Dementia group and the female/male Non-Dementia group,\n",
    "using ‘GSE44768_CR_40_54_Combined.csv’.\n",
    "\n",
    "Your study goal is\n",
    "to calculate p-values from multiple t-tests and correct p-values\n",
    "using Benjamini-Hochberg (BH) correction for 2 genes,\n",
    "LAMP2 and BSN."
   ]
  },
  {
   "cell_type": "code",
   "execution_count": 2,
   "id": "912b204d-b901-47fc-9b30-71ee194d8b76",
   "metadata": {},
   "outputs": [
    {
     "name": "stdout",
     "output_type": "stream",
     "text": [
      "Index(['GSM_ID', 'XIST', 'TYROBP', 'DOCK2', 'FCER1G', 'GSTA4', 'ABCC2',\n",
      "       'TIMELESS', 'ACBD5', 'LMAN1', 'KIFAP3', 'PCTK2', 'SNCA', 'RPS27',\n",
      "       'RPS18', 'PCBP2', 'STIP1', 'HSPA1A', 'DOPEY1', 'ENPP2', 'GAB2', 'TUBB4',\n",
      "       'ACTG1', 'SLC22A2', 'AGTR1', 'ZIC2', 'TEKT1', 'FANK1', 'HYDIN', 'MED6',\n",
      "       'SFRS3', 'PPP2R5A', 'RNASE11', 'LAMP2', 'P2RX7', 'MID1IP1', 'GJA1',\n",
      "       'STON2', 'CST3', 'CREBBP', 'ABCC11', 'MDGA1', 'SNAP91', 'BSN', 'GLS',\n",
      "       'DTL', 'UBE2C', 'BUB1', 'RFX4', 'DGCR6', 'AQP4', 'MT1M', 'AMPD1',\n",
      "       'EGR2', 'PDGFB'],\n",
      "      dtype='object')\n"
     ]
    }
   ],
   "source": [
    "alz_df = pd.read_csv(\"GSE44768_CR_40_54_Combined.csv\")\n",
    "print(alz_df.keys())\n",
    "\n",
    "f_df = alz_df[\n",
    "    [alz_df['GSM_ID'][ii][-1] == 'f'\n",
    "     for ii in range(len(alz_df))\n",
    "    ]\n",
    "]\n",
    "\n",
    "m_df = alz_df[\n",
    "    [alz_df['GSM_ID'][ii][-1] == 'm'\n",
    "     for ii in range(len(alz_df))\n",
    "    ]\n",
    "]\n",
    "\n",
    "# now split into alz/no alz\n",
    "falz_df = f_df[\n",
    "    [alz_df['GSM_ID'][ii][11] == 'a'\n",
    "     for ii in range(len(f_df))\n",
    "    ]\n",
    "]\n",
    "\n",
    "fnd_df = f_df[\n",
    "    [alz_df['GSM_ID'][ii][11] == 'n'\n",
    "     for ii in range(len(f_df))\n",
    "    ]\n",
    "]\n",
    "\n",
    "malz_df = m_df[\n",
    "    [alz_df['GSM_ID'][ii][11] == 'a'\n",
    "     for ii in range(len(m_df))\n",
    "    ]\n",
    "]\n",
    "\n",
    "mnd_df = m_df[\n",
    "    [alz_df['GSM_ID'][ii][11] == 'n'\n",
    "     for ii in range(len(m_df))\n",
    "    ]\n",
    "]\n",
    "\n",
    "gene_keys = [\"LAMP2\", \"BSN\"]"
   ]
  },
  {
   "cell_type": "markdown",
   "id": "a7827e9e-d225-43dd-96ac-06567bd81ae2",
   "metadata": {
    "tags": []
   },
   "source": [
    "## Step 1\n",
    "\n",
    "Focus on LAMP2.\n",
    "Your plan is to perform six different hypothesis testings (t-test) for this gene\n",
    "a) Non-Dementia Female vs. Alzheimer’s Female,\n",
    "b) Non-Dementia Female vs. NonDementia Male,\n",
    "c) Non-Dementia Female vs. Alzheimer’s Male,\n",
    "d) Alzheimer’s Female vs NonDementia Male,\n",
    "e) Alzheimer’s Female vs Alzheimer’s Male,\n",
    "f) Non-Dementia Male vs\n",
    "Alzheimer’s Male. Calculate p-values based on t-test for each case.\n",
    "\n",
    "Discuss what you can say based on the p-values you got,\n",
    "assuming the significance level $\\alpha$ = 0.05. "
   ]
  },
  {
   "cell_type": "markdown",
   "id": "78ca98e2-34ed-4340-89ab-2d03e2ac3290",
   "metadata": {},
   "source": [
    "> **Lynn's notes:** The False Discovery Rate is given as (number of 'false discoveries')/(number of discoveries, false and true.)\n",
    ">\n",
    "> One can think of a \"false discovery\" as a false-negatuve, and a \"true discovery\" as a \"true negative\". So, this would be $\\frac{\\text{TN}}/{\\text{TN} + \\text{FN}}$.\n",
    ">\n",
    "> Replacing 'negative' with 'positive', this is PPV (positive predictive value), i.e. $PPV = 1 - FDR$.\n",
    "> \n",
    "> **Benjamini-Hochberg correction (BH correction)** controls FDR at a level $\\alpha$ for ascending $p_i \\in P$, where $P$ is of length $m$.:\n",
    ">\n",
    "> 1. For a given $\\alpha$, find the largest $k$ such that $p_k \\leq \\frac{k}{m}\\alpha$\n",
    "> 2. Reject the Null Hypothesis for all $H_j$ for $i \\in 1, 2, ... k$.\n",
    "> \n",
    "> Remember, rejecting null hypothesis means accepting your Cool Hypothesis.\n",
    "> \n",
    "> **TLDR:** For ascending sorted list $P$ of length $m$, find the largest $k$ where `P[k] <= ka/m`.\n",
    ">\n",
    "> **Steps:**\n",
    "> a) Non-Dementia Female vs. Alzheimer’s Female,\n",
    "> b) Non-Dementia Female vs. NonDementia Male, \n",
    "> c) Non-Dementia Female vs. Alzheimer’s Male, \n",
    "> d) Alzheimer’s Female vs NonDementia Male, \n",
    "> e) Alzheimer’s Female vs Alzheimer’s Male, \n",
    "> f) Non-Dementia Male vs Alzheimer’s Male.\n",
    "\n",
    "\n"
   ]
  },
  {
   "cell_type": "code",
   "execution_count": 52,
   "id": "31fa8d51-2930-429d-bc26-6f0d84beee44",
   "metadata": {},
   "outputs": [
    {
     "name": "stdout",
     "output_type": "stream",
     "text": [
      "Got value 0.001 for step (A)\n",
      "Got value 0.202 for step (B)\n",
      "Got value 0.105 for step (C)\n",
      "Got value 0.016 for step (D)\n",
      "Got value 0.107 for step (E)\n",
      "Got value 0.520 for step (F)\n"
     ]
    }
   ],
   "source": [
    "gene_key = 'LAMP2'\n",
    "alpha = 0.05\n",
    "\n",
    "def _do_t_test(df, gene_key = 'LAMP2', alpha = 0.05):\n",
    "    # oops unused, thought this might be useful\n",
    "    v_obs = degreesOfFreedom(dem_df['LAMP2'], ndem_df['LAMP2'])\n",
    "    t_obs, p_obs = stats.ttest_ind(df[gene_key], ndem_df[gene_key], equal_var=False)\n",
    "    \n",
    "    return p_obs, t_obs, v_obs\n",
    "\n",
    "#f_df, m_df, falz_df, fnd_df, malz_df, mnd_df\n",
    "\n",
    "pairs_of_gene_dataframes = [\n",
    "    (fnd_df, falz_df),\n",
    "    (fnd_df, mnd_df),\n",
    "    (fnd_df, malz_df),\n",
    "    (falz_df, mnd_df),\n",
    "    (falz_df, malz_df),\n",
    "    (mnd_df, malz_df)\n",
    "]\n",
    "\n",
    "PP = [stats.ttest_ind(left_df[gene_key], right_df[gene_key], equal_var=False)[1]\n",
    "      for left_df, right_df in pairs_of_gene_dataframes]\n",
    "\n",
    "for ii in range(len(PP)):\n",
    "    print(f\"Got value {PP[ii]:.3f} for step ({chr(65+ii)})\")\n",
    "\n"
   ]
  },
  {
   "cell_type": "markdown",
   "id": "416141af-4674-493f-ac52-9aa970efaaee",
   "metadata": {},
   "source": [
    "The lower the $p$ value is, the more \"confident\" we are of a statistically significant difference between two groups. This means we should expect a low $p$ for pairs comparing Alzheimers to Non-Alzheimers samples, and a high $p$ between pairs of like.\n",
    "\n",
    "That is to say, we would expect lowest $p$ for A, C, D, and F. However, surprisingly, $p$ is the *highest* for $F$, by far!\n",
    "\n",
    "The lowest $p$, corresponding to $A$, shows our metric (expression of `LAMP2`) distinguishes Alzheimers well between samples drawn from female people. But we see the opposite for $F$, i.e. suggesting it cannot distinguish Alzheimers very well between samples drawn from male people.\n",
    "\n",
    "So, it might be possible that `LAMP2` can be used to help diagnose Alzhimers in female-sex people."
   ]
  },
  {
   "cell_type": "markdown",
   "id": "b55b8836-4bad-47da-b182-9e2efef26f79",
   "metadata": {
    "tags": []
   },
   "source": [
    "## Step 2\n",
    "\n",
    "Produce 2x3 plot of 6 Gardner-Altman estimation plots from Step 1 a) ~f).\n",
    "The first row should include Gardner-Altman estimation plots of a), b) and c),\n",
    "and the second row GardnerAltman estimation plots of d), e) and f)."
   ]
  },
  {
   "cell_type": "code",
   "execution_count": null,
   "id": "7adcf461-27ef-4b17-876f-d4653314d9d8",
   "metadata": {},
   "outputs": [],
   "source": []
  },
  {
   "cell_type": "markdown",
   "id": "f929d79e-97e7-4f14-999b-aeb712d6280c",
   "metadata": {},
   "source": [
    "## Step 3\n",
    "\n",
    "You like to perform Benjamini-Hochberg(BH) correction for the p-values found in Step1"
   ]
  },
  {
   "cell_type": "code",
   "execution_count": 99,
   "id": "c8f6770f-efba-4059-9296-3ca17637d3eb",
   "metadata": {},
   "outputs": [
    {
     "name": "stdout",
     "output_type": "stream",
     "text": [
      "... P[5] = 0.5196\n",
      "... P[4] = 0.2022\n",
      "... P[3] = 0.1071\n",
      "... P[2] = 0.1045\n",
      "... P[1] = 0.0156\n",
      "... P[1] = 0.016 <= 2*0.1 / 6\n",
      "Sorted and using BH, for LAMP2, we find k = 1 \n",
      " (... er, 2 if you're using it in math.\n",
      "   ... 1 for programming, 2 for math...)\n"
     ]
    }
   ],
   "source": [
    "\n",
    "def _bh_find_k(PP, alpha=0.05, debug=True):\n",
    "    PBH = sorted(PP)\n",
    "    mm = len(PP)\n",
    "    \n",
    "    for kk in list(range(mm))[::-1]:\n",
    "        if debug: print(f\"... P[{kk}] = {PBH[kk]:.4f}\")\n",
    "        \n",
    "        if PBH[kk] <= (kk+1)*alpha / mm:\n",
    "            if debug: print(f\"... P[{kk}] = {PBH[kk]:.3f} <= {kk+1}*{alpha:.1f} / {mm}\")\n",
    "            \n",
    "            return kk\n",
    "    \n",
    "    if debug: print(f\"... No k found! That's rough buddy.\")\n",
    "    \n",
    "    return -1\n",
    "\n",
    "kk = _bh_find_k(PP)\n",
    "print(f\"Sorted and using BH, for {gene_key}, we find k = {kk} \\n (... er, {kk+1} if you're using it in math.\\n   ... {kk} for programming, {kk+1} for math...)\")"
   ]
  },
  {
   "cell_type": "markdown",
   "id": "82f92bdc-4f57-47d3-9b93-f21588443ae4",
   "metadata": {
    "tags": []
   },
   "source": [
    "### Step 3 Item (a)\n",
    "\n",
    "Plot sorted p-values (ascending order) in blue dots. \n",
    "\n",
    "### Step 3 Item (b)\n",
    "\n",
    "Draw a red line with slope $\\frac{\\alpha}{m}$\n",
    "on top of the plot a),\n",
    "where $\\alpha$ is the desired FDR (0.05)\n",
    "and $m$ is total number of comparisons (6).\n",
    "Your plot should look like the plot give below,\n",
    "except in your case the range of x axis will be 1 ~ 6 (Note that we have only 6 p-values). \n",
    "\n",
    "### Step 3 Item (c)\n",
    "\n",
    " Show the largest k that is below the red line. \n",
    " \n",
    "### Step 3 Item (d)\n",
    "\n",
    "Show the corresponding $p$-values up to the largest $k$ found in c).\n",
    "\n",
    "For example,\n",
    "the largest $k$ that is smaller than the red line is 4,\n",
    "4 smallest $p$-values should be recognized. \n",
    "\n",
    "### Step 3 Item (e)\n",
    "\n",
    "Plot the found $p$-values with green dots on top of the plot b)."
   ]
  },
  {
   "cell_type": "code",
   "execution_count": 113,
   "id": "6e09799c-8049-4907-9ab5-12bcd558fc78",
   "metadata": {},
   "outputs": [
    {
     "data": {
      "text/plain": [
       "<matplotlib.legend.Legend at 0x7f0607bafe50>"
      ]
     },
     "execution_count": 113,
     "metadata": {},
     "output_type": "execute_result"
    },
    {
     "data": {
      "image/png": "[encoded data removed]",
      "text/plain": [
       "<Figure size 432x288 with 1 Axes>"
      ]
     },
     "metadata": {
      "needs_background": "light"
     },
     "output_type": "display_data"
    }
   ],
   "source": [
    "PPi = np.argsort(PP)\n",
    "\n",
    "Ks = np.linspace(0,6,7,endpoint=True)\n",
    "\n",
    "# (a) sorted p-values (ascending)\n",
    "plt.scatter(range(1,7), sorted(PP), color='blue')\n",
    "\n",
    "# (b) Red line with given slope\n",
    "plt.plot(Ks, [kk * alpha / len(PP) for kk in Ks], color='red')\n",
    "\n",
    "# (c) specify largest k\n",
    "plt.scatter(kk+1, sorted(PP)[kk], marker='x', s=100)\n",
    "plt.text(kk+1 - .2, sorted(PP)[kk] + .03, f\"kk = {kk+1}\")\n",
    "\n",
    "# (d) plotting the corresponding k values\n",
    "for ii in range(kk+1):\n",
    "    plt.text(ii+1 - .3, sorted(PP)[-1] + .05, f\"{sorted(PP)[ii]:.3f}\") #f\"p_{kk+1} = {PP[PPi[ii]]:.3f}\")\n",
    "\n",
    "# (e) Plot the found  𝑝-values with green dots on top of the plot b).\n",
    "plt.scatter(range(1,kk+2), sorted(PP)[:kk+1], marker='o', s=40, c='lime')\n",
    "\n",
    "\n",
    "# misc \n",
    "plt.grid()\n",
    "plt.ylabel('p-value')\n",
    "plt.xlabel('k')\n",
    "plt.legend([\"a*k/m\", \"p(k)\"])"
   ]
  },
  {
   "cell_type": "markdown",
   "id": "a0ccb3cf-bda4-4b2b-aa92-8c07b55af4b1",
   "metadata": {
    "tags": []
   },
   "source": [
    "## Step 4\n",
    "\n",
    "Add a Jupyter lab markdown cell to compare the Hierarchical clustering results you did for HW4\n",
    "with what you have produced in Steps 1, 2, and 3.\n",
    "\n",
    "Do Hierarchical clustering and Gardner-Altman estimation plots show the similar analysis results?\n",
    "Do Hierarchical clustering and the raw p-values indicate the similar analysis results?\n",
    "How about the corrected p-values?\n",
    "Is there any difference between the p-values and corrected p-values\n",
    "when you contrast these values with the outcome from Hierarchical clustering?\n",
    "\n",
    "Please note that your goal is trying to build a  case by showing/contrasting both numerical values and plots\n",
    "(This course tile is “Data Visualization and Communication”!)."
   ]
  },
  {
   "cell_type": "markdown",
   "id": "9ca38963-87c9-46b0-bcc5-f43455c06983",
   "metadata": {},
   "source": [
    "### Step 4 Q1: \"Do Hierarchical clustering and Gardner-Altman estimation plots show the similar analysis results?\""
   ]
  },
  {
   "cell_type": "code",
   "execution_count": null,
   "id": "53f79127-6250-47c2-943f-5eeae5160f93",
   "metadata": {},
   "outputs": [],
   "source": []
  },
  {
   "cell_type": "markdown",
   "id": "20a59f73-7598-4833-8ca1-4364d65f889e",
   "metadata": {},
   "source": [
    "### Step 4 Q1: \"Do Hierarchical clustering and Gardner-Altman estimation plots show the similar analysis results?\""
   ]
  },
  {
   "cell_type": "code",
   "execution_count": null,
   "id": "424bf78c-49e8-460e-8bb0-a6290ae1147a",
   "metadata": {},
   "outputs": [],
   "source": []
  },
  {
   "cell_type": "markdown",
   "id": "4e1c4785-15a9-4381-a4bf-358348f24e88",
   "metadata": {},
   "source": [
    "### Step 4 Q2: \"Do Hierarchical clustering and the raw p-values indicate the similar analysis results?\""
   ]
  },
  {
   "cell_type": "code",
   "execution_count": null,
   "id": "48ab9685-cd98-49b5-a169-1616140bba47",
   "metadata": {},
   "outputs": [],
   "source": []
  },
  {
   "cell_type": "markdown",
   "id": "4693d882-30cc-4094-aac0-308eb3488fa8",
   "metadata": {
    "tags": []
   },
   "source": [
    "### Step 4 Q3: \"How about the corrected p-values?\""
   ]
  },
  {
   "cell_type": "code",
   "execution_count": null,
   "id": "eb902db8-ef2e-4900-a087-f8923f31c21b",
   "metadata": {},
   "outputs": [],
   "source": []
  },
  {
   "cell_type": "markdown",
   "id": "492c253e-aa56-4cec-b279-645f1a7a4cd7",
   "metadata": {
    "tags": []
   },
   "source": [
    "### Step 4 Q4: \"Is there any difference between the p-values and corrected p-values when you contrast these values with the outcome from Hierarchical clustering?\""
   ]
  },
  {
   "cell_type": "code",
   "execution_count": null,
   "id": "10ed437f-09af-45fa-bbd8-363b360b08c4",
   "metadata": {},
   "outputs": [],
   "source": []
  },
  {
   "cell_type": "markdown",
   "id": "09829b95-b571-4927-a3d4-a64054554e15",
   "metadata": {},
   "source": [
    "## Step 5\n",
    "\n",
    "Repeat Steps1 ~ 4 for the gene BSN."
   ]
  },
  {
   "cell_type": "code",
   "execution_count": null,
   "id": "bffc2423-bcf4-4fef-ad77-c4b6613bc391",
   "metadata": {},
   "outputs": [],
   "source": []
  },
  {
   "cell_type": "markdown",
   "id": "7a16cc3c-75ff-48da-ad8c-d7de3d3ef132",
   "metadata": {},
   "source": [
    "## Step 6 (extra credit)\n",
    "\n",
    "If you think there is a better gene than LAMP2 or BSN\n",
    "to contrast various plots in the above steps,\n",
    "you are welcome to repeat the steps with the gene of your choice.\n",
    "\n",
    "Hint –\n",
    "You could use your heatmap you generated in HW4\n",
    "to select what could provide an interesting case\n",
    "contrasting different plots\n",
    "(i.e., genes that can differentiate different patient groups)."
   ]
  },
  {
   "attachments": {
    "be035a6e-9d8e-4d05-b525-0075f8d530bb.png": {
     "image/png": "[encoded data removed]"
    }
   },
   "cell_type": "markdown",
   "id": "c521567b-5a65-4da6-89e7-081fc4ee7c75",
   "metadata": {},
   "source": [
    "---\n",
    "\n",
    "Heatmap from HW4:\n",
    "\n",
    "![image.png](attachment:be035a6e-9d8e-4d05-b525-0075f8d530bb.png)\n",
    "\n"
   ]
  },
  {
   "cell_type": "code",
   "execution_count": 4,
   "id": "a2ad3dd8-fb5e-4fff-93eb-31b9f9fd94e9",
   "metadata": {},
   "outputs": [
    {
     "ename": "ModuleNotFoundError",
     "evalue": "No module named 'pyvis'",
     "output_type": "error",
     "traceback": [
      "\u001b[0;31m---------------------------------------------------------------------------\u001b[0m",
      "\u001b[0;31mModuleNotFoundError\u001b[0m                       Traceback (most recent call last)",
      "\u001b[0;32m/tmp/ipykernel_15957/3205796786.py\u001b[0m in \u001b[0;36m<module>\u001b[0;34m\u001b[0m\n\u001b[0;32m----> 1\u001b[0;31m \u001b[0;32mimport\u001b[0m \u001b[0mpyvis\u001b[0m\u001b[0;34m\u001b[0m\u001b[0;34m\u001b[0m\u001b[0m\n\u001b[0m",
      "\u001b[0;31mModuleNotFoundError\u001b[0m: No module named 'pyvis'"
     ]
    }
   ],
   "source": []
  },
  {
   "cell_type": "markdown",
   "id": "98ab1c35-4aa9-49b4-b32a-e0e9a9436038",
   "metadata": {},
   "source": [
    "---\n",
    "\n",
    "# Part 2: Network visualization\n",
    "\n",
    "Consider the Alzheimer data set GSE44768_CR_alz_female_reduced.csv\n",
    "which is available at HuskyCT’s Data folder."
   ]
  },
  {
   "cell_type": "code",
   "execution_count": 3,
   "id": "bb6043b3-6831-4c53-ae84-b2534b31ee5c",
   "metadata": {},
   "outputs": [],
   "source": [
    "# use dem_df\n",
    "\n",
    "dem_df = pd.read_csv('GSE44768_CR_alz_female_reduced.csv')"
   ]
  },
  {
   "cell_type": "markdown",
   "id": "431bd61d-87b5-49a8-8616-bfb140e5283d",
   "metadata": {},
   "source": [
    "## Step 1\n",
    "\n",
    "Create and show a 50 x 50 correlation matrix\n",
    "for pairs of genes for the female Alzheimer’s patients for CR\n",
    "by appropriately thresholding their Pearson correlation coefficients.\n",
    "\n",
    "That is, you include top 50 pairs having higher “absolute” correlation coefficient values $|r|$. "
   ]
  },
  {
   "cell_type": "code",
   "execution_count": null,
   "id": "58807d88-71bf-42c4-bafc-ed8a4be29992",
   "metadata": {},
   "outputs": [],
   "source": []
  },
  {
   "cell_type": "markdown",
   "id": "18e10f78-bedd-420e-a7bf-d5fa2318aae2",
   "metadata": {},
   "source": [
    "## Step 2\n",
    "\n",
    "Use Networkx to turn the correlation matrix of Step 1 into a network of undirected edges.\n",
    "\n",
    "That is, you try to show how top 50 correlated genes could be interacting with each other.\n",
    "\n",
    "If $r$ is positive, the edge should be red color, and\n",
    "if negative, green color,\n",
    "as illustrated in lecture slide."
   ]
  },
  {
   "cell_type": "code",
   "execution_count": null,
   "id": "9e5df644-1346-43e2-91b2-3381683bc10c",
   "metadata": {},
   "outputs": [],
   "source": []
  },
  {
   "cell_type": "markdown",
   "id": "5f637a0c-4bad-4ed5-9766-57e134fd98bc",
   "metadata": {},
   "source": [
    "## Step 3\n",
    "\n",
    "This time, use Pyvis to repeat what you have done for Step 2."
   ]
  },
  {
   "cell_type": "code",
   "execution_count": null,
   "id": "5282f3f9-c836-49d1-adcb-3fd4a7cff2cf",
   "metadata": {},
   "outputs": [],
   "source": []
  }
 ],
 "metadata": {
  "kernelspec": {
   "display_name": "Python 3 (ipykernel)",
   "language": "python",
   "name": "python3"
  },
  "language_info": {
   "codemirror_mode": {
    "name": "ipython",
    "version": 3
   },
   "file_extension": ".py",
   "mimetype": "text/x-python",
   "name": "python",
   "nbconvert_exporter": "python",
   "pygments_lexer": "ipython3",
   "version": "3.9.6"
  }
 },
 "nbformat": 4,
 "nbformat_minor": 5
}
