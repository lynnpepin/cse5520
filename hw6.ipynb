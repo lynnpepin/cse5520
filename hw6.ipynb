{
 "cells": [
  {
   "cell_type": "markdown",
   "id": "be53e9be-4de7-46ca-a702-d9e0c40a8d6b",
   "metadata": {},
   "source": [
    "# CSE 5520 Homework 6\n",
    "\n",
    "\"Visualization of KDE and Monte Carlo method\"\n",
    "\n",
    "| | |\n",
    "|-|-|\n",
    "| **Student** | Lynn Pepin ('Tristan Pepin')\n",
    "|              | tmp13009 / 2079724\n",
    "| **Due date** | 2021 / Oct / 24 (Sun), 11:59PM\n",
    "\n",
    "This homework is to help you practice with some data visualization fundamentals.\n",
    "You are expected to use these visualization techniques and others in your final project.\n",
    "You are required to do this exercise in Python.\n",
    "All plots/graphs must have titles and x-y coordinate tick labels. "
   ]
  },
  {
   "cell_type": "code",
   "execution_count": 1,
   "id": "092f3409-7c98-4eb3-a974-7e31aa892a4c",
   "metadata": {},
   "outputs": [],
   "source": [
    "# Common imports from Python standard libraries\n",
    "from dataclasses import dataclass\n",
    "import math\n",
    "\n",
    "# Common imports from\n",
    "import numpy as np\n",
    "import pandas as pd\n",
    "import matplotlib.pyplot as plt\n",
    "from scipy import stats\n",
    "from scipy import cluster\n",
    "from statistics import mean\n",
    "from sklearn.neighbors import KernelDensity\n",
    "from scipy.stats import gaussian_kde\n",
    "\n",
    "# Useful imports for visualization\n",
    "import seaborn\n",
    "\n",
    "# Other packages\n",
    "import networkx as nx\n",
    "import pyvis as pv\n",
    "\n",
    "EPS = 0.0000001\n",
    "FINAL = True\n",
    "\n",
    "# Some useful functions\n",
    "def almost_equal(a,b,eps=EPS):\n",
    "    return abs(a-b) <= eps\n",
    "\n",
    "# Code provided from HW4\n",
    "def stdev(X):\n",
    "    m = mean(X)\n",
    "    return math.sqrt(sum((x-m)**2 for x in X) / len(X))\n",
    "\n",
    "def degreesOfFreedom(X, Y):\n",
    "    s1 = (stdev(X)**2)\n",
    "    s2 = (stdev(Y)**2)\n",
    "    df = (s1 / len(X) + s2 / len(Y))**2 / ((s1 / len(X))**2 / (len(X) - 1) + (s2 / len(Y))**2 /\n",
    "(len(Y) - 1))\n",
    "    return(df)"
   ]
  },
  {
   "cell_type": "markdown",
   "id": "c7d4ad15-6984-4057-a468-cc158d3a49e5",
   "metadata": {
    "tags": []
   },
   "source": [
    "# Part 1: Dashboard\n",
    "\n",
    "This part is to help you get started with your term project\n",
    "by gently introducing Dashboard creation.\n",
    "\n",
    "You were given a template code that creates a Dashboard webpage.\n",
    "Decide one or more data sets of your choice, ideally, related to your term project.\n",
    "If you do not have one yet, you can use the NBA/LOAD data sets used in previous Homework. "
   ]
  },
  {
   "cell_type": "code",
   "execution_count": 2,
   "id": "bc07fce7-b716-42f5-8e55-5ce42f612674",
   "metadata": {},
   "outputs": [],
   "source": [
    "nba = pd.read_csv('nba.csv')"
   ]
  },
  {
   "cell_type": "markdown",
   "id": "ddc0a897-480c-48c9-9c37-a8fc5f96f7d2",
   "metadata": {},
   "source": [
    "## Step 1.\n",
    "\n",
    "Using the data set of your choice, you let user create histograms at different bin sizes. "
   ]
  },
  {
   "cell_type": "code",
   "execution_count": null,
   "id": "2f515c2f-8ea8-4754-a607-74e2ae5db43e",
   "metadata": {},
   "outputs": [],
   "source": []
  },
  {
   "cell_type": "markdown",
   "id": "13a4a543-f1a3-4099-9ded-a969a7b6b962",
   "metadata": {},
   "source": [
    "## Step 2. \n",
    "\n",
    "Apply Kernel Density Estimation (KDE) to convert your histogram into a KDE plot.\n",
    "Practice with alternative bandwidths that contrast impact of using different bandwidths."
   ]
  },
  {
   "cell_type": "code",
   "execution_count": null,
   "id": "f18524b5-7bd9-46eb-8238-09741b6306ce",
   "metadata": {},
   "outputs": [],
   "source": []
  },
  {
   "cell_type": "markdown",
   "id": "4980541f-fb90-4457-94f6-9101514173ae",
   "metadata": {},
   "source": [
    "## Step 3.\n",
    "\n",
    "Create a simple Dashboard that allows the user to choose multiple (minimum three)\n",
    "different KDE plots using a design similar to the one given below.\n",
    "Note that the panel on the leftmost is\n",
    "to enable user to choose different histogram bin sizes/bandwidths.\n",
    "KDE plot should change based on the choices.\n",
    "\n",
    "The picture given below is only for illustration purpose.\n",
    "\n",
    "Depending on your data set(s) the exact look and feel will vary.\n",
    "You can have your own design.\n",
    "In providing bandwidth options,\n",
    "make it obvious that your system suggests bandwidths calculated based on “rule of thumb” discussed in class.\n",
    "\n",
    "There are multiple ways you can indicate which ones are suggested ones based on “rule of thumb”\n",
    "(e.g., annotate bandwidths with “Recommended 1” and “Recommended 2.)."
   ]
  },
  {
   "cell_type": "code",
   "execution_count": null,
   "id": "6ea210ad-5e50-4c61-aab3-e1347f0a7944",
   "metadata": {},
   "outputs": [],
   "source": []
  },
  {
   "cell_type": "markdown",
   "id": "bbbb7b8f-fd94-40a4-8cce-0b8c5015cfdc",
   "metadata": {
    "tags": []
   },
   "source": [
    "## Step 4.\n",
    "\n",
    "By using a Jupyter markdown cell,\n",
    "provide a brief explanation for how to use your visualization tool.\n",
    "It should be brief.\n",
    "\n",
    "This is just to report your design decisions in creating your visualization framework.\n",
    "Ideally a good visualization web app should be so obvious that\n",
    "no instruction for how to use it other than meaningful titles/labels for the components."
   ]
  },
  {
   "cell_type": "code",
   "execution_count": null,
   "id": "77db39bd-6d4f-4850-a25d-52742ebd0ba4",
   "metadata": {},
   "outputs": [],
   "source": []
  },
  {
   "cell_type": "markdown",
   "id": "07d3019b-f18e-4b54-a2bb-f96d1b3a5226",
   "metadata": {},
   "source": [
    "# Part 2: Monte Carlo Method\n",
    "\n",
    "Your goal is to find the approximate area ratio (AR)\n",
    "surrounded by blue, red and green dots using\n",
    "Monte Carlo sampling method.\n",
    "\n",
    "Note that here AR = 120/400 = 0.3 where 120 is inclusive of the\n",
    "surrounding-colored dots\n",
    "(except 5 blue dots external to the triangular area)."
   ]
  },
  {
   "cell_type": "code",
   "execution_count": 3,
   "id": "c6131e0e-ed95-4e02-b173-7715662a16ae",
   "metadata": {},
   "outputs": [],
   "source": [
    "np.random.seed(1634420117)"
   ]
  },
  {
   "cell_type": "markdown",
   "id": "44e00c27-7776-4da5-97de-494712e94ab5",
   "metadata": {},
   "source": [
    "## Step 1.\n",
    "\n",
    "Write a code placing 1000 dots using\n",
    "uniform random distribution for both x and y values\n",
    "within the yellow boxed region that are smaller than\n",
    "the ones appearing on the grid so that you can see\n",
    "where the randomly generated dots land. Dots must\n",
    "appear only on the grid intersection. In this step, you\n",
    "are only showing the placement of dots."
   ]
  },
  {
   "cell_type": "code",
   "execution_count": 4,
   "id": "2a7f307c-9096-44c5-a610-ec50b04dccc5",
   "metadata": {},
   "outputs": [
    {
     "data": {
      "text/plain": [
       "array([0. , 0.5, 1. , 1.5, 2. , 2.5, 3. , 3.5, 4. , 4.5, 5. , 5.5, 6. ,\n",
       "       6.5, 7. , 7.5, 8. , 8.5, 9. , 9.5])"
      ]
     },
     "execution_count": 4,
     "metadata": {},
     "output_type": "execute_result"
    }
   ],
   "source": [
    "# First, we establish a list [0.00, 0.5, 1.0, ..., 9.0, 9.5]\n",
    "grid_marks = np.linspace(0,10,20,endpoint=False)\n",
    "grid_marks"
   ]
  },
  {
   "cell_type": "code",
   "execution_count": 5,
   "id": "b644e712-d4b8-478a-b75d-c36bfb3641c8",
   "metadata": {},
   "outputs": [
    {
     "data": {
      "text/plain": [
       "array([5.5, 9.5, 7.5, 7.5, 2.5, 6. , 8. , 1. , 8. , 5.5])"
      ]
     },
     "execution_count": 5,
     "metadata": {},
     "output_type": "execute_result"
    }
   ],
   "source": [
    "# Now, we write code to randomly sample it\n",
    "\n",
    "get_n_pts = lambda nn: np.random.choice(grid_marks, nn)\n",
    "\n",
    "get_n_pts(10)"
   ]
  },
  {
   "cell_type": "code",
   "execution_count": 22,
   "id": "9b3c261c-245d-4ef7-bc12-8179bd1d74f0",
   "metadata": {},
   "outputs": [
    {
     "name": "stdout",
     "output_type": "stream",
     "text": [
      "(1000, 2)\n",
      "[4.8275 4.6955]\n"
     ]
    }
   ],
   "source": [
    "# Finally, let's get 1000 points\n",
    "\n",
    "get_n_coords = lambda nn: np.stack((get_n_pts(nn), get_n_pts(nn))).T\n",
    "rand_pts_1k = get_n_coords(1000)\n",
    "\n",
    "# We should expect shape (2, 1000)\n",
    "# and mean around 4.74\n",
    "print(rand_pts_1k.shape)\n",
    "print(rand_pts_1k.mean(axis=0))"
   ]
  },
  {
   "cell_type": "code",
   "execution_count": 23,
   "id": "2254785a-8a6d-403c-8f5a-a2979c3b2d85",
   "metadata": {},
   "outputs": [],
   "source": [
    "# grid_marks = [0., .5, 1., 1.5, ..., 9.0, 9.5]\n",
    "# get_n_pts(nn) --> randomly chosen nn values\n",
    "# get_n_coords(nn) --> randomly chosen coords, i.e. (2, nn) pts"
   ]
  },
  {
   "cell_type": "markdown",
   "id": "a66042b4-2ea7-481b-9ae3-5674f44bf3ed",
   "metadata": {},
   "source": [
    "## Step 2. \n",
    "\n",
    "Write a code computing AR.\n",
    "\n",
    "One issue you have to think is how to count multiple dots that can potentially land on the same spot.\n",
    "\n",
    "Should each landing be counted or not for the calculation?"
   ]
  },
  {
   "cell_type": "markdown",
   "id": "6589da63-7b6e-4165-b352-17fbc046766e",
   "metadata": {
    "tags": []
   },
   "source": [
    "> I don't think it actually matters. Each tile has roughly the same likelihood of receiving a \"dot\" placed.\n",
    "> \n",
    "> If we conceptualize this as \"area covered\" (e.g. paint falling on a surface) then we expect to calculate area correctly.\n",
    "> \n",
    "> If we instead conceptualize this as \"volume covered\" (e.g. volume of rainfall falling on a surface) then we still expect to calculate correctly.\n",
    "> \n",
    "> Consider a similar experiment, uniformly generating integers from 0 to 9999, and we want to see what percent are less than 3000. This, we would expect to be 30%. We see that this happens:"
   ]
  },
  {
   "cell_type": "code",
   "execution_count": 26,
   "id": "b221d0c2-ed0b-4296-946c-c42c631219fb",
   "metadata": {},
   "outputs": [
    {
     "name": "stdout",
     "output_type": "stream",
     "text": [
      "Sampling 10^0 points, not double-counting, gives us 0.24\n",
      "Sampling 10^1 points, not double-counting, gives us 0.302\n",
      "Sampling 10^2 points, not double-counting, gives us 0.30151976911976913\n",
      "Sampling 10^3 points, not double-counting, gives us 0.30028246420299054\n",
      "Sampling 10^4 points, not double-counting, gives us 0.2994335157227701\n",
      "Sampling 10^5 points, not double-counting, gives us 0.30000410047005294\n"
     ]
    }
   ],
   "source": [
    "# Example 1: Do not double-count\n",
    "def trial_dont_double_count(nn = 1_000_000):\n",
    "    numbers = np.zeros(10000)\n",
    "    indices = np.random.choice(list(range(10000)), nn)\n",
    "    numbers[indices] = 1\n",
    "    \n",
    "    return np.sum(numbers[:3000]) / np.sum(numbers)\n",
    "\n",
    "def trials_dont_double_count(nn, num=100):\n",
    "    return np.array([trial_dont_double_count(nn) for _ in range(num)]).mean()\n",
    "\n",
    "for xx in range(0,6):\n",
    "    print(f\"Sampling 10^{xx} points, not double-counting, gives us {trials_dont_double_count(nn=int(10**xx))}\")"
   ]
  },
  {
   "cell_type": "code",
   "execution_count": 25,
   "id": "07be2638-5032-4e57-a1c0-7bf43fa43b3a",
   "metadata": {},
   "outputs": [
    {
     "name": "stdout",
     "output_type": "stream",
     "text": [
      "Sampling 10^0 points, not double-counting, gives us 0.25\n",
      "Sampling 10^1 points, not double-counting, gives us 0.30000000000000004\n",
      "Sampling 10^2 points, not double-counting, gives us 0.296\n",
      "Sampling 10^3 points, not double-counting, gives us 0.29864999999999997\n",
      "Sampling 10^4 points, not double-counting, gives us 0.29893\n",
      "Sampling 10^5 points, not double-counting, gives us 0.30006550000000004\n"
     ]
    }
   ],
   "source": [
    "# Example 2: Double-count\n",
    "def trial_double_count(nn = 500_000):\n",
    "    numbers = np.zeros(10000)\n",
    "    indices = np.random.choice(list(range(10000)), nn)\n",
    "    for idx in indices:\n",
    "        numbers[idx] += 1\n",
    "    \n",
    "    return np.sum(numbers[:3000]) / np.sum(numbers)\n",
    "\n",
    "def trials_double_count(nn, num=20):\n",
    "    return np.array([trial_double_count(nn) for _ in range(num)]).mean()\n",
    "\n",
    "for xx in range(0,6):\n",
    "    print(f\"Sampling 10^{xx} points, not double-counting, gives us {trials_double_count(nn=int(10**xx))}\")"
   ]
  },
  {
   "cell_type": "markdown",
   "id": "4d9a8f76-5588-4119-86b3-c6966e58a6ae",
   "metadata": {},
   "source": [
    "> Now we continue, and actually calculate AR."
   ]
  },
  {
   "cell_type": "code",
   "execution_count": 57,
   "id": "28918474-e7d6-43b3-8d21-65ebb9a738ed",
   "metadata": {},
   "outputs": [],
   "source": [
    "def in_AR(coord):\n",
    "    x = coord[0]\n",
    "    y = coord[1]\n",
    "    \n",
    "    if x < 1.0:\n",
    "        return False\n",
    "    if y > 8.0:\n",
    "        return False\n",
    "    if y - x < 0:\n",
    "        return False\n",
    "    \n",
    "    return True\n",
    "\n",
    "\n",
    "total_in_AR_from_coords = lambda CC: np.sum([in_AR(coord) for coord in CC])"
   ]
  },
  {
   "cell_type": "code",
   "execution_count": 61,
   "id": "2b1e0ff0-452d-49c0-b839-69778e9450a8",
   "metadata": {},
   "outputs": [
    {
     "name": "stdout",
     "output_type": "stream",
     "text": [
      "From 10_000 points, we estimate this region is 0.29% of the total area.\n"
     ]
    }
   ],
   "source": [
    "AR_ratio = total_in_AR_from_coords(rand_pts_1k) / len(rand_pts_1k)\n",
    "\n",
    "print(f\"From 10_000 points, we estimate this region is {AR_ratio}% of the total area.\")\n"
   ]
  },
  {
   "cell_type": "markdown",
   "id": "66654e68-d951-4c13-b5a2-5a66d6e55749",
   "metadata": {},
   "source": [
    "## Step 3.\n",
    "\n",
    "Step 3. Repeat Step 2 1000 times to estimate $\\mu$ and $\\sigma$ for ARs. Since printing 1000 $\\mu$'s and $\\sigma$'s is\n",
    "cumbersome, create a histogram for the generated values. Perform KDE and show the histogram\n",
    "and its KDE side by side (Do not use the same seed for each run).\n",
    "\n",
    "> **Note:** I use an initial starting seed for reproducability, but Numpy updates its entropy from this seed with each run. (A 'session seed', if you will.)"
   ]
  },
  {
   "cell_type": "code",
   "execution_count": 89,
   "id": "6652edb3-7285-49fa-b694-5ee2dffdce5c",
   "metadata": {},
   "outputs": [
    {
     "name": "stdout",
     "output_type": "stream",
     "text": [
      "(With mean = 0.29968 and std = 0.01500)\n"
     ]
    },
    {
     "data": {
      "text/plain": [
       "Text(0.5, 0, 'Ratio')"
      ]
     },
     "execution_count": 89,
     "metadata": {},
     "output_type": "execute_result"
    },
    {
     "data": {
      "image/png": "[encoded data removed]",
      "text/plain": [
       "<Figure size 432x288 with 2 Axes>"
      ]
     },
     "metadata": {
      "needs_background": "light"
     },
     "output_type": "display_data"
    }
   ],
   "source": [
    "ratio_values = np.array(\n",
    "    [total_in_AR_from_coords(\n",
    "        get_n_coords(1000)\n",
    "    )/1000 for _ in range(1000)\n",
    "    ]\n",
    ")\n",
    "\n",
    "kde = gaussian_kde(ratio_values)\n",
    "Xs = np.linspace(0.24, 0.36)\n",
    "Ys = kde.evaluate(Xs)\n",
    "\n",
    "\n",
    "fig, axs = plt.subplots(1,2)\n",
    "plt.suptitle(\"Estimating area of rectangle with 1000 pt Monte Carlo simulation\")\n",
    "print(f\"(With mean = {ratio_values.mean():.5f} and std = {ratio_values.std():.5f})\")\n",
    "\n",
    "axs[0].hist(ratio_values)\n",
    "axs[0].set_title(\"Histogram\")\n",
    "axs[0].set_ylabel(\"Amount\")\n",
    "axs[0].set_xlabel(\"Estimated ratio\")\n",
    "\n",
    "axs[1].plot(Xs, Ys)\n",
    "axs[1].set_title(\"Estimated kernel\")\n",
    "axs[1].set_ylabel(\"p(Ratio)\")\n",
    "axs[1].set_xlabel(\"Ratio\")"
   ]
  },
  {
   "cell_type": "markdown",
   "id": "f0e824e4-52f8-4d47-a292-f025d13a129b",
   "metadata": {
    "tags": []
   },
   "source": [
    "## Step 4.\n",
    "\n",
    " Repeat Steps 1 – 3 for 500 dots. "
   ]
  },
  {
   "cell_type": "code",
   "execution_count": 88,
   "id": "cc4bdd16-6d11-4c19-8b15-813adc6788ec",
   "metadata": {},
   "outputs": [
    {
     "name": "stdout",
     "output_type": "stream",
     "text": [
      "(With mean = 0.29987 and std = 0.02066)\n"
     ]
    },
    {
     "data": {
      "text/plain": [
       "Text(0.5, 0, 'Ratio')"
      ]
     },
     "execution_count": 88,
     "metadata": {},
     "output_type": "execute_result"
    },
    {
     "data": {
      "image/png": "[encoded data removed]",
      "text/plain": [
       "<Figure size 432x288 with 2 Axes>"
      ]
     },
     "metadata": {
      "needs_background": "light"
     },
     "output_type": "display_data"
    }
   ],
   "source": [
    "ratio_values = np.array(\n",
    "    [total_in_AR_from_coords(\n",
    "        get_n_coords(500)\n",
    "    )/500 for _ in range(1000)\n",
    "    ]\n",
    ")\n",
    "\n",
    "kde = gaussian_kde(ratio_values)\n",
    "Xs = np.linspace(0.24, 0.36)\n",
    "Ys = kde.evaluate(Xs)\n",
    "\n",
    "\n",
    "fig, axs = plt.subplots(1,2)\n",
    "plt.suptitle(\"Estimating area of rectangle with 1000 pt Monte Carlo simulation\")\n",
    "print(f\"(With mean = {ratio_values.mean():.5f} and std = {ratio_values.std():.5f})\")\n",
    "\n",
    "axs[0].hist(ratio_values)\n",
    "axs[0].set_title(\"Histogram\")\n",
    "axs[0].set_ylabel(\"Amount\")\n",
    "axs[0].set_xlabel(\"Estimated ratio\")\n",
    "\n",
    "axs[1].plot(Xs, Ys)\n",
    "axs[1].set_title(\"Estimated kernel\")\n",
    "axs[1].set_ylabel(\"p(Ratio)\")\n",
    "axs[1].set_xlabel(\"Ratio\")"
   ]
  },
  {
   "cell_type": "markdown",
   "id": "787daf83-6406-498f-9e8d-c3810c02a398",
   "metadata": {},
   "source": [
    "## Step 5.\n",
    "\n",
    "Discuss your finding when you compare the cases of using 500 dots and 1000 dots using\n",
    "a markdown cell. "
   ]
  },
  {
   "cell_type": "markdown",
   "id": "d63101d5-3d37-48fe-8c06-03cff9a6d06b",
   "metadata": {},
   "source": [
    "> I notice that, even though 500 dots per 1000 trials should be plenty, the 500-dot version has a less neat and symmetrical shape. But I am not surprised that the 500 dot version has a larger standard-deviation, since it has half the datapoints in total."
   ]
  },
  {
   "cell_type": "code",
   "execution_count": null,
   "id": "5bce5248-2af6-4a2f-890b-a786c3ce0193",
   "metadata": {},
   "outputs": [],
   "source": []
  }
 ],
 "metadata": {
  "kernelspec": {
   "display_name": "Python 3 (ipykernel)",
   "language": "python",
   "name": "python3"
  },
  "language_info": {
   "codemirror_mode": {
    "name": "ipython",
    "version": 3
   },
   "file_extension": ".py",
   "mimetype": "text/x-python",
   "name": "python",
   "nbconvert_exporter": "python",
   "pygments_lexer": "ipython3",
   "version": "3.9.6"
  }
 },
 "nbformat": 4,
 "nbformat_minor": 5
}
