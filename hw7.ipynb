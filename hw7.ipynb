{
 "cells": [
  {
   "cell_type": "markdown",
   "id": "be53e9be-4de7-46ca-a702-d9e0c40a8d6b",
   "metadata": {},
   "source": [
    "# CSE 5520 Homework 6\n",
    "\n",
    "\"Visualization of GMM and EM\"\n",
    "\n",
    "| | |\n",
    "|-|-|\n",
    "| **Student** | Lynn Pepin ('Tristan Pepin')\n",
    "|              | tmp13009 / 2079724\n",
    "| **Due date** | 2021 / Oct / 31 (Sun), 11:59PM\n",
    "\n",
    "This homework is to help you practice with some data visualization fundamentals.\n",
    "You are expected to use these visualization techniques and others in your final project.\n",
    "You are required to do this exercise in Python.\n",
    "\n",
    "All plots/graphs must have titles and x-y coordinate tick labels. "
   ]
  },
  {
   "cell_type": "code",
   "execution_count": 2,
   "id": "092f3409-7c98-4eb3-a974-7e31aa892a4c",
   "metadata": {},
   "outputs": [],
   "source": [
    "# Common imports from Python standard libraries\n",
    "from dataclasses import dataclass\n",
    "import math\n",
    "\n",
    "# Common imports from\n",
    "import numpy as np\n",
    "import pandas as pd\n",
    "import matplotlib.pyplot as plt\n",
    "from scipy import stats\n",
    "from scipy import cluster\n",
    "from statistics import mean\n",
    "from sklearn.neighbors import KernelDensity\n",
    "from scipy.stats import gaussian_kde\n",
    "\n",
    "# Useful imports for visualization\n",
    "import seaborn\n",
    "\n",
    "# Other packages\n",
    "import networkx as nx\n",
    "import pyvis as pv\n",
    "\n",
    "# Used for Part 1\n",
    "import dash\n",
    "from dash import dcc\n",
    "from dash import html\n",
    "from dash.dependencies import Input, Output\n",
    "import plotly.express as px\n",
    "import plotly.graph_objects as go\n",
    "\n",
    "# Constants\n",
    "EPS = 0.0000001\n",
    "FINAL = True\n",
    "\n",
    "# Some useful functions\n",
    "def almost_equal(a,b,eps=EPS):\n",
    "    return abs(a-b) <= eps\n",
    "\n",
    "# Code provided from HW4\n",
    "def stdev(X):\n",
    "    m = mean(X)\n",
    "    return math.sqrt(sum((x-m)**2 for x in X) / len(X))\n",
    "\n",
    "def degreesOfFreedom(X, Y):\n",
    "    s1 = (stdev(X)**2)\n",
    "    s2 = (stdev(Y)**2)\n",
    "    df = (s1 / len(X) + s2 / len(Y))**2 / ((s1 / len(X))**2 / (len(X) - 1) + (s2 / len(Y))**2 /\n",
    "(len(Y) - 1))\n",
    "    return(df)"
   ]
  },
  {
   "cell_type": "markdown",
   "id": "c7d4ad15-6984-4057-a468-cc158d3a49e5",
   "metadata": {
    "tags": []
   },
   "source": [
    "# Part 1: K-means and GMM\n",
    "\n",
    "You need to use your own data to do the problems and you can include your solution or its extended version as part of your proposal/final presentation.\n"
   ]
  },
  {
   "cell_type": "markdown",
   "id": "c81164df-c29d-4c7c-afc8-b04f12bf5268",
   "metadata": {},
   "source": [
    "## Step 1.\n",
    "\n",
    "Prepare a 2D data from your project and plot it, i.e. as a scatter plot.\n",
    "\n",
    "You can visually inspect and determine k, the number of clusters."
   ]
  },
  {
   "cell_type": "code",
   "execution_count": null,
   "id": "bad29f7f-7703-4d21-81de-657e9f71ad1f",
   "metadata": {},
   "outputs": [],
   "source": []
  },
  {
   "cell_type": "markdown",
   "id": "f0bc119b-567b-451e-a808-04ae7ef013a9",
   "metadata": {
    "tags": []
   },
   "source": [
    "## Step 2.\n",
    "\n",
    "With your chosen $k$, perform the k-means clustering on your data.\n",
    "Plot clustering result so that each color has different color,\n",
    "for example, cluster 1 in red, cluster 2 in blue, etc.\n",
    "\n",
    "You can plot with different $k$ to find a better number of clusters.\n",
    "\n",
    "**(Extra credit):** You can use silhouette method or elbow method to find the optimum k.\n"
   ]
  },
  {
   "cell_type": "code",
   "execution_count": null,
   "id": "24cc9caf-4ac6-43ad-b526-3a9f5cd9bba9",
   "metadata": {},
   "outputs": [],
   "source": []
  },
  {
   "cell_type": "markdown",
   "id": "bb0dd817-2ffd-4a8b-96c9-2baea74e87ef",
   "metadata": {
    "tags": []
   },
   "source": [
    "## Step 3.\n",
    "\n",
    "Calculate the centroid (mean of x axis, mean of y axis) of each cluster\n",
    "and radii that covers 90 % of data of the cluster. "
   ]
  },
  {
   "cell_type": "code",
   "execution_count": null,
   "id": "49f84e79-c523-441c-8880-d031edd42d7d",
   "metadata": {},
   "outputs": [],
   "source": []
  },
  {
   "cell_type": "markdown",
   "id": "fc1df6ba-653e-43dc-a1c5-240e26fb85d7",
   "metadata": {
    "tags": []
   },
   "source": [
    "## Step 4.\n",
    "\n",
    "Plot the circles centered at the centroid with radius calculated in Step 3\n",
    "on top of the plot created from Step 2.\n",
    "Mark the centroid with ‘X’."
   ]
  },
  {
   "cell_type": "code",
   "execution_count": null,
   "id": "a75aef7f-5ac4-4c2e-8472-b52d0d5fe7cf",
   "metadata": {},
   "outputs": [],
   "source": []
  },
  {
   "cell_type": "markdown",
   "id": "d3f7626a-011b-43b0-b879-569134520d13",
   "metadata": {
    "tags": []
   },
   "source": [
    "## Step 5.\n",
    "\n",
    "In a markdown cell, discuss the goodness of your chosen $k$,\n",
    "i.e., if you think what you have is the best or close to the best."
   ]
  },
  {
   "cell_type": "code",
   "execution_count": null,
   "id": "9700f001-eaef-43b2-a7e7-3441efa939f8",
   "metadata": {},
   "outputs": [],
   "source": []
  },
  {
   "cell_type": "markdown",
   "id": "97294821-6108-46d2-ae98-13a89feaa4d7",
   "metadata": {
    "tags": []
   },
   "source": [
    "## Step 6.\n",
    "\n",
    "Repeat steps 2 ~ 5, using GMM with the EM clustering method.\n",
    "In this case, calculate covariance matrix for each cluster instead of radius.\n",
    "Show the values."
   ]
  },
  {
   "cell_type": "code",
   "execution_count": null,
   "id": "de50f864-c636-42c1-9c65-aae335384a1f",
   "metadata": {},
   "outputs": [],
   "source": []
  },
  {
   "cell_type": "markdown",
   "id": "62ecb551-06b2-4aaf-bfef-70ca0e2a2e1e",
   "metadata": {
    "tags": []
   },
   "source": [
    "## Step 7.\n",
    "\n",
    "Using a markdown cell, compare the outcomes from Step 6 with Step 4\n",
    "and discuss which clustering method is better for your data."
   ]
  },
  {
   "cell_type": "code",
   "execution_count": null,
   "id": "39273725-29aa-456d-8910-74d15b3c146e",
   "metadata": {},
   "outputs": [],
   "source": []
  },
  {
   "cell_type": "markdown",
   "id": "9d20af36-490d-4116-be8d-208c199d0a06",
   "metadata": {
    "tags": []
   },
   "source": [
    "## Step 8 (Extra credit)\n",
    "\n",
    "Plot 2D Gaussian curve calculated in Step 6\n",
    "as shown in the 2D GMM with EM examples in the lecture slides."
   ]
  },
  {
   "cell_type": "code",
   "execution_count": null,
   "id": "7441c777-c5a6-4887-bb87-f12c84bfe9fe",
   "metadata": {},
   "outputs": [],
   "source": []
  },
  {
   "cell_type": "markdown",
   "id": "a0bcbd05-6852-47cc-9bb2-ea39e737fd0e",
   "metadata": {
    "tags": []
   },
   "source": [
    "# Part 2: K-means and GMM\n",
    "\n",
    "This part is to continuously help you do the term project\n",
    "by making you include visualization of k-means and GMM clustering methods in your Dashboard. "
   ]
  },
  {
   "cell_type": "markdown",
   "id": "201dcbea-d9e1-47cf-b07a-5469e6b1c9d7",
   "metadata": {},
   "source": [
    "# Step 1.\n",
    "\n",
    "Publish the visualizations you have done in Part 1 to your Dashboard “privately” for now."
   ]
  },
  {
   "cell_type": "code",
   "execution_count": null,
   "id": "0cfcc3b7-e1b3-4005-b40d-9b3c42003c0b",
   "metadata": {},
   "outputs": [],
   "source": []
  },
  {
   "cell_type": "markdown",
   "id": "ee474800-5fdd-40db-aec3-1d061d19ee0e",
   "metadata": {},
   "source": [
    "## Step 2.\n",
    "\n",
    "Take a screenshot (screen clip) of your Dashboard and include it in a markdown cell\n",
    "so that you succeeded in publishing your Part I plots in your Dashboard publication.\n",
    "\n",
    "The URL should demonstrate that you can publish your Dashboard on the public VM.\n",
    "\n",
    "You should kill your publication after you are done with the screenshot\n",
    "since you do not make your Dashboard public yet.\n",
    "\n",
    "You are only showing that you can publish Dashboard on a third party machine."
   ]
  },
  {
   "cell_type": "code",
   "execution_count": null,
   "id": "4241782d-1dec-4211-a9fb-b75151062ad4",
   "metadata": {},
   "outputs": [],
   "source": []
  }
 ],
 "metadata": {
  "kernelspec": {
   "display_name": "Python 3 (ipykernel)",
   "language": "python",
   "name": "python3"
  },
  "language_info": {
   "codemirror_mode": {
    "name": "ipython",
    "version": 3
   },
   "file_extension": ".py",
   "mimetype": "text/x-python",
   "name": "python",
   "nbconvert_exporter": "python",
   "pygments_lexer": "ipython3",
   "version": "3.9.6"
  }
 },
 "nbformat": 4,
 "nbformat_minor": 5
}
