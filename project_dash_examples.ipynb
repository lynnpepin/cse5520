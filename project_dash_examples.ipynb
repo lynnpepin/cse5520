{
 "cells": [
  {
   "cell_type": "markdown",
   "id": "922dde29-adbe-4e9d-859a-97664918ab60",
   "metadata": {},
   "source": [
    "# Beginning Project Dashboard\n",
    "\n",
    "Oh boy here goes a bunch of stuff"
   ]
  },
  {
   "cell_type": "code",
   "execution_count": 1,
   "id": "0644d105-ab24-4f90-9e45-5b653009cb24",
   "metadata": {},
   "outputs": [],
   "source": [
    "# Common imports from Python standard libraries\n",
    "from dataclasses import dataclass\n",
    "import math\n",
    "\n",
    "# Common imports from\n",
    "import numpy as np\n",
    "import pandas as pd\n",
    "import matplotlib.pyplot as plt\n",
    "from matplotlib import colors\n",
    "from scipy import stats\n",
    "from scipy import cluster\n",
    "from statistics import mean\n",
    "from sklearn.neighbors import KernelDensity\n",
    "import sklearn.metrics\n",
    "from scipy.stats import gaussian_kde\n",
    "import time\n",
    "import datetime as dt\n",
    "import dateutil as du\n",
    "\n",
    "# Useful imports for visualization\n",
    "import seaborn\n",
    "\n",
    "# Other packages\n",
    "import networkx as nx\n",
    "import pyvis as pv\n",
    "\n",
    "# Used for Part 1\n",
    "import dash\n",
    "from dash import dcc\n",
    "from dash import html\n",
    "from dash.dependencies import Input, Output\n",
    "import plotly.express as px\n",
    "import plotly.graph_objects as go\n",
    "\n",
    "# Constants\n",
    "EPS = 0.0000001\n",
    "FINAL = False\n",
    "\n",
    "# Some useful functions\n",
    "def almost_equal(a,b,eps=EPS):\n",
    "    return abs(a-b) <= eps\n",
    "\n",
    "# Code provided from HW4\n",
    "def stdev(X):\n",
    "    m = mean(X)\n",
    "    return math.sqrt(sum((x-m)**2 for x in X) / len(X))\n",
    "\n",
    "def degreesOfFreedom(X, Y):\n",
    "    s1 = (stdev(X)**2)\n",
    "    s2 = (stdev(Y)**2)\n",
    "    df = (s1 / len(X) + s2 / len(Y))**2 / ((s1 / len(X))**2 / (len(X) - 1) + (s2 / len(Y))**2 /\n",
    "(len(Y) - 1))\n",
    "    return(df)"
   ]
  },
  {
   "cell_type": "code",
   "execution_count": 2,
   "id": "7976ae9b-d84d-4c64-90aa-2f71a63e21ab",
   "metadata": {},
   "outputs": [],
   "source": [
    "df = pd.read_csv(\"../DATASETS/US_Accidents_Dec20_updated.csv\")"
   ]
  },
  {
   "cell_type": "code",
   "execution_count": 3,
   "id": "51ce0919-ef92-4de4-9f32-b1ae7bc3d95f",
   "metadata": {},
   "outputs": [
    {
     "data": {
      "text/html": [
       "<div>\n",
       "<style scoped>\n",
       "    .dataframe tbody tr th:only-of-type {\n",
       "        vertical-align: middle;\n",
       "    }\n",
       "\n",
       "    .dataframe tbody tr th {\n",
       "        vertical-align: top;\n",
       "    }\n",
       "\n",
       "    .dataframe thead th {\n",
       "        text-align: right;\n",
       "    }\n",
       "</style>\n",
       "<table border=\"1\" class=\"dataframe\">\n",
       "  <thead>\n",
       "    <tr style=\"text-align: right;\">\n",
       "      <th></th>\n",
       "      <th>ID</th>\n",
       "      <th>Severity</th>\n",
       "      <th>Start_Time</th>\n",
       "      <th>End_Time</th>\n",
       "      <th>Start_Lat</th>\n",
       "      <th>Start_Lng</th>\n",
       "      <th>End_Lat</th>\n",
       "      <th>End_Lng</th>\n",
       "      <th>Distance(mi)</th>\n",
       "      <th>Description</th>\n",
       "      <th>...</th>\n",
       "      <th>Roundabout</th>\n",
       "      <th>Station</th>\n",
       "      <th>Stop</th>\n",
       "      <th>Traffic_Calming</th>\n",
       "      <th>Traffic_Signal</th>\n",
       "      <th>Turning_Loop</th>\n",
       "      <th>Sunrise_Sunset</th>\n",
       "      <th>Civil_Twilight</th>\n",
       "      <th>Nautical_Twilight</th>\n",
       "      <th>Astronomical_Twilight</th>\n",
       "    </tr>\n",
       "  </thead>\n",
       "  <tbody>\n",
       "    <tr>\n",
       "      <th>0</th>\n",
       "      <td>A-2716600</td>\n",
       "      <td>3</td>\n",
       "      <td>2016-02-08 00:37:08</td>\n",
       "      <td>2016-02-08 06:37:08</td>\n",
       "      <td>40.10891</td>\n",
       "      <td>-83.09286</td>\n",
       "      <td>40.11206</td>\n",
       "      <td>-83.03187</td>\n",
       "      <td>3.230</td>\n",
       "      <td>Between Sawmill Rd/Exit 20 and OH-315/Olentang...</td>\n",
       "      <td>...</td>\n",
       "      <td>False</td>\n",
       "      <td>False</td>\n",
       "      <td>False</td>\n",
       "      <td>False</td>\n",
       "      <td>False</td>\n",
       "      <td>False</td>\n",
       "      <td>Night</td>\n",
       "      <td>Night</td>\n",
       "      <td>Night</td>\n",
       "      <td>Night</td>\n",
       "    </tr>\n",
       "    <tr>\n",
       "      <th>1</th>\n",
       "      <td>A-2716601</td>\n",
       "      <td>2</td>\n",
       "      <td>2016-02-08 05:56:20</td>\n",
       "      <td>2016-02-08 11:56:20</td>\n",
       "      <td>39.86542</td>\n",
       "      <td>-84.06280</td>\n",
       "      <td>39.86501</td>\n",
       "      <td>-84.04873</td>\n",
       "      <td>0.747</td>\n",
       "      <td>At OH-4/OH-235/Exit 41 - Accident.</td>\n",
       "      <td>...</td>\n",
       "      <td>False</td>\n",
       "      <td>False</td>\n",
       "      <td>False</td>\n",
       "      <td>False</td>\n",
       "      <td>False</td>\n",
       "      <td>False</td>\n",
       "      <td>Night</td>\n",
       "      <td>Night</td>\n",
       "      <td>Night</td>\n",
       "      <td>Night</td>\n",
       "    </tr>\n",
       "    <tr>\n",
       "      <th>2</th>\n",
       "      <td>A-2716602</td>\n",
       "      <td>2</td>\n",
       "      <td>2016-02-08 06:15:39</td>\n",
       "      <td>2016-02-08 12:15:39</td>\n",
       "      <td>39.10266</td>\n",
       "      <td>-84.52468</td>\n",
       "      <td>39.10209</td>\n",
       "      <td>-84.52396</td>\n",
       "      <td>0.055</td>\n",
       "      <td>At I-71/US-50/Exit 1 - Accident.</td>\n",
       "      <td>...</td>\n",
       "      <td>False</td>\n",
       "      <td>False</td>\n",
       "      <td>False</td>\n",
       "      <td>False</td>\n",
       "      <td>False</td>\n",
       "      <td>False</td>\n",
       "      <td>Night</td>\n",
       "      <td>Night</td>\n",
       "      <td>Night</td>\n",
       "      <td>Day</td>\n",
       "    </tr>\n",
       "    <tr>\n",
       "      <th>3</th>\n",
       "      <td>A-2716603</td>\n",
       "      <td>2</td>\n",
       "      <td>2016-02-08 06:15:39</td>\n",
       "      <td>2016-02-08 12:15:39</td>\n",
       "      <td>39.10148</td>\n",
       "      <td>-84.52341</td>\n",
       "      <td>39.09841</td>\n",
       "      <td>-84.52241</td>\n",
       "      <td>0.219</td>\n",
       "      <td>At I-71/US-50/Exit 1 - Accident.</td>\n",
       "      <td>...</td>\n",
       "      <td>False</td>\n",
       "      <td>False</td>\n",
       "      <td>False</td>\n",
       "      <td>False</td>\n",
       "      <td>False</td>\n",
       "      <td>False</td>\n",
       "      <td>Night</td>\n",
       "      <td>Night</td>\n",
       "      <td>Night</td>\n",
       "      <td>Day</td>\n",
       "    </tr>\n",
       "    <tr>\n",
       "      <th>4</th>\n",
       "      <td>A-2716604</td>\n",
       "      <td>2</td>\n",
       "      <td>2016-02-08 06:51:45</td>\n",
       "      <td>2016-02-08 12:51:45</td>\n",
       "      <td>41.06213</td>\n",
       "      <td>-81.53784</td>\n",
       "      <td>41.06217</td>\n",
       "      <td>-81.53547</td>\n",
       "      <td>0.123</td>\n",
       "      <td>At Dart Ave/Exit 21 - Accident.</td>\n",
       "      <td>...</td>\n",
       "      <td>False</td>\n",
       "      <td>False</td>\n",
       "      <td>False</td>\n",
       "      <td>False</td>\n",
       "      <td>False</td>\n",
       "      <td>False</td>\n",
       "      <td>Night</td>\n",
       "      <td>Night</td>\n",
       "      <td>Day</td>\n",
       "      <td>Day</td>\n",
       "    </tr>\n",
       "    <tr>\n",
       "      <th>...</th>\n",
       "      <td>...</td>\n",
       "      <td>...</td>\n",
       "      <td>...</td>\n",
       "      <td>...</td>\n",
       "      <td>...</td>\n",
       "      <td>...</td>\n",
       "      <td>...</td>\n",
       "      <td>...</td>\n",
       "      <td>...</td>\n",
       "      <td>...</td>\n",
       "      <td>...</td>\n",
       "      <td>...</td>\n",
       "      <td>...</td>\n",
       "      <td>...</td>\n",
       "      <td>...</td>\n",
       "      <td>...</td>\n",
       "      <td>...</td>\n",
       "      <td>...</td>\n",
       "      <td>...</td>\n",
       "      <td>...</td>\n",
       "      <td>...</td>\n",
       "    </tr>\n",
       "    <tr>\n",
       "      <th>1516059</th>\n",
       "      <td>A-4239402</td>\n",
       "      <td>2</td>\n",
       "      <td>2019-08-23 18:03:25</td>\n",
       "      <td>2019-08-23 18:32:01</td>\n",
       "      <td>34.00248</td>\n",
       "      <td>-117.37936</td>\n",
       "      <td>33.99888</td>\n",
       "      <td>-117.37094</td>\n",
       "      <td>0.543</td>\n",
       "      <td>At Market St - Accident.</td>\n",
       "      <td>...</td>\n",
       "      <td>False</td>\n",
       "      <td>False</td>\n",
       "      <td>False</td>\n",
       "      <td>False</td>\n",
       "      <td>False</td>\n",
       "      <td>False</td>\n",
       "      <td>Day</td>\n",
       "      <td>Day</td>\n",
       "      <td>Day</td>\n",
       "      <td>Day</td>\n",
       "    </tr>\n",
       "    <tr>\n",
       "      <th>1516060</th>\n",
       "      <td>A-4239403</td>\n",
       "      <td>2</td>\n",
       "      <td>2019-08-23 19:11:30</td>\n",
       "      <td>2019-08-23 19:38:23</td>\n",
       "      <td>32.76696</td>\n",
       "      <td>-117.14806</td>\n",
       "      <td>32.76555</td>\n",
       "      <td>-117.15363</td>\n",
       "      <td>0.338</td>\n",
       "      <td>At Camino Del Rio/Mission Center Rd - Accident.</td>\n",
       "      <td>...</td>\n",
       "      <td>False</td>\n",
       "      <td>False</td>\n",
       "      <td>False</td>\n",
       "      <td>False</td>\n",
       "      <td>False</td>\n",
       "      <td>False</td>\n",
       "      <td>Day</td>\n",
       "      <td>Day</td>\n",
       "      <td>Day</td>\n",
       "      <td>Day</td>\n",
       "    </tr>\n",
       "    <tr>\n",
       "      <th>1516061</th>\n",
       "      <td>A-4239404</td>\n",
       "      <td>2</td>\n",
       "      <td>2019-08-23 19:00:21</td>\n",
       "      <td>2019-08-23 19:28:49</td>\n",
       "      <td>33.77545</td>\n",
       "      <td>-117.84779</td>\n",
       "      <td>33.77740</td>\n",
       "      <td>-117.85727</td>\n",
       "      <td>0.561</td>\n",
       "      <td>At Glassell St/Grand Ave - Accident. in the ri...</td>\n",
       "      <td>...</td>\n",
       "      <td>False</td>\n",
       "      <td>False</td>\n",
       "      <td>False</td>\n",
       "      <td>False</td>\n",
       "      <td>False</td>\n",
       "      <td>False</td>\n",
       "      <td>Day</td>\n",
       "      <td>Day</td>\n",
       "      <td>Day</td>\n",
       "      <td>Day</td>\n",
       "    </tr>\n",
       "    <tr>\n",
       "      <th>1516062</th>\n",
       "      <td>A-4239405</td>\n",
       "      <td>2</td>\n",
       "      <td>2019-08-23 19:00:21</td>\n",
       "      <td>2019-08-23 19:29:42</td>\n",
       "      <td>33.99246</td>\n",
       "      <td>-118.40302</td>\n",
       "      <td>33.98311</td>\n",
       "      <td>-118.39565</td>\n",
       "      <td>0.772</td>\n",
       "      <td>At CA-90/Marina Fwy/Jefferson Blvd - Accident.</td>\n",
       "      <td>...</td>\n",
       "      <td>False</td>\n",
       "      <td>False</td>\n",
       "      <td>False</td>\n",
       "      <td>False</td>\n",
       "      <td>False</td>\n",
       "      <td>False</td>\n",
       "      <td>Day</td>\n",
       "      <td>Day</td>\n",
       "      <td>Day</td>\n",
       "      <td>Day</td>\n",
       "    </tr>\n",
       "    <tr>\n",
       "      <th>1516063</th>\n",
       "      <td>A-4239406</td>\n",
       "      <td>2</td>\n",
       "      <td>2019-08-23 18:52:06</td>\n",
       "      <td>2019-08-23 19:21:31</td>\n",
       "      <td>34.13393</td>\n",
       "      <td>-117.23092</td>\n",
       "      <td>34.13736</td>\n",
       "      <td>-117.23934</td>\n",
       "      <td>0.537</td>\n",
       "      <td>At Highland Ave/Arden Ave - Accident.</td>\n",
       "      <td>...</td>\n",
       "      <td>False</td>\n",
       "      <td>False</td>\n",
       "      <td>False</td>\n",
       "      <td>False</td>\n",
       "      <td>False</td>\n",
       "      <td>False</td>\n",
       "      <td>Day</td>\n",
       "      <td>Day</td>\n",
       "      <td>Day</td>\n",
       "      <td>Day</td>\n",
       "    </tr>\n",
       "  </tbody>\n",
       "</table>\n",
       "<p>1516064 rows × 47 columns</p>\n",
       "</div>"
      ],
      "text/plain": [
       "                ID  Severity           Start_Time             End_Time  \\\n",
       "0        A-2716600         3  2016-02-08 00:37:08  2016-02-08 06:37:08   \n",
       "1        A-2716601         2  2016-02-08 05:56:20  2016-02-08 11:56:20   \n",
       "2        A-2716602         2  2016-02-08 06:15:39  2016-02-08 12:15:39   \n",
       "3        A-2716603         2  2016-02-08 06:15:39  2016-02-08 12:15:39   \n",
       "4        A-2716604         2  2016-02-08 06:51:45  2016-02-08 12:51:45   \n",
       "...            ...       ...                  ...                  ...   \n",
       "1516059  A-4239402         2  2019-08-23 18:03:25  2019-08-23 18:32:01   \n",
       "1516060  A-4239403         2  2019-08-23 19:11:30  2019-08-23 19:38:23   \n",
       "1516061  A-4239404         2  2019-08-23 19:00:21  2019-08-23 19:28:49   \n",
       "1516062  A-4239405         2  2019-08-23 19:00:21  2019-08-23 19:29:42   \n",
       "1516063  A-4239406         2  2019-08-23 18:52:06  2019-08-23 19:21:31   \n",
       "\n",
       "         Start_Lat  Start_Lng   End_Lat    End_Lng  Distance(mi)  \\\n",
       "0         40.10891  -83.09286  40.11206  -83.03187         3.230   \n",
       "1         39.86542  -84.06280  39.86501  -84.04873         0.747   \n",
       "2         39.10266  -84.52468  39.10209  -84.52396         0.055   \n",
       "3         39.10148  -84.52341  39.09841  -84.52241         0.219   \n",
       "4         41.06213  -81.53784  41.06217  -81.53547         0.123   \n",
       "...            ...        ...       ...        ...           ...   \n",
       "1516059   34.00248 -117.37936  33.99888 -117.37094         0.543   \n",
       "1516060   32.76696 -117.14806  32.76555 -117.15363         0.338   \n",
       "1516061   33.77545 -117.84779  33.77740 -117.85727         0.561   \n",
       "1516062   33.99246 -118.40302  33.98311 -118.39565         0.772   \n",
       "1516063   34.13393 -117.23092  34.13736 -117.23934         0.537   \n",
       "\n",
       "                                               Description  ...  Roundabout  \\\n",
       "0        Between Sawmill Rd/Exit 20 and OH-315/Olentang...  ...       False   \n",
       "1                       At OH-4/OH-235/Exit 41 - Accident.  ...       False   \n",
       "2                         At I-71/US-50/Exit 1 - Accident.  ...       False   \n",
       "3                         At I-71/US-50/Exit 1 - Accident.  ...       False   \n",
       "4                          At Dart Ave/Exit 21 - Accident.  ...       False   \n",
       "...                                                    ...  ...         ...   \n",
       "1516059                           At Market St - Accident.  ...       False   \n",
       "1516060    At Camino Del Rio/Mission Center Rd - Accident.  ...       False   \n",
       "1516061  At Glassell St/Grand Ave - Accident. in the ri...  ...       False   \n",
       "1516062     At CA-90/Marina Fwy/Jefferson Blvd - Accident.  ...       False   \n",
       "1516063              At Highland Ave/Arden Ave - Accident.  ...       False   \n",
       "\n",
       "        Station   Stop Traffic_Calming Traffic_Signal Turning_Loop  \\\n",
       "0         False  False           False          False        False   \n",
       "1         False  False           False          False        False   \n",
       "2         False  False           False          False        False   \n",
       "3         False  False           False          False        False   \n",
       "4         False  False           False          False        False   \n",
       "...         ...    ...             ...            ...          ...   \n",
       "1516059   False  False           False          False        False   \n",
       "1516060   False  False           False          False        False   \n",
       "1516061   False  False           False          False        False   \n",
       "1516062   False  False           False          False        False   \n",
       "1516063   False  False           False          False        False   \n",
       "\n",
       "        Sunrise_Sunset Civil_Twilight Nautical_Twilight Astronomical_Twilight  \n",
       "0                Night          Night             Night                 Night  \n",
       "1                Night          Night             Night                 Night  \n",
       "2                Night          Night             Night                   Day  \n",
       "3                Night          Night             Night                   Day  \n",
       "4                Night          Night               Day                   Day  \n",
       "...                ...            ...               ...                   ...  \n",
       "1516059            Day            Day               Day                   Day  \n",
       "1516060            Day            Day               Day                   Day  \n",
       "1516061            Day            Day               Day                   Day  \n",
       "1516062            Day            Day               Day                   Day  \n",
       "1516063            Day            Day               Day                   Day  \n",
       "\n",
       "[1516064 rows x 47 columns]"
      ]
     },
     "execution_count": 3,
     "metadata": {},
     "output_type": "execute_result"
    }
   ],
   "source": []
  },
  {
   "cell_type": "code",
   "execution_count": 4,
   "id": "880a1892-3ab8-45e6-bbe3-87b39dc41b4a",
   "metadata": {},
   "outputs": [
    {
     "data": {
      "text/plain": [
       "Index(['ID', 'Severity', 'Start_Time', 'End_Time', 'Start_Lat', 'Start_Lng',\n",
       "       'End_Lat', 'End_Lng', 'Distance(mi)', 'Description', 'Number', 'Street',\n",
       "       'Side', 'City', 'County', 'State', 'Zipcode', 'Country', 'Timezone',\n",
       "       'Airport_Code', 'Weather_Timestamp', 'Temperature(F)', 'Wind_Chill(F)',\n",
       "       'Humidity(%)', 'Pressure(in)', 'Visibility(mi)', 'Wind_Direction',\n",
       "       'Wind_Speed(mph)', 'Precipitation(in)', 'Weather_Condition', 'Amenity',\n",
       "       'Bump', 'Crossing', 'Give_Way', 'Junction', 'No_Exit', 'Railway',\n",
       "       'Roundabout', 'Station', 'Stop', 'Traffic_Calming', 'Traffic_Signal',\n",
       "       'Turning_Loop', 'Sunrise_Sunset', 'Civil_Twilight', 'Nautical_Twilight',\n",
       "       'Astronomical_Twilight'],\n",
       "      dtype='object')"
      ]
     },
     "execution_count": 4,
     "metadata": {},
     "output_type": "execute_result"
    }
   ],
   "source": [
    "df.keys()"
   ]
  },
  {
   "cell_type": "markdown",
   "id": "5937b994-f431-4422-a470-7fd17bcb2a62",
   "metadata": {},
   "source": [
    "# 1. Data preparation\n",
    "\n",
    "We want to be able to index this list by the following:\n",
    "\n",
    "1. Year (2016, 2017, 2018, 2019, 2020)\n",
    "2. Month (1, 2, ..., 3)\n",
    "3. Day (1, 2, ..., 31)\n",
    "4. Weekdays (Sun, Mon, Tue, Wed, Thur, Fri, Sat)\n",
    "5. State (per coordinates)\n",
    "\n",
    "To do this, we'll have **dictionaries** pointing to **indices**, i.e. `dict` mapping `str` or `int` to `numpy.array` with dtype int. As a concrete example, we might have `year_indices[2016] = [0, 1, 2, 3, 4, ...]`, `state_indices['ct'] = [10001, 14323, ...]`, etc.\n",
    "\n",
    "We'll then index, e.g. as `df.loc[state_indices['ct']]`"
   ]
  },
  {
   "cell_type": "code",
   "execution_count": 42,
   "id": "2eb4bb35-2d2d-444e-a386-f7b1e244d8a2",
   "metadata": {},
   "outputs": [],
   "source": [
    "start_times = list(df['Start_Time'])\n"
   ]
  },
  {
   "cell_type": "code",
   "execution_count": 46,
   "id": "1ee27258-aee0-4578-84a4-d2ba3c3a63aa",
   "metadata": {},
   "outputs": [
    {
     "name": "stdout",
     "output_type": "stream",
     "text": [
      "0\n",
      "100000\n",
      "200000\n",
      "300000\n",
      "400000\n",
      "500000\n",
      "600000\n",
      "700000\n",
      "800000\n",
      "900000\n",
      "1000000\n",
      "1100000\n",
      "1200000\n",
      "1300000\n",
      "1400000\n",
      "1500000\n"
     ]
    }
   ],
   "source": [
    "# E.g. Let's see how many accidents per minute of the date\n",
    "\n",
    "times = np.zeros(1440)\n",
    "\n",
    "for ii in range(len(start_times)):\n",
    "    if ii % 100000 == 0:\n",
    "        print(ii)\n",
    "    try:\n",
    "        # interpret with datetime\n",
    "        at = du.parser.parse(start_times[ii])\n",
    "        # get integer of time\n",
    "        minute_index = at.hour*60 + at.minute\n",
    "        times[minute_index] += 1\n",
    "    except:\n",
    "        print(f\"Error, could not interpret at index {ii} time: \\\"{st}\\\"\")\n",
    "    "
   ]
  },
  {
   "cell_type": "code",
   "execution_count": 50,
   "id": "634a7292-1a55-4846-a540-2b4ed6037bdd",
   "metadata": {},
   "outputs": [],
   "source": [
    "saved_times = times"
   ]
  },
  {
   "cell_type": "code",
   "execution_count": 54,
   "id": "752d02c1-c163-42b2-a70b-9560e8d24699",
   "metadata": {},
   "outputs": [],
   "source": [
    "np.save(\"crashes_summed_over_minutes.npy\", saved_times)"
   ]
  },
  {
   "cell_type": "code",
   "execution_count": 52,
   "id": "38277962-4cf5-4815-80e4-750163bdaac2",
   "metadata": {},
   "outputs": [
    {
     "data": {
      "text/plain": [
       "Text(0.5, 0, 'Minute of a day')"
      ]
     },
     "execution_count": 52,
     "metadata": {},
     "output_type": "execute_result"
    },
    {
     "data": {
      "image/png": "[encoded data removed]",
      "text/plain": [
       "<Figure size 432x288 with 1 Axes>"
      ]
     },
     "metadata": {
      "needs_background": "light"
     },
     "output_type": "display_data"
    }
   ],
   "source": [
    "plt.plot(range(1440), times * 60 / 1300)\n",
    "plt.title(\"Accidents per hour over the course of a day (average)\")\n",
    "plt.ylabel(\"Accidents per hour in the US\")\n",
    "plt.xlabel(\"Minute of a day\")\n",
    "\n",
    "# 1300 days"
   ]
  },
  {
   "cell_type": "code",
   "execution_count": 63,
   "id": "54f8f201-13cf-4444-ae3b-e35f9e3a9b06",
   "metadata": {},
   "outputs": [
    {
     "data": {
      "text/plain": [
       "KernelDensity()"
      ]
     },
     "execution_count": 63,
     "metadata": {},
     "output_type": "execute_result"
    }
   ],
   "source": [
    "kde = KernelDensity(bandwidth = 1.0, kernel = 'gaussian')\n",
    "kde.fit(times.reshape(-1,1))"
   ]
  },
  {
   "cell_type": "code",
   "execution_count": 108,
   "id": "d82081d7-9cd2-4b2b-b56e-56075efc9b6e",
   "metadata": {},
   "outputs": [
    {
     "data": {
      "text/plain": [
       "dict_keys([10, 60, 120])"
      ]
     },
     "execution_count": 108,
     "metadata": {},
     "output_type": "execute_result"
    }
   ],
   "source": [
    "bandwidths = [10, 60, 120]\n",
    "Xs = range(1440)\n",
    "\n",
    "#data = np.concatenate((times, times, times)).reshape(-1,1)\n",
    "data = times.reshape(-1,1)\n",
    "\n",
    "def get_Ys(bandwidth = 1.0, data = data, Xs=Xs):\n",
    "    kde = KernelDensity(bandwidth = bandwidth, kernel = 'gaussian')\n",
    "    kde.fit(data)\n",
    "    return np.exp([kde.score([[xx]]) for xx in Xs])\n",
    "    #return np.array([kde.score([[xx]]) for xx in Xs])\n",
    "\n",
    "\n",
    "all_Ys = {bandwidth : get_Ys(bandwidth, times.reshape(-1,1)) for bandwidth in bandwidths}\n",
    "\n",
    "all_Ys.keys()"
   ]
  },
  {
   "cell_type": "code",
   "execution_count": 109,
   "id": "fb59c625-663e-4cdd-8fa1-e198f2c0a7f5",
   "metadata": {},
   "outputs": [
    {
     "data": {
      "text/plain": [
       "(1440,)"
      ]
     },
     "execution_count": 109,
     "metadata": {},
     "output_type": "execute_result"
    }
   ],
   "source": [
    "times.shape"
   ]
  },
  {
   "cell_type": "code",
   "execution_count": 110,
   "id": "071add07-2227-489d-8b96-59e549a5422d",
   "metadata": {},
   "outputs": [
    {
     "data": {
      "text/plain": [
       "(1440,)"
      ]
     },
     "execution_count": 110,
     "metadata": {},
     "output_type": "execute_result"
    }
   ],
   "source": [
    "all_Ys[10].shape"
   ]
  },
  {
   "cell_type": "code",
   "execution_count": 82,
   "id": "a068ab8c-8762-4f8e-824f-4fde2cb525be",
   "metadata": {},
   "outputs": [
    {
     "data": {
      "text/plain": [
       "[<matplotlib.lines.Line2D at 0x7f0e58f7f220>]"
      ]
     },
     "execution_count": 82,
     "metadata": {},
     "output_type": "execute_result"
    },
    {
     "data": {
      "image/png": "[encoded data removed]",
      "text/plain": [
       "<Figure size 432x288 with 1 Axes>"
      ]
     },
     "metadata": {
      "needs_background": "light"
     },
     "output_type": "display_data"
    }
   ],
   "source": [
    "# Slide arrays\n",
    "\n",
    "def slide(array, start=720, total=1440):\n",
    "    return np.array([array[start + ii % len(array)] for ii in range(total)])\n",
    "\n",
    "# ignore this\n",
    "all_Ys_mod = {bandwidth : slide(all_Ys[bandwidth]) for bandwidth in all_Ys.keys()}\n",
    "\n",
    "plt.plot(range(1440*3), data)"
   ]
  },
  {
   "cell_type": "code",
   "execution_count": 99,
   "id": "a022a8b6-0e43-441d-9c69-942cdb2b741b",
   "metadata": {},
   "outputs": [
    {
     "data": {
      "text/plain": [
       "[<matplotlib.lines.Line2D at 0x7f0e4aee8d30>]"
      ]
     },
     "execution_count": 99,
     "metadata": {},
     "output_type": "execute_result"
    },
    {
     "data": {
      "image/png": "[encoded data removed]",
      "text/plain": [
       "<Figure size 432x288 with 1 Axes>"
      ]
     },
     "metadata": {
      "needs_background": "light"
     },
     "output_type": "display_data"
    }
   ],
   "source": [
    "plt.plot(Xs, all_Ys[60])"
   ]
  },
  {
   "cell_type": "code",
   "execution_count": 93,
   "id": "eb246568-40af-45e4-9051-c2c323bda255",
   "metadata": {},
   "outputs": [
    {
     "data": {
      "text/plain": [
       "[<matplotlib.lines.Line2D at 0x7f0e58bfa970>]"
      ]
     },
     "execution_count": 93,
     "metadata": {},
     "output_type": "execute_result"
    },
    {
     "data": {
      "image/png": "[encoded data removed]",
      "text/plain": [
       "<Figure size 432x288 with 1 Axes>"
      ]
     },
     "metadata": {
      "needs_background": "light"
     },
     "output_type": "display_data"
    }
   ],
   "source": [
    "plt.plot(range(1440), all_Ys_mod[60])"
   ]
  },
  {
   "cell_type": "code",
   "execution_count": 87,
   "id": "ca4c283e-00c1-4f53-8dac-ddda44b858bd",
   "metadata": {},
   "outputs": [
    {
     "data": {
      "text/plain": [
       "[<matplotlib.lines.Line2D at 0x7f0e58deb970>]"
      ]
     },
     "execution_count": 87,
     "metadata": {},
     "output_type": "execute_result"
    },
    {
     "data": {
      "image/png": "[encoded data removed]",
      "text/plain": [
       "<Figure size 432x288 with 1 Axes>"
      ]
     },
     "metadata": {
      "needs_background": "light"
     },
     "output_type": "display_data"
    }
   ],
   "source": [
    "plt.plot(Xs[720:720+1440], all_Ys[60][720:720+1440])"
   ]
  },
  {
   "cell_type": "code",
   "execution_count": null,
   "id": "55b04b0d-d492-4c5d-af55-5784dd8922c2",
   "metadata": {},
   "outputs": [
    {
     "name": "stdout",
     "output_type": "stream",
     "text": [
      "Dash is running on http://127.0.0.1:12345/\n",
      "\n",
      "Dash is running on http://127.0.0.1:12345/\n",
      "\n",
      "Dash is running on http://127.0.0.1:12345/\n",
      "\n",
      " * Serving Flask app 'Hella World' (lazy loading)\n",
      " * Environment: production\n",
      "\u001b[31m   WARNING: This is a development server. Do not use it in a production deployment.\u001b[0m\n",
      "\u001b[2m   Use a production WSGI server instead.\u001b[0m\n",
      " * Debug mode: off\n"
     ]
    },
    {
     "name": "stderr",
     "output_type": "stream",
     "text": [
      " * Running on http://127.0.0.1:12345/ (Press CTRL+C to quit)\n",
      "127.0.0.1 - - [03/Nov/2021 16:29:03] \"GET / HTTP/1.1\" 200 -\n",
      "127.0.0.1 - - [03/Nov/2021 16:29:03] \"GET /_dash-layout HTTP/1.1\" 200 -\n",
      "127.0.0.1 - - [03/Nov/2021 16:29:03] \"GET /_dash-dependencies HTTP/1.1\" 200 -\n",
      "127.0.0.1 - - [03/Nov/2021 16:29:03] \"GET /_favicon.ico?v=2.0.0 HTTP/1.1\" 200 -\n",
      "127.0.0.1 - - [03/Nov/2021 16:29:03] \"GET /_dash-component-suites/dash/dcc/async-graph.js HTTP/1.1\" 200 -\n",
      "127.0.0.1 - - [03/Nov/2021 16:29:03] \"GET /_dash-component-suites/dash/dcc/async-plotlyjs.js HTTP/1.1\" 200 -\n"
     ]
    },
    {
     "name": "stdout",
     "output_type": "stream",
     "text": [
      "Exception on /_dash-update-component [POST]\n",
      "Traceback (most recent call last):\n",
      "  File \"/home/lynn/miniconda3/envs/5520/lib/python3.9/site-packages/flask/app.py\", line 2073, in wsgi_app\n",
      "    response = self.full_dispatch_request()\n",
      "  File \"/home/lynn/miniconda3/envs/5520/lib/python3.9/site-packages/flask/app.py\", line 1518, in full_dispatch_request\n",
      "    rv = self.handle_user_exception(e)\n",
      "  File \"/home/lynn/miniconda3/envs/5520/lib/python3.9/site-packages/flask/app.py\", line 1516, in full_dispatch_request\n",
      "    rv = self.dispatch_request()\n",
      "  File \"/home/lynn/miniconda3/envs/5520/lib/python3.9/site-packages/flask/app.py\", line 1502, in dispatch_request\n",
      "    return self.ensure_sync(self.view_functions[rule.endpoint])(**req.view_args)\n",
      "  File \"/home/lynn/miniconda3/envs/5520/lib/python3.9/site-packages/dash/dash.py\", line 1336, in dispatch\n",
      "    response.set_data(func(*args, outputs_list=outputs_list))\n",
      "  File \"/home/lynn/miniconda3/envs/5520/lib/python3.9/site-packages/dash/_callback.py\", line 151, in add_context\n",
      "    output_value = func(*func_args, **func_kwargs)  # %% callback invoked %%\n",
      "  File \"/tmp/ipykernel_14654/440770478.py\", line 32, in display_histogram\n",
      "    y=all_Ys[bandwidth],\n",
      "TypeError: unhashable type: 'list'\n",
      "Exception on /_dash-update-component [POST]\n",
      "Traceback (most recent call last):\n",
      "  File \"/home/lynn/miniconda3/envs/5520/lib/python3.9/site-packages/flask/app.py\", line 2073, in wsgi_app\n",
      "    response = self.full_dispatch_request()\n",
      "  File \"/home/lynn/miniconda3/envs/5520/lib/python3.9/site-packages/flask/app.py\", line 1518, in full_dispatch_request\n",
      "    rv = self.handle_user_exception(e)\n",
      "  File \"/home/lynn/miniconda3/envs/5520/lib/python3.9/site-packages/flask/app.py\", line 1516, in full_dispatch_request\n",
      "    rv = self.dispatch_request()\n",
      "  File \"/home/lynn/miniconda3/envs/5520/lib/python3.9/site-packages/flask/app.py\", line 1502, in dispatch_request\n",
      "    return self.ensure_sync(self.view_functions[rule.endpoint])(**req.view_args)\n",
      "  File \"/home/lynn/miniconda3/envs/5520/lib/python3.9/site-packages/dash/dash.py\", line 1336, in dispatch\n",
      "    response.set_data(func(*args, outputs_list=outputs_list))\n",
      "  File \"/home/lynn/miniconda3/envs/5520/lib/python3.9/site-packages/dash/_callback.py\", line 151, in add_context\n",
      "    output_value = func(*func_args, **func_kwargs)  # %% callback invoked %%\n",
      "  File \"/tmp/ipykernel_14654/440770478.py\", line 32, in display_histogram\n",
      "    y=all_Ys[bandwidth],\n",
      "TypeError: unhashable type: 'list'\n",
      "Exception on /_dash-update-component [POST]\n",
      "Traceback (most recent call last):\n",
      "  File \"/home/lynn/miniconda3/envs/5520/lib/python3.9/site-packages/flask/app.py\", line 2073, in wsgi_app\n",
      "    response = self.full_dispatch_request()\n",
      "  File \"/home/lynn/miniconda3/envs/5520/lib/python3.9/site-packages/flask/app.py\", line 1518, in full_dispatch_request\n",
      "    rv = self.handle_user_exception(e)\n",
      "  File \"/home/lynn/miniconda3/envs/5520/lib/python3.9/site-packages/flask/app.py\", line 1516, in full_dispatch_request\n",
      "    rv = self.dispatch_request()\n",
      "  File \"/home/lynn/miniconda3/envs/5520/lib/python3.9/site-packages/flask/app.py\", line 1502, in dispatch_request\n",
      "    return self.ensure_sync(self.view_functions[rule.endpoint])(**req.view_args)\n",
      "  File \"/home/lynn/miniconda3/envs/5520/lib/python3.9/site-packages/dash/dash.py\", line 1336, in dispatch\n",
      "    response.set_data(func(*args, outputs_list=outputs_list))\n",
      "  File \"/home/lynn/miniconda3/envs/5520/lib/python3.9/site-packages/dash/_callback.py\", line 151, in add_context\n",
      "    output_value = func(*func_args, **func_kwargs)  # %% callback invoked %%\n",
      "  File \"/tmp/ipykernel_14654/440770478.py\", line 32, in display_histogram\n",
      "    y=all_Ys[bandwidth],\n",
      "TypeError: unhashable type: 'list'\n"
     ]
    },
    {
     "name": "stderr",
     "output_type": "stream",
     "text": [
      "127.0.0.1 - - [03/Nov/2021 16:29:03] \"\u001b[35m\u001b[1mPOST /_dash-update-component HTTP/1.1\u001b[0m\" 500 -\n",
      "127.0.0.1 - - [03/Nov/2021 16:29:04] \"POST /_dash-update-component HTTP/1.1\" 200 -\n",
      "127.0.0.1 - - [03/Nov/2021 16:29:22] \"GET / HTTP/1.1\" 200 -\n",
      "127.0.0.1 - - [03/Nov/2021 16:29:22] \"GET /_dash-layout HTTP/1.1\" 200 -\n",
      "127.0.0.1 - - [03/Nov/2021 16:29:22] \"GET /_dash-dependencies HTTP/1.1\" 200 -\n",
      "127.0.0.1 - - [03/Nov/2021 16:29:22] \"GET /_favicon.ico?v=2.0.0 HTTP/1.1\" 200 -\n"
     ]
    },
    {
     "name": "stdout",
     "output_type": "stream",
     "text": [
      "Exception on /_dash-update-component [POST]\n",
      "Traceback (most recent call last):\n",
      "  File \"/home/lynn/miniconda3/envs/5520/lib/python3.9/site-packages/flask/app.py\", line 2073, in wsgi_app\n",
      "    response = self.full_dispatch_request()\n",
      "  File \"/home/lynn/miniconda3/envs/5520/lib/python3.9/site-packages/flask/app.py\", line 1518, in full_dispatch_request\n",
      "    rv = self.handle_user_exception(e)\n",
      "  File \"/home/lynn/miniconda3/envs/5520/lib/python3.9/site-packages/flask/app.py\", line 1516, in full_dispatch_request\n",
      "    rv = self.dispatch_request()\n",
      "  File \"/home/lynn/miniconda3/envs/5520/lib/python3.9/site-packages/flask/app.py\", line 1502, in dispatch_request\n",
      "    return self.ensure_sync(self.view_functions[rule.endpoint])(**req.view_args)\n",
      "  File \"/home/lynn/miniconda3/envs/5520/lib/python3.9/site-packages/dash/dash.py\", line 1336, in dispatch\n",
      "    response.set_data(func(*args, outputs_list=outputs_list))\n",
      "  File \"/home/lynn/miniconda3/envs/5520/lib/python3.9/site-packages/dash/_callback.py\", line 151, in add_context\n",
      "    output_value = func(*func_args, **func_kwargs)  # %% callback invoked %%\n",
      "  File \"/tmp/ipykernel_14654/440770478.py\", line 32, in display_histogram\n",
      "    y=all_Ys[bandwidth],\n",
      "TypeError: unhashable type: 'list'\n"
     ]
    },
    {
     "name": "stderr",
     "output_type": "stream",
     "text": [
      "127.0.0.1 - - [03/Nov/2021 16:29:22] \"GET /_dash-component-suites/dash/dcc/async-graph.js HTTP/1.1\" 200 -\n"
     ]
    },
    {
     "name": "stdout",
     "output_type": "stream",
     "text": [
      "Exception on /_dash-update-component [POST]\n",
      "Traceback (most recent call last):\n",
      "  File \"/home/lynn/miniconda3/envs/5520/lib/python3.9/site-packages/flask/app.py\", line 2073, in wsgi_app\n",
      "    response = self.full_dispatch_request()\n",
      "  File \"/home/lynn/miniconda3/envs/5520/lib/python3.9/site-packages/flask/app.py\", line 1518, in full_dispatch_request\n",
      "    rv = self.handle_user_exception(e)\n",
      "  File \"/home/lynn/miniconda3/envs/5520/lib/python3.9/site-packages/flask/app.py\", line 1516, in full_dispatch_request\n",
      "    rv = self.dispatch_request()\n",
      "  File \"/home/lynn/miniconda3/envs/5520/lib/python3.9/site-packages/flask/app.py\", line 1502, in dispatch_request\n",
      "    return self.ensure_sync(self.view_functions[rule.endpoint])(**req.view_args)\n",
      "  File \"/home/lynn/miniconda3/envs/5520/lib/python3.9/site-packages/dash/dash.py\", line 1336, in dispatch\n",
      "    response.set_data(func(*args, outputs_list=outputs_list))\n",
      "  File \"/home/lynn/miniconda3/envs/5520/lib/python3.9/site-packages/dash/_callback.py\", line 151, in add_context\n",
      "    output_value = func(*func_args, **func_kwargs)  # %% callback invoked %%\n",
      "  File \"/tmp/ipykernel_14654/440770478.py\", line 32, in display_histogram\n",
      "    y=all_Ys[bandwidth],\n",
      "TypeError: unhashable type: 'list'\n",
      "Exception on /_dash-update-component [POST]\n",
      "Traceback (most recent call last):\n",
      "  File \"/home/lynn/miniconda3/envs/5520/lib/python3.9/site-packages/flask/app.py\", line 2073, in wsgi_app\n",
      "    response = self.full_dispatch_request()\n",
      "  File \"/home/lynn/miniconda3/envs/5520/lib/python3.9/site-packages/flask/app.py\", line 1518, in full_dispatch_request\n",
      "    rv = self.handle_user_exception(e)\n",
      "  File \"/home/lynn/miniconda3/envs/5520/lib/python3.9/site-packages/flask/app.py\", line 1516, in full_dispatch_request\n",
      "    rv = self.dispatch_request()\n",
      "  File \"/home/lynn/miniconda3/envs/5520/lib/python3.9/site-packages/flask/app.py\", line 1502, in dispatch_request\n",
      "    return self.ensure_sync(self.view_functions[rule.endpoint])(**req.view_args)\n",
      "  File \"/home/lynn/miniconda3/envs/5520/lib/python3.9/site-packages/dash/dash.py\", line 1336, in dispatch\n",
      "    response.set_data(func(*args, outputs_list=outputs_list))\n",
      "  File \"/home/lynn/miniconda3/envs/5520/lib/python3.9/site-packages/dash/_callback.py\", line 151, in add_context\n",
      "    output_value = func(*func_args, **func_kwargs)  # %% callback invoked %%\n",
      "  File \"/tmp/ipykernel_14654/440770478.py\", line 32, in display_histogram\n",
      "    y=all_Ys[bandwidth],\n",
      "TypeError: unhashable type: 'list'\n"
     ]
    },
    {
     "name": "stderr",
     "output_type": "stream",
     "text": [
      "127.0.0.1 - - [03/Nov/2021 16:29:22] \"\u001b[35m\u001b[1mPOST /_dash-update-component HTTP/1.1\u001b[0m\" 500 -\n",
      "127.0.0.1 - - [03/Nov/2021 16:29:22] \"GET /_dash-component-suites/dash/dcc/async-plotlyjs.js HTTP/1.1\" 200 -\n",
      "127.0.0.1 - - [03/Nov/2021 16:51:55] \"POST /_dash-update-component HTTP/1.1\" 200 -\n",
      "127.0.0.1 - - [03/Nov/2021 16:51:56] \"POST /_dash-update-component HTTP/1.1\" 200 -\n",
      "127.0.0.1 - - [03/Nov/2021 16:51:56] \"POST /_dash-update-component HTTP/1.1\" 200 -\n",
      "127.0.0.1 - - [03/Nov/2021 16:51:57] \"POST /_dash-update-component HTTP/1.1\" 200 -\n",
      "127.0.0.1 - - [03/Nov/2021 17:02:13] \"POST /_dash-update-component HTTP/1.1\" 200 -\n",
      "127.0.0.1 - - [03/Nov/2021 17:02:13] \"POST /_dash-update-component HTTP/1.1\" 200 -\n",
      "127.0.0.1 - - [03/Nov/2021 17:02:14] \"POST /_dash-update-component HTTP/1.1\" 200 -\n",
      "127.0.0.1 - - [03/Nov/2021 17:02:20] \"POST /_dash-update-component HTTP/1.1\" 200 -\n",
      "127.0.0.1 - - [03/Nov/2021 17:02:20] \"POST /_dash-update-component HTTP/1.1\" 200 -\n",
      "127.0.0.1 - - [03/Nov/2021 17:10:20] \"POST /_dash-update-component HTTP/1.1\" 200 -\n",
      "127.0.0.1 - - [03/Nov/2021 17:10:21] \"POST /_dash-update-component HTTP/1.1\" 200 -\n",
      "127.0.0.1 - - [03/Nov/2021 17:48:44] \"POST /_dash-update-component HTTP/1.1\" 200 -\n",
      "127.0.0.1 - - [03/Nov/2021 17:48:45] \"POST /_dash-update-component HTTP/1.1\" 200 -\n",
      "127.0.0.1 - - [03/Nov/2021 17:48:45] \"POST /_dash-update-component HTTP/1.1\" 200 -\n",
      "127.0.0.1 - - [03/Nov/2021 17:48:45] \"POST /_dash-update-component HTTP/1.1\" 200 -\n",
      "127.0.0.1 - - [03/Nov/2021 18:54:46] \"POST /_dash-update-component HTTP/1.1\" 200 -\n",
      "127.0.0.1 - - [03/Nov/2021 18:54:47] \"POST /_dash-update-component HTTP/1.1\" 200 -\n",
      "127.0.0.1 - - [03/Nov/2021 19:07:21] \"POST /_dash-update-component HTTP/1.1\" 200 -\n",
      "127.0.0.1 - - [03/Nov/2021 19:07:22] \"POST /_dash-update-component HTTP/1.1\" 200 -\n"
     ]
    }
   ],
   "source": [
    "app = dash.Dash(name=\"Hella World\")\n",
    "\n",
    "app.layout = html.Div(\n",
    "    [\n",
    "        html.Div(\n",
    "            [\n",
    "                html.P(\"Kernel Bandwidth\"),\n",
    "                dcc.RadioItems(\n",
    "                    id = \"bandwidth\",\n",
    "                    options = [{'value' : x, 'label' : x} for x in bandwidths],\n",
    "                    value = [0.3],\n",
    "                    labelStyle = {'display' : 'inline-block'}\n",
    "                )\n",
    "            ]\n",
    "        ),\n",
    "        dcc.Graph(\n",
    "            id = \"plot\",\n",
    "            style = {'width' : '60%', 'display' : 'inline-block'},\n",
    "            clear_on_unhover = True\n",
    "        )\n",
    "    ],\n",
    "    style = {'width': '100%', 'display': 'inline-block'}\n",
    ")\n",
    "\n",
    "@app.callback(\n",
    "    Output(\"plot\", \"figure\"),\n",
    "    [Input(\"bandwidth\", \"value\")]\n",
    ")\n",
    "def display_histogram(bandwidth=0.3):\n",
    "    fig = px.line(\n",
    "        x=Xs,\n",
    "        y=all_Ys[bandwidth],\n",
    "        title = f\"KDE of accidents with bandwidth {bandwidth:.2f}\"\n",
    "    )\n",
    "    return fig\n",
    "\n",
    "app.run_server(port=12345, debug=False)"
   ]
  },
  {
   "cell_type": "code",
   "execution_count": null,
   "id": "0a6344fc-1cf0-410d-a1f1-2b9ad9637dde",
   "metadata": {},
   "outputs": [],
   "source": []
  },
  {
   "cell_type": "code",
   "execution_count": 18,
   "id": "85706e90-4840-454e-9af2-0c617c69cf2a",
   "metadata": {},
   "outputs": [
    {
     "data": {
      "text/plain": [
       "'2016-02-08 00:37:08'"
      ]
     },
     "execution_count": 18,
     "metadata": {},
     "output_type": "execute_result"
    }
   ],
   "source": [
    "st = df.loc[0]['Start_Time']\n",
    "st"
   ]
  },
  {
   "cell_type": "code",
   "execution_count": 24,
   "id": "2ac66755-4ff7-4510-8cfa-382e046380ea",
   "metadata": {},
   "outputs": [
    {
     "data": {
      "text/plain": [
       "0"
      ]
     },
     "execution_count": 24,
     "metadata": {},
     "output_type": "execute_result"
    }
   ],
   "source": [
    "at = dt.datetime.fromisoformat(st)\n",
    "\n",
    "at.hour"
   ]
  },
  {
   "cell_type": "code",
   "execution_count": null,
   "id": "4e1e7f60-afc3-43df-9a58-833ff4a7df9b",
   "metadata": {},
   "outputs": [],
   "source": []
  },
  {
   "cell_type": "code",
   "execution_count": 19,
   "id": "611637e7-d6d7-40d6-8a92-94049badfa3e",
   "metadata": {},
   "outputs": [
    {
     "data": {
      "text/plain": [
       "1516064"
      ]
     },
     "execution_count": 19,
     "metadata": {},
     "output_type": "execute_result"
    }
   ],
   "source": [
    "len(df)"
   ]
  },
  {
   "cell_type": "markdown",
   "id": "daae6199-c5a9-4054-a217-79c90443e17c",
   "metadata": {},
   "source": [
    "# 2. KDE dashboard"
   ]
  },
  {
   "cell_type": "code",
   "execution_count": null,
   "id": "b3322feb-b240-411e-98f8-e1cc1376e509",
   "metadata": {},
   "outputs": [],
   "source": []
  }
 ],
 "metadata": {
  "kernelspec": {
   "display_name": "Python 3 (ipykernel)",
   "language": "python",
   "name": "python3"
  },
  "language_info": {
   "codemirror_mode": {
    "name": "ipython",
    "version": 3
   },
   "file_extension": ".py",
   "mimetype": "text/x-python",
   "name": "python",
   "nbconvert_exporter": "python",
   "pygments_lexer": "ipython3",
   "version": "3.9.6"
  }
 },
 "nbformat": 4,
 "nbformat_minor": 5
}
